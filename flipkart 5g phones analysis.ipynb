{
 "cells": [
  {
   "cell_type": "code",
   "execution_count": 46,
   "id": "f85c87f7",
   "metadata": {},
   "outputs": [],
   "source": [
    "import pandas as pd\n",
    "import numpy as np\n",
    "import seaborn as sns\n",
    "import matplotlib.pyplot as plt\n",
    "import plotly.express as px\n",
    "import plotly.graph_objects as go\n",
    "import plotly.figure_factory as ff\n",
    "%matplotlib inline"
   ]
  },
  {
   "cell_type": "code",
   "execution_count": 2,
   "id": "7d2a82c7",
   "metadata": {},
   "outputs": [],
   "source": [
    "df = pd.read_json(\"5gPhones_Cleaned.json\")"
   ]
  },
  {
   "cell_type": "code",
   "execution_count": 7,
   "id": "1e6fd8dc",
   "metadata": {},
   "outputs": [
    {
     "data": {
      "text/html": [
       "<div>\n",
       "<style scoped>\n",
       "    .dataframe tbody tr th:only-of-type {\n",
       "        vertical-align: middle;\n",
       "    }\n",
       "\n",
       "    .dataframe tbody tr th {\n",
       "        vertical-align: top;\n",
       "    }\n",
       "\n",
       "    .dataframe thead th {\n",
       "        text-align: right;\n",
       "    }\n",
       "</style>\n",
       "<table border=\"1\" class=\"dataframe\">\n",
       "  <thead>\n",
       "    <tr style=\"text-align: right;\">\n",
       "      <th></th>\n",
       "      <th>name</th>\n",
       "      <th>processed_battery</th>\n",
       "      <th>ram_processed</th>\n",
       "      <th>rom_processed</th>\n",
       "      <th>back_camera_processed</th>\n",
       "      <th>front_camera_processed</th>\n",
       "      <th>screen_processed</th>\n",
       "      <th>brand</th>\n",
       "      <th>price_processed</th>\n",
       "    </tr>\n",
       "  </thead>\n",
       "  <tbody>\n",
       "    <tr>\n",
       "      <th>253</th>\n",
       "      <td>SAMSUNG Galaxy M53 5G (Emerald Brown, 128 GB)</td>\n",
       "      <td>5000</td>\n",
       "      <td>6</td>\n",
       "      <td>128</td>\n",
       "      <td>108</td>\n",
       "      <td>NaN</td>\n",
       "      <td>17.02</td>\n",
       "      <td>SAMSUNG</td>\n",
       "      <td>24385</td>\n",
       "    </tr>\n",
       "    <tr>\n",
       "      <th>54</th>\n",
       "      <td>realme GT 2 (Paper White, 128 GB)</td>\n",
       "      <td>5000</td>\n",
       "      <td>8</td>\n",
       "      <td>128</td>\n",
       "      <td>50</td>\n",
       "      <td>16.0</td>\n",
       "      <td>16.81</td>\n",
       "      <td>realme</td>\n",
       "      <td>23999</td>\n",
       "    </tr>\n",
       "    <tr>\n",
       "      <th>267</th>\n",
       "      <td>REDMI Note 11T 5G (Aquamarine Blue, 128 GB)</td>\n",
       "      <td>5000</td>\n",
       "      <td>6</td>\n",
       "      <td>128</td>\n",
       "      <td>50</td>\n",
       "      <td>NaN</td>\n",
       "      <td>16.76</td>\n",
       "      <td>REDMI</td>\n",
       "      <td>18500</td>\n",
       "    </tr>\n",
       "    <tr>\n",
       "      <th>490</th>\n",
       "      <td>realme GT NEO 3 (150W) (Sprint White, 256 GB)</td>\n",
       "      <td>4500</td>\n",
       "      <td>12</td>\n",
       "      <td>256</td>\n",
       "      <td>50</td>\n",
       "      <td>16.0</td>\n",
       "      <td>17.02</td>\n",
       "      <td>realme</td>\n",
       "      <td>42999</td>\n",
       "    </tr>\n",
       "    <tr>\n",
       "      <th>534</th>\n",
       "      <td>OnePlus 9 Pro 5G (Morning Mist, 256 GB)</td>\n",
       "      <td>4500</td>\n",
       "      <td>12</td>\n",
       "      <td>256</td>\n",
       "      <td>48</td>\n",
       "      <td>NaN</td>\n",
       "      <td>17.02</td>\n",
       "      <td>OnePlus</td>\n",
       "      <td>47999</td>\n",
       "    </tr>\n",
       "  </tbody>\n",
       "</table>\n",
       "</div>"
      ],
      "text/plain": [
       "                                              name  processed_battery  \\\n",
       "253  SAMSUNG Galaxy M53 5G (Emerald Brown, 128 GB)               5000   \n",
       "54               realme GT 2 (Paper White, 128 GB)               5000   \n",
       "267    REDMI Note 11T 5G (Aquamarine Blue, 128 GB)               5000   \n",
       "490  realme GT NEO 3 (150W) (Sprint White, 256 GB)               4500   \n",
       "534        OnePlus 9 Pro 5G (Morning Mist, 256 GB)               4500   \n",
       "\n",
       "     ram_processed  rom_processed  back_camera_processed  \\\n",
       "253              6            128                    108   \n",
       "54               8            128                     50   \n",
       "267              6            128                     50   \n",
       "490             12            256                     50   \n",
       "534             12            256                     48   \n",
       "\n",
       "     front_camera_processed  screen_processed    brand  price_processed  \n",
       "253                     NaN             17.02  SAMSUNG            24385  \n",
       "54                     16.0             16.81   realme            23999  \n",
       "267                     NaN             16.76    REDMI            18500  \n",
       "490                    16.0             17.02   realme            42999  \n",
       "534                     NaN             17.02  OnePlus            47999  "
      ]
     },
     "execution_count": 7,
     "metadata": {},
     "output_type": "execute_result"
    }
   ],
   "source": [
    "df.sample(5)"
   ]
  },
  {
   "cell_type": "code",
   "execution_count": 8,
   "id": "6ef0dd03",
   "metadata": {},
   "outputs": [
    {
     "data": {
      "text/html": [
       "<div>\n",
       "<style scoped>\n",
       "    .dataframe tbody tr th:only-of-type {\n",
       "        vertical-align: middle;\n",
       "    }\n",
       "\n",
       "    .dataframe tbody tr th {\n",
       "        vertical-align: top;\n",
       "    }\n",
       "\n",
       "    .dataframe thead th {\n",
       "        text-align: right;\n",
       "    }\n",
       "</style>\n",
       "<table border=\"1\" class=\"dataframe\">\n",
       "  <thead>\n",
       "    <tr style=\"text-align: right;\">\n",
       "      <th></th>\n",
       "      <th>processed_battery</th>\n",
       "      <th>ram_processed</th>\n",
       "      <th>rom_processed</th>\n",
       "      <th>back_camera_processed</th>\n",
       "      <th>front_camera_processed</th>\n",
       "      <th>screen_processed</th>\n",
       "      <th>price_processed</th>\n",
       "    </tr>\n",
       "  </thead>\n",
       "  <tbody>\n",
       "    <tr>\n",
       "      <th>count</th>\n",
       "      <td>618.000000</td>\n",
       "      <td>618.00000</td>\n",
       "      <td>618.000000</td>\n",
       "      <td>618.000000</td>\n",
       "      <td>440.000000</td>\n",
       "      <td>618.000000</td>\n",
       "      <td>618.000000</td>\n",
       "    </tr>\n",
       "    <tr>\n",
       "      <th>mean</th>\n",
       "      <td>5077.682848</td>\n",
       "      <td>7.87055</td>\n",
       "      <td>161.553398</td>\n",
       "      <td>61.106796</td>\n",
       "      <td>21.765909</td>\n",
       "      <td>16.859984</td>\n",
       "      <td>30103.035599</td>\n",
       "    </tr>\n",
       "    <tr>\n",
       "      <th>std</th>\n",
       "      <td>3162.028533</td>\n",
       "      <td>2.29072</td>\n",
       "      <td>66.399663</td>\n",
       "      <td>30.231118</td>\n",
       "      <td>15.063184</td>\n",
       "      <td>1.468116</td>\n",
       "      <td>17702.094928</td>\n",
       "    </tr>\n",
       "    <tr>\n",
       "      <th>min</th>\n",
       "      <td>4000.000000</td>\n",
       "      <td>4.00000</td>\n",
       "      <td>64.000000</td>\n",
       "      <td>5.000000</td>\n",
       "      <td>8.000000</td>\n",
       "      <td>15.490000</td>\n",
       "      <td>11499.000000</td>\n",
       "    </tr>\n",
       "    <tr>\n",
       "      <th>25%</th>\n",
       "      <td>4500.000000</td>\n",
       "      <td>6.00000</td>\n",
       "      <td>128.000000</td>\n",
       "      <td>50.000000</td>\n",
       "      <td>13.000000</td>\n",
       "      <td>16.640000</td>\n",
       "      <td>18124.000000</td>\n",
       "    </tr>\n",
       "    <tr>\n",
       "      <th>50%</th>\n",
       "      <td>5000.000000</td>\n",
       "      <td>8.00000</td>\n",
       "      <td>128.000000</td>\n",
       "      <td>50.000000</td>\n",
       "      <td>16.000000</td>\n",
       "      <td>16.760000</td>\n",
       "      <td>25999.000000</td>\n",
       "    </tr>\n",
       "    <tr>\n",
       "      <th>75%</th>\n",
       "      <td>5000.000000</td>\n",
       "      <td>8.00000</td>\n",
       "      <td>256.000000</td>\n",
       "      <td>64.000000</td>\n",
       "      <td>32.000000</td>\n",
       "      <td>17.020000</td>\n",
       "      <td>34999.000000</td>\n",
       "    </tr>\n",
       "    <tr>\n",
       "      <th>max</th>\n",
       "      <td>50000.000000</td>\n",
       "      <td>16.00000</td>\n",
       "      <td>512.000000</td>\n",
       "      <td>200.000000</td>\n",
       "      <td>108.000000</td>\n",
       "      <td>41.940000</td>\n",
       "      <td>164989.000000</td>\n",
       "    </tr>\n",
       "  </tbody>\n",
       "</table>\n",
       "</div>"
      ],
      "text/plain": [
       "       processed_battery  ram_processed  rom_processed  back_camera_processed  \\\n",
       "count         618.000000      618.00000     618.000000             618.000000   \n",
       "mean         5077.682848        7.87055     161.553398              61.106796   \n",
       "std          3162.028533        2.29072      66.399663              30.231118   \n",
       "min          4000.000000        4.00000      64.000000               5.000000   \n",
       "25%          4500.000000        6.00000     128.000000              50.000000   \n",
       "50%          5000.000000        8.00000     128.000000              50.000000   \n",
       "75%          5000.000000        8.00000     256.000000              64.000000   \n",
       "max         50000.000000       16.00000     512.000000             200.000000   \n",
       "\n",
       "       front_camera_processed  screen_processed  price_processed  \n",
       "count              440.000000        618.000000       618.000000  \n",
       "mean                21.765909         16.859984     30103.035599  \n",
       "std                 15.063184          1.468116     17702.094928  \n",
       "min                  8.000000         15.490000     11499.000000  \n",
       "25%                 13.000000         16.640000     18124.000000  \n",
       "50%                 16.000000         16.760000     25999.000000  \n",
       "75%                 32.000000         17.020000     34999.000000  \n",
       "max                108.000000         41.940000    164989.000000  "
      ]
     },
     "execution_count": 8,
     "metadata": {},
     "output_type": "execute_result"
    }
   ],
   "source": [
    "df.describe()"
   ]
  },
  {
   "cell_type": "code",
   "execution_count": 21,
   "id": "cdaee05d",
   "metadata": {},
   "outputs": [
    {
     "data": {
      "application/vnd.plotly.v1+json": {
       "config": {
        "plotlyServerURL": "https://plot.ly"
       },
       "data": [
        {
         "domain": {
          "x": [
           0,
           1
          ],
          "y": [
           0,
           1
          ]
         },
         "hovertemplate": "ram=%{label}<br>count=%{value}<extra></extra>",
         "labels": [
          8,
          6,
          12,
          4,
          16
         ],
         "legendgroup": "",
         "name": "",
         "showlegend": true,
         "type": "pie",
         "values": [
          322,
          148,
          92,
          50,
          6
         ]
        }
       ],
       "layout": {
        "legend": {
         "tracegroupgap": 0
        },
        "piecolorway": [
         "#EE7600",
         "#66b3ff",
         "#99ff99",
         "#ffcc99",
         "#698B69"
        ],
        "template": {
         "data": {
          "bar": [
           {
            "error_x": {
             "color": "#2a3f5f"
            },
            "error_y": {
             "color": "#2a3f5f"
            },
            "marker": {
             "line": {
              "color": "#E5ECF6",
              "width": 0.5
             },
             "pattern": {
              "fillmode": "overlay",
              "size": 10,
              "solidity": 0.2
             }
            },
            "type": "bar"
           }
          ],
          "barpolar": [
           {
            "marker": {
             "line": {
              "color": "#E5ECF6",
              "width": 0.5
             },
             "pattern": {
              "fillmode": "overlay",
              "size": 10,
              "solidity": 0.2
             }
            },
            "type": "barpolar"
           }
          ],
          "carpet": [
           {
            "aaxis": {
             "endlinecolor": "#2a3f5f",
             "gridcolor": "white",
             "linecolor": "white",
             "minorgridcolor": "white",
             "startlinecolor": "#2a3f5f"
            },
            "baxis": {
             "endlinecolor": "#2a3f5f",
             "gridcolor": "white",
             "linecolor": "white",
             "minorgridcolor": "white",
             "startlinecolor": "#2a3f5f"
            },
            "type": "carpet"
           }
          ],
          "choropleth": [
           {
            "colorbar": {
             "outlinewidth": 0,
             "ticks": ""
            },
            "type": "choropleth"
           }
          ],
          "contour": [
           {
            "colorbar": {
             "outlinewidth": 0,
             "ticks": ""
            },
            "colorscale": [
             [
              0,
              "#0d0887"
             ],
             [
              0.1111111111111111,
              "#46039f"
             ],
             [
              0.2222222222222222,
              "#7201a8"
             ],
             [
              0.3333333333333333,
              "#9c179e"
             ],
             [
              0.4444444444444444,
              "#bd3786"
             ],
             [
              0.5555555555555556,
              "#d8576b"
             ],
             [
              0.6666666666666666,
              "#ed7953"
             ],
             [
              0.7777777777777778,
              "#fb9f3a"
             ],
             [
              0.8888888888888888,
              "#fdca26"
             ],
             [
              1,
              "#f0f921"
             ]
            ],
            "type": "contour"
           }
          ],
          "contourcarpet": [
           {
            "colorbar": {
             "outlinewidth": 0,
             "ticks": ""
            },
            "type": "contourcarpet"
           }
          ],
          "heatmap": [
           {
            "colorbar": {
             "outlinewidth": 0,
             "ticks": ""
            },
            "colorscale": [
             [
              0,
              "#0d0887"
             ],
             [
              0.1111111111111111,
              "#46039f"
             ],
             [
              0.2222222222222222,
              "#7201a8"
             ],
             [
              0.3333333333333333,
              "#9c179e"
             ],
             [
              0.4444444444444444,
              "#bd3786"
             ],
             [
              0.5555555555555556,
              "#d8576b"
             ],
             [
              0.6666666666666666,
              "#ed7953"
             ],
             [
              0.7777777777777778,
              "#fb9f3a"
             ],
             [
              0.8888888888888888,
              "#fdca26"
             ],
             [
              1,
              "#f0f921"
             ]
            ],
            "type": "heatmap"
           }
          ],
          "heatmapgl": [
           {
            "colorbar": {
             "outlinewidth": 0,
             "ticks": ""
            },
            "colorscale": [
             [
              0,
              "#0d0887"
             ],
             [
              0.1111111111111111,
              "#46039f"
             ],
             [
              0.2222222222222222,
              "#7201a8"
             ],
             [
              0.3333333333333333,
              "#9c179e"
             ],
             [
              0.4444444444444444,
              "#bd3786"
             ],
             [
              0.5555555555555556,
              "#d8576b"
             ],
             [
              0.6666666666666666,
              "#ed7953"
             ],
             [
              0.7777777777777778,
              "#fb9f3a"
             ],
             [
              0.8888888888888888,
              "#fdca26"
             ],
             [
              1,
              "#f0f921"
             ]
            ],
            "type": "heatmapgl"
           }
          ],
          "histogram": [
           {
            "marker": {
             "pattern": {
              "fillmode": "overlay",
              "size": 10,
              "solidity": 0.2
             }
            },
            "type": "histogram"
           }
          ],
          "histogram2d": [
           {
            "colorbar": {
             "outlinewidth": 0,
             "ticks": ""
            },
            "colorscale": [
             [
              0,
              "#0d0887"
             ],
             [
              0.1111111111111111,
              "#46039f"
             ],
             [
              0.2222222222222222,
              "#7201a8"
             ],
             [
              0.3333333333333333,
              "#9c179e"
             ],
             [
              0.4444444444444444,
              "#bd3786"
             ],
             [
              0.5555555555555556,
              "#d8576b"
             ],
             [
              0.6666666666666666,
              "#ed7953"
             ],
             [
              0.7777777777777778,
              "#fb9f3a"
             ],
             [
              0.8888888888888888,
              "#fdca26"
             ],
             [
              1,
              "#f0f921"
             ]
            ],
            "type": "histogram2d"
           }
          ],
          "histogram2dcontour": [
           {
            "colorbar": {
             "outlinewidth": 0,
             "ticks": ""
            },
            "colorscale": [
             [
              0,
              "#0d0887"
             ],
             [
              0.1111111111111111,
              "#46039f"
             ],
             [
              0.2222222222222222,
              "#7201a8"
             ],
             [
              0.3333333333333333,
              "#9c179e"
             ],
             [
              0.4444444444444444,
              "#bd3786"
             ],
             [
              0.5555555555555556,
              "#d8576b"
             ],
             [
              0.6666666666666666,
              "#ed7953"
             ],
             [
              0.7777777777777778,
              "#fb9f3a"
             ],
             [
              0.8888888888888888,
              "#fdca26"
             ],
             [
              1,
              "#f0f921"
             ]
            ],
            "type": "histogram2dcontour"
           }
          ],
          "mesh3d": [
           {
            "colorbar": {
             "outlinewidth": 0,
             "ticks": ""
            },
            "type": "mesh3d"
           }
          ],
          "parcoords": [
           {
            "line": {
             "colorbar": {
              "outlinewidth": 0,
              "ticks": ""
             }
            },
            "type": "parcoords"
           }
          ],
          "pie": [
           {
            "automargin": true,
            "type": "pie"
           }
          ],
          "scatter": [
           {
            "fillpattern": {
             "fillmode": "overlay",
             "size": 10,
             "solidity": 0.2
            },
            "type": "scatter"
           }
          ],
          "scatter3d": [
           {
            "line": {
             "colorbar": {
              "outlinewidth": 0,
              "ticks": ""
             }
            },
            "marker": {
             "colorbar": {
              "outlinewidth": 0,
              "ticks": ""
             }
            },
            "type": "scatter3d"
           }
          ],
          "scattercarpet": [
           {
            "marker": {
             "colorbar": {
              "outlinewidth": 0,
              "ticks": ""
             }
            },
            "type": "scattercarpet"
           }
          ],
          "scattergeo": [
           {
            "marker": {
             "colorbar": {
              "outlinewidth": 0,
              "ticks": ""
             }
            },
            "type": "scattergeo"
           }
          ],
          "scattergl": [
           {
            "marker": {
             "colorbar": {
              "outlinewidth": 0,
              "ticks": ""
             }
            },
            "type": "scattergl"
           }
          ],
          "scattermapbox": [
           {
            "marker": {
             "colorbar": {
              "outlinewidth": 0,
              "ticks": ""
             }
            },
            "type": "scattermapbox"
           }
          ],
          "scatterpolar": [
           {
            "marker": {
             "colorbar": {
              "outlinewidth": 0,
              "ticks": ""
             }
            },
            "type": "scatterpolar"
           }
          ],
          "scatterpolargl": [
           {
            "marker": {
             "colorbar": {
              "outlinewidth": 0,
              "ticks": ""
             }
            },
            "type": "scatterpolargl"
           }
          ],
          "scatterternary": [
           {
            "marker": {
             "colorbar": {
              "outlinewidth": 0,
              "ticks": ""
             }
            },
            "type": "scatterternary"
           }
          ],
          "surface": [
           {
            "colorbar": {
             "outlinewidth": 0,
             "ticks": ""
            },
            "colorscale": [
             [
              0,
              "#0d0887"
             ],
             [
              0.1111111111111111,
              "#46039f"
             ],
             [
              0.2222222222222222,
              "#7201a8"
             ],
             [
              0.3333333333333333,
              "#9c179e"
             ],
             [
              0.4444444444444444,
              "#bd3786"
             ],
             [
              0.5555555555555556,
              "#d8576b"
             ],
             [
              0.6666666666666666,
              "#ed7953"
             ],
             [
              0.7777777777777778,
              "#fb9f3a"
             ],
             [
              0.8888888888888888,
              "#fdca26"
             ],
             [
              1,
              "#f0f921"
             ]
            ],
            "type": "surface"
           }
          ],
          "table": [
           {
            "cells": {
             "fill": {
              "color": "#EBF0F8"
             },
             "line": {
              "color": "white"
             }
            },
            "header": {
             "fill": {
              "color": "#C8D4E3"
             },
             "line": {
              "color": "white"
             }
            },
            "type": "table"
           }
          ]
         },
         "layout": {
          "annotationdefaults": {
           "arrowcolor": "#2a3f5f",
           "arrowhead": 0,
           "arrowwidth": 1
          },
          "autotypenumbers": "strict",
          "coloraxis": {
           "colorbar": {
            "outlinewidth": 0,
            "ticks": ""
           }
          },
          "colorscale": {
           "diverging": [
            [
             0,
             "#8e0152"
            ],
            [
             0.1,
             "#c51b7d"
            ],
            [
             0.2,
             "#de77ae"
            ],
            [
             0.3,
             "#f1b6da"
            ],
            [
             0.4,
             "#fde0ef"
            ],
            [
             0.5,
             "#f7f7f7"
            ],
            [
             0.6,
             "#e6f5d0"
            ],
            [
             0.7,
             "#b8e186"
            ],
            [
             0.8,
             "#7fbc41"
            ],
            [
             0.9,
             "#4d9221"
            ],
            [
             1,
             "#276419"
            ]
           ],
           "sequential": [
            [
             0,
             "#0d0887"
            ],
            [
             0.1111111111111111,
             "#46039f"
            ],
            [
             0.2222222222222222,
             "#7201a8"
            ],
            [
             0.3333333333333333,
             "#9c179e"
            ],
            [
             0.4444444444444444,
             "#bd3786"
            ],
            [
             0.5555555555555556,
             "#d8576b"
            ],
            [
             0.6666666666666666,
             "#ed7953"
            ],
            [
             0.7777777777777778,
             "#fb9f3a"
            ],
            [
             0.8888888888888888,
             "#fdca26"
            ],
            [
             1,
             "#f0f921"
            ]
           ],
           "sequentialminus": [
            [
             0,
             "#0d0887"
            ],
            [
             0.1111111111111111,
             "#46039f"
            ],
            [
             0.2222222222222222,
             "#7201a8"
            ],
            [
             0.3333333333333333,
             "#9c179e"
            ],
            [
             0.4444444444444444,
             "#bd3786"
            ],
            [
             0.5555555555555556,
             "#d8576b"
            ],
            [
             0.6666666666666666,
             "#ed7953"
            ],
            [
             0.7777777777777778,
             "#fb9f3a"
            ],
            [
             0.8888888888888888,
             "#fdca26"
            ],
            [
             1,
             "#f0f921"
            ]
           ]
          },
          "colorway": [
           "#636efa",
           "#EF553B",
           "#00cc96",
           "#ab63fa",
           "#FFA15A",
           "#19d3f3",
           "#FF6692",
           "#B6E880",
           "#FF97FF",
           "#FECB52"
          ],
          "font": {
           "color": "#2a3f5f"
          },
          "geo": {
           "bgcolor": "white",
           "lakecolor": "white",
           "landcolor": "#E5ECF6",
           "showlakes": true,
           "showland": true,
           "subunitcolor": "white"
          },
          "hoverlabel": {
           "align": "left"
          },
          "hovermode": "closest",
          "mapbox": {
           "style": "light"
          },
          "paper_bgcolor": "white",
          "plot_bgcolor": "#E5ECF6",
          "polar": {
           "angularaxis": {
            "gridcolor": "white",
            "linecolor": "white",
            "ticks": ""
           },
           "bgcolor": "#E5ECF6",
           "radialaxis": {
            "gridcolor": "white",
            "linecolor": "white",
            "ticks": ""
           }
          },
          "scene": {
           "xaxis": {
            "backgroundcolor": "#E5ECF6",
            "gridcolor": "white",
            "gridwidth": 2,
            "linecolor": "white",
            "showbackground": true,
            "ticks": "",
            "zerolinecolor": "white"
           },
           "yaxis": {
            "backgroundcolor": "#E5ECF6",
            "gridcolor": "white",
            "gridwidth": 2,
            "linecolor": "white",
            "showbackground": true,
            "ticks": "",
            "zerolinecolor": "white"
           },
           "zaxis": {
            "backgroundcolor": "#E5ECF6",
            "gridcolor": "white",
            "gridwidth": 2,
            "linecolor": "white",
            "showbackground": true,
            "ticks": "",
            "zerolinecolor": "white"
           }
          },
          "shapedefaults": {
           "line": {
            "color": "#2a3f5f"
           }
          },
          "ternary": {
           "aaxis": {
            "gridcolor": "white",
            "linecolor": "white",
            "ticks": ""
           },
           "baxis": {
            "gridcolor": "white",
            "linecolor": "white",
            "ticks": ""
           },
           "bgcolor": "#E5ECF6",
           "caxis": {
            "gridcolor": "white",
            "linecolor": "white",
            "ticks": ""
           }
          },
          "title": {
           "x": 0.05
          },
          "xaxis": {
           "automargin": true,
           "gridcolor": "white",
           "linecolor": "white",
           "ticks": "",
           "title": {
            "standoff": 15
           },
           "zerolinecolor": "white",
           "zerolinewidth": 2
          },
          "yaxis": {
           "automargin": true,
           "gridcolor": "white",
           "linecolor": "white",
           "ticks": "",
           "title": {
            "standoff": 15
           },
           "zerolinecolor": "white",
           "zerolinewidth": 2
          }
         }
        },
        "title": {
         "text": "Popular RAM Choices"
        }
       }
      },
      "text/html": [
       "<div>                            <div id=\"9966aff0-8f12-44bd-91ca-4152f8a44e20\" class=\"plotly-graph-div\" style=\"height:525px; width:100%;\"></div>            <script type=\"text/javascript\">                require([\"plotly\"], function(Plotly) {                    window.PLOTLYENV=window.PLOTLYENV || {};                                    if (document.getElementById(\"9966aff0-8f12-44bd-91ca-4152f8a44e20\")) {                    Plotly.newPlot(                        \"9966aff0-8f12-44bd-91ca-4152f8a44e20\",                        [{\"domain\":{\"x\":[0.0,1.0],\"y\":[0.0,1.0]},\"hovertemplate\":\"ram=%{label}\\u003cbr\\u003ecount=%{value}\\u003cextra\\u003e\\u003c\\u002fextra\\u003e\",\"labels\":[8,6,12,4,16],\"legendgroup\":\"\",\"name\":\"\",\"showlegend\":true,\"values\":[322,148,92,50,6],\"type\":\"pie\"}],                        {\"template\":{\"data\":{\"histogram2dcontour\":[{\"type\":\"histogram2dcontour\",\"colorbar\":{\"outlinewidth\":0,\"ticks\":\"\"},\"colorscale\":[[0.0,\"#0d0887\"],[0.1111111111111111,\"#46039f\"],[0.2222222222222222,\"#7201a8\"],[0.3333333333333333,\"#9c179e\"],[0.4444444444444444,\"#bd3786\"],[0.5555555555555556,\"#d8576b\"],[0.6666666666666666,\"#ed7953\"],[0.7777777777777778,\"#fb9f3a\"],[0.8888888888888888,\"#fdca26\"],[1.0,\"#f0f921\"]]}],\"choropleth\":[{\"type\":\"choropleth\",\"colorbar\":{\"outlinewidth\":0,\"ticks\":\"\"}}],\"histogram2d\":[{\"type\":\"histogram2d\",\"colorbar\":{\"outlinewidth\":0,\"ticks\":\"\"},\"colorscale\":[[0.0,\"#0d0887\"],[0.1111111111111111,\"#46039f\"],[0.2222222222222222,\"#7201a8\"],[0.3333333333333333,\"#9c179e\"],[0.4444444444444444,\"#bd3786\"],[0.5555555555555556,\"#d8576b\"],[0.6666666666666666,\"#ed7953\"],[0.7777777777777778,\"#fb9f3a\"],[0.8888888888888888,\"#fdca26\"],[1.0,\"#f0f921\"]]}],\"heatmap\":[{\"type\":\"heatmap\",\"colorbar\":{\"outlinewidth\":0,\"ticks\":\"\"},\"colorscale\":[[0.0,\"#0d0887\"],[0.1111111111111111,\"#46039f\"],[0.2222222222222222,\"#7201a8\"],[0.3333333333333333,\"#9c179e\"],[0.4444444444444444,\"#bd3786\"],[0.5555555555555556,\"#d8576b\"],[0.6666666666666666,\"#ed7953\"],[0.7777777777777778,\"#fb9f3a\"],[0.8888888888888888,\"#fdca26\"],[1.0,\"#f0f921\"]]}],\"heatmapgl\":[{\"type\":\"heatmapgl\",\"colorbar\":{\"outlinewidth\":0,\"ticks\":\"\"},\"colorscale\":[[0.0,\"#0d0887\"],[0.1111111111111111,\"#46039f\"],[0.2222222222222222,\"#7201a8\"],[0.3333333333333333,\"#9c179e\"],[0.4444444444444444,\"#bd3786\"],[0.5555555555555556,\"#d8576b\"],[0.6666666666666666,\"#ed7953\"],[0.7777777777777778,\"#fb9f3a\"],[0.8888888888888888,\"#fdca26\"],[1.0,\"#f0f921\"]]}],\"contourcarpet\":[{\"type\":\"contourcarpet\",\"colorbar\":{\"outlinewidth\":0,\"ticks\":\"\"}}],\"contour\":[{\"type\":\"contour\",\"colorbar\":{\"outlinewidth\":0,\"ticks\":\"\"},\"colorscale\":[[0.0,\"#0d0887\"],[0.1111111111111111,\"#46039f\"],[0.2222222222222222,\"#7201a8\"],[0.3333333333333333,\"#9c179e\"],[0.4444444444444444,\"#bd3786\"],[0.5555555555555556,\"#d8576b\"],[0.6666666666666666,\"#ed7953\"],[0.7777777777777778,\"#fb9f3a\"],[0.8888888888888888,\"#fdca26\"],[1.0,\"#f0f921\"]]}],\"surface\":[{\"type\":\"surface\",\"colorbar\":{\"outlinewidth\":0,\"ticks\":\"\"},\"colorscale\":[[0.0,\"#0d0887\"],[0.1111111111111111,\"#46039f\"],[0.2222222222222222,\"#7201a8\"],[0.3333333333333333,\"#9c179e\"],[0.4444444444444444,\"#bd3786\"],[0.5555555555555556,\"#d8576b\"],[0.6666666666666666,\"#ed7953\"],[0.7777777777777778,\"#fb9f3a\"],[0.8888888888888888,\"#fdca26\"],[1.0,\"#f0f921\"]]}],\"mesh3d\":[{\"type\":\"mesh3d\",\"colorbar\":{\"outlinewidth\":0,\"ticks\":\"\"}}],\"scatter\":[{\"fillpattern\":{\"fillmode\":\"overlay\",\"size\":10,\"solidity\":0.2},\"type\":\"scatter\"}],\"parcoords\":[{\"type\":\"parcoords\",\"line\":{\"colorbar\":{\"outlinewidth\":0,\"ticks\":\"\"}}}],\"scatterpolargl\":[{\"type\":\"scatterpolargl\",\"marker\":{\"colorbar\":{\"outlinewidth\":0,\"ticks\":\"\"}}}],\"bar\":[{\"error_x\":{\"color\":\"#2a3f5f\"},\"error_y\":{\"color\":\"#2a3f5f\"},\"marker\":{\"line\":{\"color\":\"#E5ECF6\",\"width\":0.5},\"pattern\":{\"fillmode\":\"overlay\",\"size\":10,\"solidity\":0.2}},\"type\":\"bar\"}],\"scattergeo\":[{\"type\":\"scattergeo\",\"marker\":{\"colorbar\":{\"outlinewidth\":0,\"ticks\":\"\"}}}],\"scatterpolar\":[{\"type\":\"scatterpolar\",\"marker\":{\"colorbar\":{\"outlinewidth\":0,\"ticks\":\"\"}}}],\"histogram\":[{\"marker\":{\"pattern\":{\"fillmode\":\"overlay\",\"size\":10,\"solidity\":0.2}},\"type\":\"histogram\"}],\"scattergl\":[{\"type\":\"scattergl\",\"marker\":{\"colorbar\":{\"outlinewidth\":0,\"ticks\":\"\"}}}],\"scatter3d\":[{\"type\":\"scatter3d\",\"line\":{\"colorbar\":{\"outlinewidth\":0,\"ticks\":\"\"}},\"marker\":{\"colorbar\":{\"outlinewidth\":0,\"ticks\":\"\"}}}],\"scattermapbox\":[{\"type\":\"scattermapbox\",\"marker\":{\"colorbar\":{\"outlinewidth\":0,\"ticks\":\"\"}}}],\"scatterternary\":[{\"type\":\"scatterternary\",\"marker\":{\"colorbar\":{\"outlinewidth\":0,\"ticks\":\"\"}}}],\"scattercarpet\":[{\"type\":\"scattercarpet\",\"marker\":{\"colorbar\":{\"outlinewidth\":0,\"ticks\":\"\"}}}],\"carpet\":[{\"aaxis\":{\"endlinecolor\":\"#2a3f5f\",\"gridcolor\":\"white\",\"linecolor\":\"white\",\"minorgridcolor\":\"white\",\"startlinecolor\":\"#2a3f5f\"},\"baxis\":{\"endlinecolor\":\"#2a3f5f\",\"gridcolor\":\"white\",\"linecolor\":\"white\",\"minorgridcolor\":\"white\",\"startlinecolor\":\"#2a3f5f\"},\"type\":\"carpet\"}],\"table\":[{\"cells\":{\"fill\":{\"color\":\"#EBF0F8\"},\"line\":{\"color\":\"white\"}},\"header\":{\"fill\":{\"color\":\"#C8D4E3\"},\"line\":{\"color\":\"white\"}},\"type\":\"table\"}],\"barpolar\":[{\"marker\":{\"line\":{\"color\":\"#E5ECF6\",\"width\":0.5},\"pattern\":{\"fillmode\":\"overlay\",\"size\":10,\"solidity\":0.2}},\"type\":\"barpolar\"}],\"pie\":[{\"automargin\":true,\"type\":\"pie\"}]},\"layout\":{\"autotypenumbers\":\"strict\",\"colorway\":[\"#636efa\",\"#EF553B\",\"#00cc96\",\"#ab63fa\",\"#FFA15A\",\"#19d3f3\",\"#FF6692\",\"#B6E880\",\"#FF97FF\",\"#FECB52\"],\"font\":{\"color\":\"#2a3f5f\"},\"hovermode\":\"closest\",\"hoverlabel\":{\"align\":\"left\"},\"paper_bgcolor\":\"white\",\"plot_bgcolor\":\"#E5ECF6\",\"polar\":{\"bgcolor\":\"#E5ECF6\",\"angularaxis\":{\"gridcolor\":\"white\",\"linecolor\":\"white\",\"ticks\":\"\"},\"radialaxis\":{\"gridcolor\":\"white\",\"linecolor\":\"white\",\"ticks\":\"\"}},\"ternary\":{\"bgcolor\":\"#E5ECF6\",\"aaxis\":{\"gridcolor\":\"white\",\"linecolor\":\"white\",\"ticks\":\"\"},\"baxis\":{\"gridcolor\":\"white\",\"linecolor\":\"white\",\"ticks\":\"\"},\"caxis\":{\"gridcolor\":\"white\",\"linecolor\":\"white\",\"ticks\":\"\"}},\"coloraxis\":{\"colorbar\":{\"outlinewidth\":0,\"ticks\":\"\"}},\"colorscale\":{\"sequential\":[[0.0,\"#0d0887\"],[0.1111111111111111,\"#46039f\"],[0.2222222222222222,\"#7201a8\"],[0.3333333333333333,\"#9c179e\"],[0.4444444444444444,\"#bd3786\"],[0.5555555555555556,\"#d8576b\"],[0.6666666666666666,\"#ed7953\"],[0.7777777777777778,\"#fb9f3a\"],[0.8888888888888888,\"#fdca26\"],[1.0,\"#f0f921\"]],\"sequentialminus\":[[0.0,\"#0d0887\"],[0.1111111111111111,\"#46039f\"],[0.2222222222222222,\"#7201a8\"],[0.3333333333333333,\"#9c179e\"],[0.4444444444444444,\"#bd3786\"],[0.5555555555555556,\"#d8576b\"],[0.6666666666666666,\"#ed7953\"],[0.7777777777777778,\"#fb9f3a\"],[0.8888888888888888,\"#fdca26\"],[1.0,\"#f0f921\"]],\"diverging\":[[0,\"#8e0152\"],[0.1,\"#c51b7d\"],[0.2,\"#de77ae\"],[0.3,\"#f1b6da\"],[0.4,\"#fde0ef\"],[0.5,\"#f7f7f7\"],[0.6,\"#e6f5d0\"],[0.7,\"#b8e186\"],[0.8,\"#7fbc41\"],[0.9,\"#4d9221\"],[1,\"#276419\"]]},\"xaxis\":{\"gridcolor\":\"white\",\"linecolor\":\"white\",\"ticks\":\"\",\"title\":{\"standoff\":15},\"zerolinecolor\":\"white\",\"automargin\":true,\"zerolinewidth\":2},\"yaxis\":{\"gridcolor\":\"white\",\"linecolor\":\"white\",\"ticks\":\"\",\"title\":{\"standoff\":15},\"zerolinecolor\":\"white\",\"automargin\":true,\"zerolinewidth\":2},\"scene\":{\"xaxis\":{\"backgroundcolor\":\"#E5ECF6\",\"gridcolor\":\"white\",\"linecolor\":\"white\",\"showbackground\":true,\"ticks\":\"\",\"zerolinecolor\":\"white\",\"gridwidth\":2},\"yaxis\":{\"backgroundcolor\":\"#E5ECF6\",\"gridcolor\":\"white\",\"linecolor\":\"white\",\"showbackground\":true,\"ticks\":\"\",\"zerolinecolor\":\"white\",\"gridwidth\":2},\"zaxis\":{\"backgroundcolor\":\"#E5ECF6\",\"gridcolor\":\"white\",\"linecolor\":\"white\",\"showbackground\":true,\"ticks\":\"\",\"zerolinecolor\":\"white\",\"gridwidth\":2}},\"shapedefaults\":{\"line\":{\"color\":\"#2a3f5f\"}},\"annotationdefaults\":{\"arrowcolor\":\"#2a3f5f\",\"arrowhead\":0,\"arrowwidth\":1},\"geo\":{\"bgcolor\":\"white\",\"landcolor\":\"#E5ECF6\",\"subunitcolor\":\"white\",\"showland\":true,\"showlakes\":true,\"lakecolor\":\"white\"},\"title\":{\"x\":0.05},\"mapbox\":{\"style\":\"light\"}}},\"legend\":{\"tracegroupgap\":0},\"title\":{\"text\":\"Popular RAM Choices\"},\"piecolorway\":[\"#EE7600\",\"#66b3ff\",\"#99ff99\",\"#ffcc99\",\"#698B69\"]},                        {\"responsive\": true}                    ).then(function(){\n",
       "                            \n",
       "var gd = document.getElementById('9966aff0-8f12-44bd-91ca-4152f8a44e20');\n",
       "var x = new MutationObserver(function (mutations, observer) {{\n",
       "        var display = window.getComputedStyle(gd).display;\n",
       "        if (!display || display === 'none') {{\n",
       "            console.log([gd, 'removed!']);\n",
       "            Plotly.purge(gd);\n",
       "            observer.disconnect();\n",
       "        }}\n",
       "}});\n",
       "\n",
       "// Listen for the removal of the full notebook cells\n",
       "var notebookContainer = gd.closest('#notebook-container');\n",
       "if (notebookContainer) {{\n",
       "    x.observe(notebookContainer, {childList: true});\n",
       "}}\n",
       "\n",
       "// Listen for the clearing of the current output cell\n",
       "var outputEl = gd.closest('.output');\n",
       "if (outputEl) {{\n",
       "    x.observe(outputEl, {childList: true});\n",
       "}}\n",
       "\n",
       "                        })                };                });            </script>        </div>"
      ]
     },
     "metadata": {},
     "output_type": "display_data"
    }
   ],
   "source": [
    "pie_df = df.ram_processed.value_counts().reset_index()\n",
    "pie_df.columns = ['ram','count']\n",
    "fig = px.pie(pie_df, values='count', names='ram', title='Popular RAM Choices',\n",
    "             color_discrete_sequence=['#EE7600','#66b3ff','#99ff99','#ffcc99','#698B69'])\n",
    "fig.show()"
   ]
  },
  {
   "cell_type": "code",
   "execution_count": 88,
   "id": "b295a010",
   "metadata": {},
   "outputs": [
    {
     "name": "stdout",
     "output_type": "stream",
     "text": [
      "Product Sales\n"
     ]
    },
    {
     "data": {
      "application/vnd.plotly.v1+json": {
       "config": {
        "plotlyServerURL": "https://plot.ly"
       },
       "data": [
        {
         "orientation": "h",
         "type": "bar",
         "x": [
          79,
          44,
          81,
          26,
          121,
          22,
          75,
          58,
          11,
          21,
          23,
          3,
          26,
          15,
          2,
          9,
          1,
          1
         ],
         "y": [
          "vivo",
          "POCO",
          "OnePlus",
          "MOTOROLA",
          "SAMSUNG",
          "Infinix",
          "realme",
          "REDMI",
          "Google",
          "IQOO",
          "OPPO",
          "Nothing",
          "Xiaomi",
          "Tecno",
          "Moto",
          "Mi",
          "ASUS",
          "HTC"
         ]
        }
       ],
       "layout": {
        "template": {
         "data": {
          "bar": [
           {
            "error_x": {
             "color": "#2a3f5f"
            },
            "error_y": {
             "color": "#2a3f5f"
            },
            "marker": {
             "line": {
              "color": "#E5ECF6",
              "width": 0.5
             },
             "pattern": {
              "fillmode": "overlay",
              "size": 10,
              "solidity": 0.2
             }
            },
            "type": "bar"
           }
          ],
          "barpolar": [
           {
            "marker": {
             "line": {
              "color": "#E5ECF6",
              "width": 0.5
             },
             "pattern": {
              "fillmode": "overlay",
              "size": 10,
              "solidity": 0.2
             }
            },
            "type": "barpolar"
           }
          ],
          "carpet": [
           {
            "aaxis": {
             "endlinecolor": "#2a3f5f",
             "gridcolor": "white",
             "linecolor": "white",
             "minorgridcolor": "white",
             "startlinecolor": "#2a3f5f"
            },
            "baxis": {
             "endlinecolor": "#2a3f5f",
             "gridcolor": "white",
             "linecolor": "white",
             "minorgridcolor": "white",
             "startlinecolor": "#2a3f5f"
            },
            "type": "carpet"
           }
          ],
          "choropleth": [
           {
            "colorbar": {
             "outlinewidth": 0,
             "ticks": ""
            },
            "type": "choropleth"
           }
          ],
          "contour": [
           {
            "colorbar": {
             "outlinewidth": 0,
             "ticks": ""
            },
            "colorscale": [
             [
              0,
              "#0d0887"
             ],
             [
              0.1111111111111111,
              "#46039f"
             ],
             [
              0.2222222222222222,
              "#7201a8"
             ],
             [
              0.3333333333333333,
              "#9c179e"
             ],
             [
              0.4444444444444444,
              "#bd3786"
             ],
             [
              0.5555555555555556,
              "#d8576b"
             ],
             [
              0.6666666666666666,
              "#ed7953"
             ],
             [
              0.7777777777777778,
              "#fb9f3a"
             ],
             [
              0.8888888888888888,
              "#fdca26"
             ],
             [
              1,
              "#f0f921"
             ]
            ],
            "type": "contour"
           }
          ],
          "contourcarpet": [
           {
            "colorbar": {
             "outlinewidth": 0,
             "ticks": ""
            },
            "type": "contourcarpet"
           }
          ],
          "heatmap": [
           {
            "colorbar": {
             "outlinewidth": 0,
             "ticks": ""
            },
            "colorscale": [
             [
              0,
              "#0d0887"
             ],
             [
              0.1111111111111111,
              "#46039f"
             ],
             [
              0.2222222222222222,
              "#7201a8"
             ],
             [
              0.3333333333333333,
              "#9c179e"
             ],
             [
              0.4444444444444444,
              "#bd3786"
             ],
             [
              0.5555555555555556,
              "#d8576b"
             ],
             [
              0.6666666666666666,
              "#ed7953"
             ],
             [
              0.7777777777777778,
              "#fb9f3a"
             ],
             [
              0.8888888888888888,
              "#fdca26"
             ],
             [
              1,
              "#f0f921"
             ]
            ],
            "type": "heatmap"
           }
          ],
          "heatmapgl": [
           {
            "colorbar": {
             "outlinewidth": 0,
             "ticks": ""
            },
            "colorscale": [
             [
              0,
              "#0d0887"
             ],
             [
              0.1111111111111111,
              "#46039f"
             ],
             [
              0.2222222222222222,
              "#7201a8"
             ],
             [
              0.3333333333333333,
              "#9c179e"
             ],
             [
              0.4444444444444444,
              "#bd3786"
             ],
             [
              0.5555555555555556,
              "#d8576b"
             ],
             [
              0.6666666666666666,
              "#ed7953"
             ],
             [
              0.7777777777777778,
              "#fb9f3a"
             ],
             [
              0.8888888888888888,
              "#fdca26"
             ],
             [
              1,
              "#f0f921"
             ]
            ],
            "type": "heatmapgl"
           }
          ],
          "histogram": [
           {
            "marker": {
             "pattern": {
              "fillmode": "overlay",
              "size": 10,
              "solidity": 0.2
             }
            },
            "type": "histogram"
           }
          ],
          "histogram2d": [
           {
            "colorbar": {
             "outlinewidth": 0,
             "ticks": ""
            },
            "colorscale": [
             [
              0,
              "#0d0887"
             ],
             [
              0.1111111111111111,
              "#46039f"
             ],
             [
              0.2222222222222222,
              "#7201a8"
             ],
             [
              0.3333333333333333,
              "#9c179e"
             ],
             [
              0.4444444444444444,
              "#bd3786"
             ],
             [
              0.5555555555555556,
              "#d8576b"
             ],
             [
              0.6666666666666666,
              "#ed7953"
             ],
             [
              0.7777777777777778,
              "#fb9f3a"
             ],
             [
              0.8888888888888888,
              "#fdca26"
             ],
             [
              1,
              "#f0f921"
             ]
            ],
            "type": "histogram2d"
           }
          ],
          "histogram2dcontour": [
           {
            "colorbar": {
             "outlinewidth": 0,
             "ticks": ""
            },
            "colorscale": [
             [
              0,
              "#0d0887"
             ],
             [
              0.1111111111111111,
              "#46039f"
             ],
             [
              0.2222222222222222,
              "#7201a8"
             ],
             [
              0.3333333333333333,
              "#9c179e"
             ],
             [
              0.4444444444444444,
              "#bd3786"
             ],
             [
              0.5555555555555556,
              "#d8576b"
             ],
             [
              0.6666666666666666,
              "#ed7953"
             ],
             [
              0.7777777777777778,
              "#fb9f3a"
             ],
             [
              0.8888888888888888,
              "#fdca26"
             ],
             [
              1,
              "#f0f921"
             ]
            ],
            "type": "histogram2dcontour"
           }
          ],
          "mesh3d": [
           {
            "colorbar": {
             "outlinewidth": 0,
             "ticks": ""
            },
            "type": "mesh3d"
           }
          ],
          "parcoords": [
           {
            "line": {
             "colorbar": {
              "outlinewidth": 0,
              "ticks": ""
             }
            },
            "type": "parcoords"
           }
          ],
          "pie": [
           {
            "automargin": true,
            "type": "pie"
           }
          ],
          "scatter": [
           {
            "fillpattern": {
             "fillmode": "overlay",
             "size": 10,
             "solidity": 0.2
            },
            "type": "scatter"
           }
          ],
          "scatter3d": [
           {
            "line": {
             "colorbar": {
              "outlinewidth": 0,
              "ticks": ""
             }
            },
            "marker": {
             "colorbar": {
              "outlinewidth": 0,
              "ticks": ""
             }
            },
            "type": "scatter3d"
           }
          ],
          "scattercarpet": [
           {
            "marker": {
             "colorbar": {
              "outlinewidth": 0,
              "ticks": ""
             }
            },
            "type": "scattercarpet"
           }
          ],
          "scattergeo": [
           {
            "marker": {
             "colorbar": {
              "outlinewidth": 0,
              "ticks": ""
             }
            },
            "type": "scattergeo"
           }
          ],
          "scattergl": [
           {
            "marker": {
             "colorbar": {
              "outlinewidth": 0,
              "ticks": ""
             }
            },
            "type": "scattergl"
           }
          ],
          "scattermapbox": [
           {
            "marker": {
             "colorbar": {
              "outlinewidth": 0,
              "ticks": ""
             }
            },
            "type": "scattermapbox"
           }
          ],
          "scatterpolar": [
           {
            "marker": {
             "colorbar": {
              "outlinewidth": 0,
              "ticks": ""
             }
            },
            "type": "scatterpolar"
           }
          ],
          "scatterpolargl": [
           {
            "marker": {
             "colorbar": {
              "outlinewidth": 0,
              "ticks": ""
             }
            },
            "type": "scatterpolargl"
           }
          ],
          "scatterternary": [
           {
            "marker": {
             "colorbar": {
              "outlinewidth": 0,
              "ticks": ""
             }
            },
            "type": "scatterternary"
           }
          ],
          "surface": [
           {
            "colorbar": {
             "outlinewidth": 0,
             "ticks": ""
            },
            "colorscale": [
             [
              0,
              "#0d0887"
             ],
             [
              0.1111111111111111,
              "#46039f"
             ],
             [
              0.2222222222222222,
              "#7201a8"
             ],
             [
              0.3333333333333333,
              "#9c179e"
             ],
             [
              0.4444444444444444,
              "#bd3786"
             ],
             [
              0.5555555555555556,
              "#d8576b"
             ],
             [
              0.6666666666666666,
              "#ed7953"
             ],
             [
              0.7777777777777778,
              "#fb9f3a"
             ],
             [
              0.8888888888888888,
              "#fdca26"
             ],
             [
              1,
              "#f0f921"
             ]
            ],
            "type": "surface"
           }
          ],
          "table": [
           {
            "cells": {
             "fill": {
              "color": "#EBF0F8"
             },
             "line": {
              "color": "white"
             }
            },
            "header": {
             "fill": {
              "color": "#C8D4E3"
             },
             "line": {
              "color": "white"
             }
            },
            "type": "table"
           }
          ]
         },
         "layout": {
          "annotationdefaults": {
           "arrowcolor": "#2a3f5f",
           "arrowhead": 0,
           "arrowwidth": 1
          },
          "autotypenumbers": "strict",
          "coloraxis": {
           "colorbar": {
            "outlinewidth": 0,
            "ticks": ""
           }
          },
          "colorscale": {
           "diverging": [
            [
             0,
             "#8e0152"
            ],
            [
             0.1,
             "#c51b7d"
            ],
            [
             0.2,
             "#de77ae"
            ],
            [
             0.3,
             "#f1b6da"
            ],
            [
             0.4,
             "#fde0ef"
            ],
            [
             0.5,
             "#f7f7f7"
            ],
            [
             0.6,
             "#e6f5d0"
            ],
            [
             0.7,
             "#b8e186"
            ],
            [
             0.8,
             "#7fbc41"
            ],
            [
             0.9,
             "#4d9221"
            ],
            [
             1,
             "#276419"
            ]
           ],
           "sequential": [
            [
             0,
             "#0d0887"
            ],
            [
             0.1111111111111111,
             "#46039f"
            ],
            [
             0.2222222222222222,
             "#7201a8"
            ],
            [
             0.3333333333333333,
             "#9c179e"
            ],
            [
             0.4444444444444444,
             "#bd3786"
            ],
            [
             0.5555555555555556,
             "#d8576b"
            ],
            [
             0.6666666666666666,
             "#ed7953"
            ],
            [
             0.7777777777777778,
             "#fb9f3a"
            ],
            [
             0.8888888888888888,
             "#fdca26"
            ],
            [
             1,
             "#f0f921"
            ]
           ],
           "sequentialminus": [
            [
             0,
             "#0d0887"
            ],
            [
             0.1111111111111111,
             "#46039f"
            ],
            [
             0.2222222222222222,
             "#7201a8"
            ],
            [
             0.3333333333333333,
             "#9c179e"
            ],
            [
             0.4444444444444444,
             "#bd3786"
            ],
            [
             0.5555555555555556,
             "#d8576b"
            ],
            [
             0.6666666666666666,
             "#ed7953"
            ],
            [
             0.7777777777777778,
             "#fb9f3a"
            ],
            [
             0.8888888888888888,
             "#fdca26"
            ],
            [
             1,
             "#f0f921"
            ]
           ]
          },
          "colorway": [
           "#636efa",
           "#EF553B",
           "#00cc96",
           "#ab63fa",
           "#FFA15A",
           "#19d3f3",
           "#FF6692",
           "#B6E880",
           "#FF97FF",
           "#FECB52"
          ],
          "font": {
           "color": "#2a3f5f"
          },
          "geo": {
           "bgcolor": "white",
           "lakecolor": "white",
           "landcolor": "#E5ECF6",
           "showlakes": true,
           "showland": true,
           "subunitcolor": "white"
          },
          "hoverlabel": {
           "align": "left"
          },
          "hovermode": "closest",
          "mapbox": {
           "style": "light"
          },
          "paper_bgcolor": "white",
          "plot_bgcolor": "#E5ECF6",
          "polar": {
           "angularaxis": {
            "gridcolor": "white",
            "linecolor": "white",
            "ticks": ""
           },
           "bgcolor": "#E5ECF6",
           "radialaxis": {
            "gridcolor": "white",
            "linecolor": "white",
            "ticks": ""
           }
          },
          "scene": {
           "xaxis": {
            "backgroundcolor": "#E5ECF6",
            "gridcolor": "white",
            "gridwidth": 2,
            "linecolor": "white",
            "showbackground": true,
            "ticks": "",
            "zerolinecolor": "white"
           },
           "yaxis": {
            "backgroundcolor": "#E5ECF6",
            "gridcolor": "white",
            "gridwidth": 2,
            "linecolor": "white",
            "showbackground": true,
            "ticks": "",
            "zerolinecolor": "white"
           },
           "zaxis": {
            "backgroundcolor": "#E5ECF6",
            "gridcolor": "white",
            "gridwidth": 2,
            "linecolor": "white",
            "showbackground": true,
            "ticks": "",
            "zerolinecolor": "white"
           }
          },
          "shapedefaults": {
           "line": {
            "color": "#2a3f5f"
           }
          },
          "ternary": {
           "aaxis": {
            "gridcolor": "white",
            "linecolor": "white",
            "ticks": ""
           },
           "baxis": {
            "gridcolor": "white",
            "linecolor": "white",
            "ticks": ""
           },
           "bgcolor": "#E5ECF6",
           "caxis": {
            "gridcolor": "white",
            "linecolor": "white",
            "ticks": ""
           }
          },
          "title": {
           "x": 0.05
          },
          "xaxis": {
           "automargin": true,
           "gridcolor": "white",
           "linecolor": "white",
           "ticks": "",
           "title": {
            "standoff": 15
           },
           "zerolinecolor": "white",
           "zerolinewidth": 2
          },
          "yaxis": {
           "automargin": true,
           "gridcolor": "white",
           "linecolor": "white",
           "ticks": "",
           "title": {
            "standoff": 15
           },
           "zerolinecolor": "white",
           "zerolinewidth": 2
          }
         }
        }
       }
      },
      "text/html": [
       "<div>                            <div id=\"cec2c0c9-96fb-47c9-92db-c47ac0d4bedb\" class=\"plotly-graph-div\" style=\"height:525px; width:100%;\"></div>            <script type=\"text/javascript\">                require([\"plotly\"], function(Plotly) {                    window.PLOTLYENV=window.PLOTLYENV || {};                                    if (document.getElementById(\"cec2c0c9-96fb-47c9-92db-c47ac0d4bedb\")) {                    Plotly.newPlot(                        \"cec2c0c9-96fb-47c9-92db-c47ac0d4bedb\",                        [{\"orientation\":\"h\",\"x\":[79,44,81,26,121,22,75,58,11,21,23,3,26,15,2,9,1,1],\"y\":[\"vivo\",\"POCO\",\"OnePlus\",\"MOTOROLA\",\"SAMSUNG\",\"Infinix\",\"realme\",\"REDMI\",\"Google\",\"IQOO\",\"OPPO\",\"Nothing\",\"Xiaomi\",\"Tecno\",\"Moto\",\"Mi\",\"ASUS\",\"HTC\"],\"type\":\"bar\"}],                        {\"template\":{\"data\":{\"histogram2dcontour\":[{\"type\":\"histogram2dcontour\",\"colorbar\":{\"outlinewidth\":0,\"ticks\":\"\"},\"colorscale\":[[0.0,\"#0d0887\"],[0.1111111111111111,\"#46039f\"],[0.2222222222222222,\"#7201a8\"],[0.3333333333333333,\"#9c179e\"],[0.4444444444444444,\"#bd3786\"],[0.5555555555555556,\"#d8576b\"],[0.6666666666666666,\"#ed7953\"],[0.7777777777777778,\"#fb9f3a\"],[0.8888888888888888,\"#fdca26\"],[1.0,\"#f0f921\"]]}],\"choropleth\":[{\"type\":\"choropleth\",\"colorbar\":{\"outlinewidth\":0,\"ticks\":\"\"}}],\"histogram2d\":[{\"type\":\"histogram2d\",\"colorbar\":{\"outlinewidth\":0,\"ticks\":\"\"},\"colorscale\":[[0.0,\"#0d0887\"],[0.1111111111111111,\"#46039f\"],[0.2222222222222222,\"#7201a8\"],[0.3333333333333333,\"#9c179e\"],[0.4444444444444444,\"#bd3786\"],[0.5555555555555556,\"#d8576b\"],[0.6666666666666666,\"#ed7953\"],[0.7777777777777778,\"#fb9f3a\"],[0.8888888888888888,\"#fdca26\"],[1.0,\"#f0f921\"]]}],\"heatmap\":[{\"type\":\"heatmap\",\"colorbar\":{\"outlinewidth\":0,\"ticks\":\"\"},\"colorscale\":[[0.0,\"#0d0887\"],[0.1111111111111111,\"#46039f\"],[0.2222222222222222,\"#7201a8\"],[0.3333333333333333,\"#9c179e\"],[0.4444444444444444,\"#bd3786\"],[0.5555555555555556,\"#d8576b\"],[0.6666666666666666,\"#ed7953\"],[0.7777777777777778,\"#fb9f3a\"],[0.8888888888888888,\"#fdca26\"],[1.0,\"#f0f921\"]]}],\"heatmapgl\":[{\"type\":\"heatmapgl\",\"colorbar\":{\"outlinewidth\":0,\"ticks\":\"\"},\"colorscale\":[[0.0,\"#0d0887\"],[0.1111111111111111,\"#46039f\"],[0.2222222222222222,\"#7201a8\"],[0.3333333333333333,\"#9c179e\"],[0.4444444444444444,\"#bd3786\"],[0.5555555555555556,\"#d8576b\"],[0.6666666666666666,\"#ed7953\"],[0.7777777777777778,\"#fb9f3a\"],[0.8888888888888888,\"#fdca26\"],[1.0,\"#f0f921\"]]}],\"contourcarpet\":[{\"type\":\"contourcarpet\",\"colorbar\":{\"outlinewidth\":0,\"ticks\":\"\"}}],\"contour\":[{\"type\":\"contour\",\"colorbar\":{\"outlinewidth\":0,\"ticks\":\"\"},\"colorscale\":[[0.0,\"#0d0887\"],[0.1111111111111111,\"#46039f\"],[0.2222222222222222,\"#7201a8\"],[0.3333333333333333,\"#9c179e\"],[0.4444444444444444,\"#bd3786\"],[0.5555555555555556,\"#d8576b\"],[0.6666666666666666,\"#ed7953\"],[0.7777777777777778,\"#fb9f3a\"],[0.8888888888888888,\"#fdca26\"],[1.0,\"#f0f921\"]]}],\"surface\":[{\"type\":\"surface\",\"colorbar\":{\"outlinewidth\":0,\"ticks\":\"\"},\"colorscale\":[[0.0,\"#0d0887\"],[0.1111111111111111,\"#46039f\"],[0.2222222222222222,\"#7201a8\"],[0.3333333333333333,\"#9c179e\"],[0.4444444444444444,\"#bd3786\"],[0.5555555555555556,\"#d8576b\"],[0.6666666666666666,\"#ed7953\"],[0.7777777777777778,\"#fb9f3a\"],[0.8888888888888888,\"#fdca26\"],[1.0,\"#f0f921\"]]}],\"mesh3d\":[{\"type\":\"mesh3d\",\"colorbar\":{\"outlinewidth\":0,\"ticks\":\"\"}}],\"scatter\":[{\"fillpattern\":{\"fillmode\":\"overlay\",\"size\":10,\"solidity\":0.2},\"type\":\"scatter\"}],\"parcoords\":[{\"type\":\"parcoords\",\"line\":{\"colorbar\":{\"outlinewidth\":0,\"ticks\":\"\"}}}],\"scatterpolargl\":[{\"type\":\"scatterpolargl\",\"marker\":{\"colorbar\":{\"outlinewidth\":0,\"ticks\":\"\"}}}],\"bar\":[{\"error_x\":{\"color\":\"#2a3f5f\"},\"error_y\":{\"color\":\"#2a3f5f\"},\"marker\":{\"line\":{\"color\":\"#E5ECF6\",\"width\":0.5},\"pattern\":{\"fillmode\":\"overlay\",\"size\":10,\"solidity\":0.2}},\"type\":\"bar\"}],\"scattergeo\":[{\"type\":\"scattergeo\",\"marker\":{\"colorbar\":{\"outlinewidth\":0,\"ticks\":\"\"}}}],\"scatterpolar\":[{\"type\":\"scatterpolar\",\"marker\":{\"colorbar\":{\"outlinewidth\":0,\"ticks\":\"\"}}}],\"histogram\":[{\"marker\":{\"pattern\":{\"fillmode\":\"overlay\",\"size\":10,\"solidity\":0.2}},\"type\":\"histogram\"}],\"scattergl\":[{\"type\":\"scattergl\",\"marker\":{\"colorbar\":{\"outlinewidth\":0,\"ticks\":\"\"}}}],\"scatter3d\":[{\"type\":\"scatter3d\",\"line\":{\"colorbar\":{\"outlinewidth\":0,\"ticks\":\"\"}},\"marker\":{\"colorbar\":{\"outlinewidth\":0,\"ticks\":\"\"}}}],\"scattermapbox\":[{\"type\":\"scattermapbox\",\"marker\":{\"colorbar\":{\"outlinewidth\":0,\"ticks\":\"\"}}}],\"scatterternary\":[{\"type\":\"scatterternary\",\"marker\":{\"colorbar\":{\"outlinewidth\":0,\"ticks\":\"\"}}}],\"scattercarpet\":[{\"type\":\"scattercarpet\",\"marker\":{\"colorbar\":{\"outlinewidth\":0,\"ticks\":\"\"}}}],\"carpet\":[{\"aaxis\":{\"endlinecolor\":\"#2a3f5f\",\"gridcolor\":\"white\",\"linecolor\":\"white\",\"minorgridcolor\":\"white\",\"startlinecolor\":\"#2a3f5f\"},\"baxis\":{\"endlinecolor\":\"#2a3f5f\",\"gridcolor\":\"white\",\"linecolor\":\"white\",\"minorgridcolor\":\"white\",\"startlinecolor\":\"#2a3f5f\"},\"type\":\"carpet\"}],\"table\":[{\"cells\":{\"fill\":{\"color\":\"#EBF0F8\"},\"line\":{\"color\":\"white\"}},\"header\":{\"fill\":{\"color\":\"#C8D4E3\"},\"line\":{\"color\":\"white\"}},\"type\":\"table\"}],\"barpolar\":[{\"marker\":{\"line\":{\"color\":\"#E5ECF6\",\"width\":0.5},\"pattern\":{\"fillmode\":\"overlay\",\"size\":10,\"solidity\":0.2}},\"type\":\"barpolar\"}],\"pie\":[{\"automargin\":true,\"type\":\"pie\"}]},\"layout\":{\"autotypenumbers\":\"strict\",\"colorway\":[\"#636efa\",\"#EF553B\",\"#00cc96\",\"#ab63fa\",\"#FFA15A\",\"#19d3f3\",\"#FF6692\",\"#B6E880\",\"#FF97FF\",\"#FECB52\"],\"font\":{\"color\":\"#2a3f5f\"},\"hovermode\":\"closest\",\"hoverlabel\":{\"align\":\"left\"},\"paper_bgcolor\":\"white\",\"plot_bgcolor\":\"#E5ECF6\",\"polar\":{\"bgcolor\":\"#E5ECF6\",\"angularaxis\":{\"gridcolor\":\"white\",\"linecolor\":\"white\",\"ticks\":\"\"},\"radialaxis\":{\"gridcolor\":\"white\",\"linecolor\":\"white\",\"ticks\":\"\"}},\"ternary\":{\"bgcolor\":\"#E5ECF6\",\"aaxis\":{\"gridcolor\":\"white\",\"linecolor\":\"white\",\"ticks\":\"\"},\"baxis\":{\"gridcolor\":\"white\",\"linecolor\":\"white\",\"ticks\":\"\"},\"caxis\":{\"gridcolor\":\"white\",\"linecolor\":\"white\",\"ticks\":\"\"}},\"coloraxis\":{\"colorbar\":{\"outlinewidth\":0,\"ticks\":\"\"}},\"colorscale\":{\"sequential\":[[0.0,\"#0d0887\"],[0.1111111111111111,\"#46039f\"],[0.2222222222222222,\"#7201a8\"],[0.3333333333333333,\"#9c179e\"],[0.4444444444444444,\"#bd3786\"],[0.5555555555555556,\"#d8576b\"],[0.6666666666666666,\"#ed7953\"],[0.7777777777777778,\"#fb9f3a\"],[0.8888888888888888,\"#fdca26\"],[1.0,\"#f0f921\"]],\"sequentialminus\":[[0.0,\"#0d0887\"],[0.1111111111111111,\"#46039f\"],[0.2222222222222222,\"#7201a8\"],[0.3333333333333333,\"#9c179e\"],[0.4444444444444444,\"#bd3786\"],[0.5555555555555556,\"#d8576b\"],[0.6666666666666666,\"#ed7953\"],[0.7777777777777778,\"#fb9f3a\"],[0.8888888888888888,\"#fdca26\"],[1.0,\"#f0f921\"]],\"diverging\":[[0,\"#8e0152\"],[0.1,\"#c51b7d\"],[0.2,\"#de77ae\"],[0.3,\"#f1b6da\"],[0.4,\"#fde0ef\"],[0.5,\"#f7f7f7\"],[0.6,\"#e6f5d0\"],[0.7,\"#b8e186\"],[0.8,\"#7fbc41\"],[0.9,\"#4d9221\"],[1,\"#276419\"]]},\"xaxis\":{\"gridcolor\":\"white\",\"linecolor\":\"white\",\"ticks\":\"\",\"title\":{\"standoff\":15},\"zerolinecolor\":\"white\",\"automargin\":true,\"zerolinewidth\":2},\"yaxis\":{\"gridcolor\":\"white\",\"linecolor\":\"white\",\"ticks\":\"\",\"title\":{\"standoff\":15},\"zerolinecolor\":\"white\",\"automargin\":true,\"zerolinewidth\":2},\"scene\":{\"xaxis\":{\"backgroundcolor\":\"#E5ECF6\",\"gridcolor\":\"white\",\"linecolor\":\"white\",\"showbackground\":true,\"ticks\":\"\",\"zerolinecolor\":\"white\",\"gridwidth\":2},\"yaxis\":{\"backgroundcolor\":\"#E5ECF6\",\"gridcolor\":\"white\",\"linecolor\":\"white\",\"showbackground\":true,\"ticks\":\"\",\"zerolinecolor\":\"white\",\"gridwidth\":2},\"zaxis\":{\"backgroundcolor\":\"#E5ECF6\",\"gridcolor\":\"white\",\"linecolor\":\"white\",\"showbackground\":true,\"ticks\":\"\",\"zerolinecolor\":\"white\",\"gridwidth\":2}},\"shapedefaults\":{\"line\":{\"color\":\"#2a3f5f\"}},\"annotationdefaults\":{\"arrowcolor\":\"#2a3f5f\",\"arrowhead\":0,\"arrowwidth\":1},\"geo\":{\"bgcolor\":\"white\",\"landcolor\":\"#E5ECF6\",\"subunitcolor\":\"white\",\"showland\":true,\"showlakes\":true,\"lakecolor\":\"white\"},\"title\":{\"x\":0.05},\"mapbox\":{\"style\":\"light\"}}}},                        {\"responsive\": true}                    ).then(function(){\n",
       "                            \n",
       "var gd = document.getElementById('cec2c0c9-96fb-47c9-92db-c47ac0d4bedb');\n",
       "var x = new MutationObserver(function (mutations, observer) {{\n",
       "        var display = window.getComputedStyle(gd).display;\n",
       "        if (!display || display === 'none') {{\n",
       "            console.log([gd, 'removed!']);\n",
       "            Plotly.purge(gd);\n",
       "            observer.disconnect();\n",
       "        }}\n",
       "}});\n",
       "\n",
       "// Listen for the removal of the full notebook cells\n",
       "var notebookContainer = gd.closest('#notebook-container');\n",
       "if (notebookContainer) {{\n",
       "    x.observe(notebookContainer, {childList: true});\n",
       "}}\n",
       "\n",
       "// Listen for the clearing of the current output cell\n",
       "var outputEl = gd.closest('.output');\n",
       "if (outputEl) {{\n",
       "    x.observe(outputEl, {childList: true});\n",
       "}}\n",
       "\n",
       "                        })                };                });            </script>        </div>"
      ]
     },
     "metadata": {},
     "output_type": "display_data"
    }
   ],
   "source": [
    "brand_count = {'vivo':0, 'POCO':0, 'OnePlus':0, 'MOTOROLA':0, 'SAMSUNG':0, 'Infinix':0,\n",
    "       'realme':0, 'REDMI':0, 'Google':0, 'IQOO':0, 'OPPO':0, 'Nothing':0, 'Xiaomi':0,\n",
    "       'Tecno':0, 'Moto':0, 'Mi':0, 'ASUS':0, 'HTC':0}\n",
    "for brand in df['brand']:\n",
    "    brand_count[brand]+=1\n",
    "\n",
    "brand_keys = list(brand_count.keys())\n",
    "brand_values = list(brand_count.values())\n",
    "\n",
    "fig = go.Figure(go.Bar(\n",
    "            x=brand_values,\n",
    "            y=brand_keys,\n",
    "            orientation='h'))\n",
    "fig.show()"
   ]
  },
  {
   "cell_type": "code",
   "execution_count": 42,
   "id": "5f349194",
   "metadata": {},
   "outputs": [
    {
     "data": {
      "application/vnd.plotly.v1+json": {
       "config": {
        "plotlyServerURL": "https://plot.ly"
       },
       "data": [
        {
         "domain": {
          "x": [
           0,
           1
          ],
          "y": [
           0,
           1
          ]
         },
         "hovertemplate": "rom=%{label}<br>count=%{value}<extra></extra>",
         "labels": [
          128,
          256,
          64,
          512
         ],
         "legendgroup": "",
         "name": "",
         "showlegend": true,
         "type": "pie",
         "values": [
          405,
          172,
          38,
          3
         ]
        }
       ],
       "layout": {
        "legend": {
         "tracegroupgap": 0
        },
        "piecolorway": [
         "#EE7600",
         "#66b3ff",
         "#99ff99",
         "#ffcc99",
         "#698B69"
        ],
        "template": {
         "data": {
          "bar": [
           {
            "error_x": {
             "color": "#2a3f5f"
            },
            "error_y": {
             "color": "#2a3f5f"
            },
            "marker": {
             "line": {
              "color": "#E5ECF6",
              "width": 0.5
             },
             "pattern": {
              "fillmode": "overlay",
              "size": 10,
              "solidity": 0.2
             }
            },
            "type": "bar"
           }
          ],
          "barpolar": [
           {
            "marker": {
             "line": {
              "color": "#E5ECF6",
              "width": 0.5
             },
             "pattern": {
              "fillmode": "overlay",
              "size": 10,
              "solidity": 0.2
             }
            },
            "type": "barpolar"
           }
          ],
          "carpet": [
           {
            "aaxis": {
             "endlinecolor": "#2a3f5f",
             "gridcolor": "white",
             "linecolor": "white",
             "minorgridcolor": "white",
             "startlinecolor": "#2a3f5f"
            },
            "baxis": {
             "endlinecolor": "#2a3f5f",
             "gridcolor": "white",
             "linecolor": "white",
             "minorgridcolor": "white",
             "startlinecolor": "#2a3f5f"
            },
            "type": "carpet"
           }
          ],
          "choropleth": [
           {
            "colorbar": {
             "outlinewidth": 0,
             "ticks": ""
            },
            "type": "choropleth"
           }
          ],
          "contour": [
           {
            "colorbar": {
             "outlinewidth": 0,
             "ticks": ""
            },
            "colorscale": [
             [
              0,
              "#0d0887"
             ],
             [
              0.1111111111111111,
              "#46039f"
             ],
             [
              0.2222222222222222,
              "#7201a8"
             ],
             [
              0.3333333333333333,
              "#9c179e"
             ],
             [
              0.4444444444444444,
              "#bd3786"
             ],
             [
              0.5555555555555556,
              "#d8576b"
             ],
             [
              0.6666666666666666,
              "#ed7953"
             ],
             [
              0.7777777777777778,
              "#fb9f3a"
             ],
             [
              0.8888888888888888,
              "#fdca26"
             ],
             [
              1,
              "#f0f921"
             ]
            ],
            "type": "contour"
           }
          ],
          "contourcarpet": [
           {
            "colorbar": {
             "outlinewidth": 0,
             "ticks": ""
            },
            "type": "contourcarpet"
           }
          ],
          "heatmap": [
           {
            "colorbar": {
             "outlinewidth": 0,
             "ticks": ""
            },
            "colorscale": [
             [
              0,
              "#0d0887"
             ],
             [
              0.1111111111111111,
              "#46039f"
             ],
             [
              0.2222222222222222,
              "#7201a8"
             ],
             [
              0.3333333333333333,
              "#9c179e"
             ],
             [
              0.4444444444444444,
              "#bd3786"
             ],
             [
              0.5555555555555556,
              "#d8576b"
             ],
             [
              0.6666666666666666,
              "#ed7953"
             ],
             [
              0.7777777777777778,
              "#fb9f3a"
             ],
             [
              0.8888888888888888,
              "#fdca26"
             ],
             [
              1,
              "#f0f921"
             ]
            ],
            "type": "heatmap"
           }
          ],
          "heatmapgl": [
           {
            "colorbar": {
             "outlinewidth": 0,
             "ticks": ""
            },
            "colorscale": [
             [
              0,
              "#0d0887"
             ],
             [
              0.1111111111111111,
              "#46039f"
             ],
             [
              0.2222222222222222,
              "#7201a8"
             ],
             [
              0.3333333333333333,
              "#9c179e"
             ],
             [
              0.4444444444444444,
              "#bd3786"
             ],
             [
              0.5555555555555556,
              "#d8576b"
             ],
             [
              0.6666666666666666,
              "#ed7953"
             ],
             [
              0.7777777777777778,
              "#fb9f3a"
             ],
             [
              0.8888888888888888,
              "#fdca26"
             ],
             [
              1,
              "#f0f921"
             ]
            ],
            "type": "heatmapgl"
           }
          ],
          "histogram": [
           {
            "marker": {
             "pattern": {
              "fillmode": "overlay",
              "size": 10,
              "solidity": 0.2
             }
            },
            "type": "histogram"
           }
          ],
          "histogram2d": [
           {
            "colorbar": {
             "outlinewidth": 0,
             "ticks": ""
            },
            "colorscale": [
             [
              0,
              "#0d0887"
             ],
             [
              0.1111111111111111,
              "#46039f"
             ],
             [
              0.2222222222222222,
              "#7201a8"
             ],
             [
              0.3333333333333333,
              "#9c179e"
             ],
             [
              0.4444444444444444,
              "#bd3786"
             ],
             [
              0.5555555555555556,
              "#d8576b"
             ],
             [
              0.6666666666666666,
              "#ed7953"
             ],
             [
              0.7777777777777778,
              "#fb9f3a"
             ],
             [
              0.8888888888888888,
              "#fdca26"
             ],
             [
              1,
              "#f0f921"
             ]
            ],
            "type": "histogram2d"
           }
          ],
          "histogram2dcontour": [
           {
            "colorbar": {
             "outlinewidth": 0,
             "ticks": ""
            },
            "colorscale": [
             [
              0,
              "#0d0887"
             ],
             [
              0.1111111111111111,
              "#46039f"
             ],
             [
              0.2222222222222222,
              "#7201a8"
             ],
             [
              0.3333333333333333,
              "#9c179e"
             ],
             [
              0.4444444444444444,
              "#bd3786"
             ],
             [
              0.5555555555555556,
              "#d8576b"
             ],
             [
              0.6666666666666666,
              "#ed7953"
             ],
             [
              0.7777777777777778,
              "#fb9f3a"
             ],
             [
              0.8888888888888888,
              "#fdca26"
             ],
             [
              1,
              "#f0f921"
             ]
            ],
            "type": "histogram2dcontour"
           }
          ],
          "mesh3d": [
           {
            "colorbar": {
             "outlinewidth": 0,
             "ticks": ""
            },
            "type": "mesh3d"
           }
          ],
          "parcoords": [
           {
            "line": {
             "colorbar": {
              "outlinewidth": 0,
              "ticks": ""
             }
            },
            "type": "parcoords"
           }
          ],
          "pie": [
           {
            "automargin": true,
            "type": "pie"
           }
          ],
          "scatter": [
           {
            "fillpattern": {
             "fillmode": "overlay",
             "size": 10,
             "solidity": 0.2
            },
            "type": "scatter"
           }
          ],
          "scatter3d": [
           {
            "line": {
             "colorbar": {
              "outlinewidth": 0,
              "ticks": ""
             }
            },
            "marker": {
             "colorbar": {
              "outlinewidth": 0,
              "ticks": ""
             }
            },
            "type": "scatter3d"
           }
          ],
          "scattercarpet": [
           {
            "marker": {
             "colorbar": {
              "outlinewidth": 0,
              "ticks": ""
             }
            },
            "type": "scattercarpet"
           }
          ],
          "scattergeo": [
           {
            "marker": {
             "colorbar": {
              "outlinewidth": 0,
              "ticks": ""
             }
            },
            "type": "scattergeo"
           }
          ],
          "scattergl": [
           {
            "marker": {
             "colorbar": {
              "outlinewidth": 0,
              "ticks": ""
             }
            },
            "type": "scattergl"
           }
          ],
          "scattermapbox": [
           {
            "marker": {
             "colorbar": {
              "outlinewidth": 0,
              "ticks": ""
             }
            },
            "type": "scattermapbox"
           }
          ],
          "scatterpolar": [
           {
            "marker": {
             "colorbar": {
              "outlinewidth": 0,
              "ticks": ""
             }
            },
            "type": "scatterpolar"
           }
          ],
          "scatterpolargl": [
           {
            "marker": {
             "colorbar": {
              "outlinewidth": 0,
              "ticks": ""
             }
            },
            "type": "scatterpolargl"
           }
          ],
          "scatterternary": [
           {
            "marker": {
             "colorbar": {
              "outlinewidth": 0,
              "ticks": ""
             }
            },
            "type": "scatterternary"
           }
          ],
          "surface": [
           {
            "colorbar": {
             "outlinewidth": 0,
             "ticks": ""
            },
            "colorscale": [
             [
              0,
              "#0d0887"
             ],
             [
              0.1111111111111111,
              "#46039f"
             ],
             [
              0.2222222222222222,
              "#7201a8"
             ],
             [
              0.3333333333333333,
              "#9c179e"
             ],
             [
              0.4444444444444444,
              "#bd3786"
             ],
             [
              0.5555555555555556,
              "#d8576b"
             ],
             [
              0.6666666666666666,
              "#ed7953"
             ],
             [
              0.7777777777777778,
              "#fb9f3a"
             ],
             [
              0.8888888888888888,
              "#fdca26"
             ],
             [
              1,
              "#f0f921"
             ]
            ],
            "type": "surface"
           }
          ],
          "table": [
           {
            "cells": {
             "fill": {
              "color": "#EBF0F8"
             },
             "line": {
              "color": "white"
             }
            },
            "header": {
             "fill": {
              "color": "#C8D4E3"
             },
             "line": {
              "color": "white"
             }
            },
            "type": "table"
           }
          ]
         },
         "layout": {
          "annotationdefaults": {
           "arrowcolor": "#2a3f5f",
           "arrowhead": 0,
           "arrowwidth": 1
          },
          "autotypenumbers": "strict",
          "coloraxis": {
           "colorbar": {
            "outlinewidth": 0,
            "ticks": ""
           }
          },
          "colorscale": {
           "diverging": [
            [
             0,
             "#8e0152"
            ],
            [
             0.1,
             "#c51b7d"
            ],
            [
             0.2,
             "#de77ae"
            ],
            [
             0.3,
             "#f1b6da"
            ],
            [
             0.4,
             "#fde0ef"
            ],
            [
             0.5,
             "#f7f7f7"
            ],
            [
             0.6,
             "#e6f5d0"
            ],
            [
             0.7,
             "#b8e186"
            ],
            [
             0.8,
             "#7fbc41"
            ],
            [
             0.9,
             "#4d9221"
            ],
            [
             1,
             "#276419"
            ]
           ],
           "sequential": [
            [
             0,
             "#0d0887"
            ],
            [
             0.1111111111111111,
             "#46039f"
            ],
            [
             0.2222222222222222,
             "#7201a8"
            ],
            [
             0.3333333333333333,
             "#9c179e"
            ],
            [
             0.4444444444444444,
             "#bd3786"
            ],
            [
             0.5555555555555556,
             "#d8576b"
            ],
            [
             0.6666666666666666,
             "#ed7953"
            ],
            [
             0.7777777777777778,
             "#fb9f3a"
            ],
            [
             0.8888888888888888,
             "#fdca26"
            ],
            [
             1,
             "#f0f921"
            ]
           ],
           "sequentialminus": [
            [
             0,
             "#0d0887"
            ],
            [
             0.1111111111111111,
             "#46039f"
            ],
            [
             0.2222222222222222,
             "#7201a8"
            ],
            [
             0.3333333333333333,
             "#9c179e"
            ],
            [
             0.4444444444444444,
             "#bd3786"
            ],
            [
             0.5555555555555556,
             "#d8576b"
            ],
            [
             0.6666666666666666,
             "#ed7953"
            ],
            [
             0.7777777777777778,
             "#fb9f3a"
            ],
            [
             0.8888888888888888,
             "#fdca26"
            ],
            [
             1,
             "#f0f921"
            ]
           ]
          },
          "colorway": [
           "#636efa",
           "#EF553B",
           "#00cc96",
           "#ab63fa",
           "#FFA15A",
           "#19d3f3",
           "#FF6692",
           "#B6E880",
           "#FF97FF",
           "#FECB52"
          ],
          "font": {
           "color": "#2a3f5f"
          },
          "geo": {
           "bgcolor": "white",
           "lakecolor": "white",
           "landcolor": "#E5ECF6",
           "showlakes": true,
           "showland": true,
           "subunitcolor": "white"
          },
          "hoverlabel": {
           "align": "left"
          },
          "hovermode": "closest",
          "mapbox": {
           "style": "light"
          },
          "paper_bgcolor": "white",
          "plot_bgcolor": "#E5ECF6",
          "polar": {
           "angularaxis": {
            "gridcolor": "white",
            "linecolor": "white",
            "ticks": ""
           },
           "bgcolor": "#E5ECF6",
           "radialaxis": {
            "gridcolor": "white",
            "linecolor": "white",
            "ticks": ""
           }
          },
          "scene": {
           "xaxis": {
            "backgroundcolor": "#E5ECF6",
            "gridcolor": "white",
            "gridwidth": 2,
            "linecolor": "white",
            "showbackground": true,
            "ticks": "",
            "zerolinecolor": "white"
           },
           "yaxis": {
            "backgroundcolor": "#E5ECF6",
            "gridcolor": "white",
            "gridwidth": 2,
            "linecolor": "white",
            "showbackground": true,
            "ticks": "",
            "zerolinecolor": "white"
           },
           "zaxis": {
            "backgroundcolor": "#E5ECF6",
            "gridcolor": "white",
            "gridwidth": 2,
            "linecolor": "white",
            "showbackground": true,
            "ticks": "",
            "zerolinecolor": "white"
           }
          },
          "shapedefaults": {
           "line": {
            "color": "#2a3f5f"
           }
          },
          "ternary": {
           "aaxis": {
            "gridcolor": "white",
            "linecolor": "white",
            "ticks": ""
           },
           "baxis": {
            "gridcolor": "white",
            "linecolor": "white",
            "ticks": ""
           },
           "bgcolor": "#E5ECF6",
           "caxis": {
            "gridcolor": "white",
            "linecolor": "white",
            "ticks": ""
           }
          },
          "title": {
           "x": 0.05
          },
          "xaxis": {
           "automargin": true,
           "gridcolor": "white",
           "linecolor": "white",
           "ticks": "",
           "title": {
            "standoff": 15
           },
           "zerolinecolor": "white",
           "zerolinewidth": 2
          },
          "yaxis": {
           "automargin": true,
           "gridcolor": "white",
           "linecolor": "white",
           "ticks": "",
           "title": {
            "standoff": 15
           },
           "zerolinecolor": "white",
           "zerolinewidth": 2
          }
         }
        },
        "title": {
         "text": "Popular ROM Choices"
        }
       }
      },
      "text/html": [
       "<div>                            <div id=\"b2bbe66b-e293-4386-961a-a64b56cff5a0\" class=\"plotly-graph-div\" style=\"height:525px; width:100%;\"></div>            <script type=\"text/javascript\">                require([\"plotly\"], function(Plotly) {                    window.PLOTLYENV=window.PLOTLYENV || {};                                    if (document.getElementById(\"b2bbe66b-e293-4386-961a-a64b56cff5a0\")) {                    Plotly.newPlot(                        \"b2bbe66b-e293-4386-961a-a64b56cff5a0\",                        [{\"domain\":{\"x\":[0.0,1.0],\"y\":[0.0,1.0]},\"hovertemplate\":\"rom=%{label}\\u003cbr\\u003ecount=%{value}\\u003cextra\\u003e\\u003c\\u002fextra\\u003e\",\"labels\":[128,256,64,512],\"legendgroup\":\"\",\"name\":\"\",\"showlegend\":true,\"values\":[405,172,38,3],\"type\":\"pie\"}],                        {\"template\":{\"data\":{\"histogram2dcontour\":[{\"type\":\"histogram2dcontour\",\"colorbar\":{\"outlinewidth\":0,\"ticks\":\"\"},\"colorscale\":[[0.0,\"#0d0887\"],[0.1111111111111111,\"#46039f\"],[0.2222222222222222,\"#7201a8\"],[0.3333333333333333,\"#9c179e\"],[0.4444444444444444,\"#bd3786\"],[0.5555555555555556,\"#d8576b\"],[0.6666666666666666,\"#ed7953\"],[0.7777777777777778,\"#fb9f3a\"],[0.8888888888888888,\"#fdca26\"],[1.0,\"#f0f921\"]]}],\"choropleth\":[{\"type\":\"choropleth\",\"colorbar\":{\"outlinewidth\":0,\"ticks\":\"\"}}],\"histogram2d\":[{\"type\":\"histogram2d\",\"colorbar\":{\"outlinewidth\":0,\"ticks\":\"\"},\"colorscale\":[[0.0,\"#0d0887\"],[0.1111111111111111,\"#46039f\"],[0.2222222222222222,\"#7201a8\"],[0.3333333333333333,\"#9c179e\"],[0.4444444444444444,\"#bd3786\"],[0.5555555555555556,\"#d8576b\"],[0.6666666666666666,\"#ed7953\"],[0.7777777777777778,\"#fb9f3a\"],[0.8888888888888888,\"#fdca26\"],[1.0,\"#f0f921\"]]}],\"heatmap\":[{\"type\":\"heatmap\",\"colorbar\":{\"outlinewidth\":0,\"ticks\":\"\"},\"colorscale\":[[0.0,\"#0d0887\"],[0.1111111111111111,\"#46039f\"],[0.2222222222222222,\"#7201a8\"],[0.3333333333333333,\"#9c179e\"],[0.4444444444444444,\"#bd3786\"],[0.5555555555555556,\"#d8576b\"],[0.6666666666666666,\"#ed7953\"],[0.7777777777777778,\"#fb9f3a\"],[0.8888888888888888,\"#fdca26\"],[1.0,\"#f0f921\"]]}],\"heatmapgl\":[{\"type\":\"heatmapgl\",\"colorbar\":{\"outlinewidth\":0,\"ticks\":\"\"},\"colorscale\":[[0.0,\"#0d0887\"],[0.1111111111111111,\"#46039f\"],[0.2222222222222222,\"#7201a8\"],[0.3333333333333333,\"#9c179e\"],[0.4444444444444444,\"#bd3786\"],[0.5555555555555556,\"#d8576b\"],[0.6666666666666666,\"#ed7953\"],[0.7777777777777778,\"#fb9f3a\"],[0.8888888888888888,\"#fdca26\"],[1.0,\"#f0f921\"]]}],\"contourcarpet\":[{\"type\":\"contourcarpet\",\"colorbar\":{\"outlinewidth\":0,\"ticks\":\"\"}}],\"contour\":[{\"type\":\"contour\",\"colorbar\":{\"outlinewidth\":0,\"ticks\":\"\"},\"colorscale\":[[0.0,\"#0d0887\"],[0.1111111111111111,\"#46039f\"],[0.2222222222222222,\"#7201a8\"],[0.3333333333333333,\"#9c179e\"],[0.4444444444444444,\"#bd3786\"],[0.5555555555555556,\"#d8576b\"],[0.6666666666666666,\"#ed7953\"],[0.7777777777777778,\"#fb9f3a\"],[0.8888888888888888,\"#fdca26\"],[1.0,\"#f0f921\"]]}],\"surface\":[{\"type\":\"surface\",\"colorbar\":{\"outlinewidth\":0,\"ticks\":\"\"},\"colorscale\":[[0.0,\"#0d0887\"],[0.1111111111111111,\"#46039f\"],[0.2222222222222222,\"#7201a8\"],[0.3333333333333333,\"#9c179e\"],[0.4444444444444444,\"#bd3786\"],[0.5555555555555556,\"#d8576b\"],[0.6666666666666666,\"#ed7953\"],[0.7777777777777778,\"#fb9f3a\"],[0.8888888888888888,\"#fdca26\"],[1.0,\"#f0f921\"]]}],\"mesh3d\":[{\"type\":\"mesh3d\",\"colorbar\":{\"outlinewidth\":0,\"ticks\":\"\"}}],\"scatter\":[{\"fillpattern\":{\"fillmode\":\"overlay\",\"size\":10,\"solidity\":0.2},\"type\":\"scatter\"}],\"parcoords\":[{\"type\":\"parcoords\",\"line\":{\"colorbar\":{\"outlinewidth\":0,\"ticks\":\"\"}}}],\"scatterpolargl\":[{\"type\":\"scatterpolargl\",\"marker\":{\"colorbar\":{\"outlinewidth\":0,\"ticks\":\"\"}}}],\"bar\":[{\"error_x\":{\"color\":\"#2a3f5f\"},\"error_y\":{\"color\":\"#2a3f5f\"},\"marker\":{\"line\":{\"color\":\"#E5ECF6\",\"width\":0.5},\"pattern\":{\"fillmode\":\"overlay\",\"size\":10,\"solidity\":0.2}},\"type\":\"bar\"}],\"scattergeo\":[{\"type\":\"scattergeo\",\"marker\":{\"colorbar\":{\"outlinewidth\":0,\"ticks\":\"\"}}}],\"scatterpolar\":[{\"type\":\"scatterpolar\",\"marker\":{\"colorbar\":{\"outlinewidth\":0,\"ticks\":\"\"}}}],\"histogram\":[{\"marker\":{\"pattern\":{\"fillmode\":\"overlay\",\"size\":10,\"solidity\":0.2}},\"type\":\"histogram\"}],\"scattergl\":[{\"type\":\"scattergl\",\"marker\":{\"colorbar\":{\"outlinewidth\":0,\"ticks\":\"\"}}}],\"scatter3d\":[{\"type\":\"scatter3d\",\"line\":{\"colorbar\":{\"outlinewidth\":0,\"ticks\":\"\"}},\"marker\":{\"colorbar\":{\"outlinewidth\":0,\"ticks\":\"\"}}}],\"scattermapbox\":[{\"type\":\"scattermapbox\",\"marker\":{\"colorbar\":{\"outlinewidth\":0,\"ticks\":\"\"}}}],\"scatterternary\":[{\"type\":\"scatterternary\",\"marker\":{\"colorbar\":{\"outlinewidth\":0,\"ticks\":\"\"}}}],\"scattercarpet\":[{\"type\":\"scattercarpet\",\"marker\":{\"colorbar\":{\"outlinewidth\":0,\"ticks\":\"\"}}}],\"carpet\":[{\"aaxis\":{\"endlinecolor\":\"#2a3f5f\",\"gridcolor\":\"white\",\"linecolor\":\"white\",\"minorgridcolor\":\"white\",\"startlinecolor\":\"#2a3f5f\"},\"baxis\":{\"endlinecolor\":\"#2a3f5f\",\"gridcolor\":\"white\",\"linecolor\":\"white\",\"minorgridcolor\":\"white\",\"startlinecolor\":\"#2a3f5f\"},\"type\":\"carpet\"}],\"table\":[{\"cells\":{\"fill\":{\"color\":\"#EBF0F8\"},\"line\":{\"color\":\"white\"}},\"header\":{\"fill\":{\"color\":\"#C8D4E3\"},\"line\":{\"color\":\"white\"}},\"type\":\"table\"}],\"barpolar\":[{\"marker\":{\"line\":{\"color\":\"#E5ECF6\",\"width\":0.5},\"pattern\":{\"fillmode\":\"overlay\",\"size\":10,\"solidity\":0.2}},\"type\":\"barpolar\"}],\"pie\":[{\"automargin\":true,\"type\":\"pie\"}]},\"layout\":{\"autotypenumbers\":\"strict\",\"colorway\":[\"#636efa\",\"#EF553B\",\"#00cc96\",\"#ab63fa\",\"#FFA15A\",\"#19d3f3\",\"#FF6692\",\"#B6E880\",\"#FF97FF\",\"#FECB52\"],\"font\":{\"color\":\"#2a3f5f\"},\"hovermode\":\"closest\",\"hoverlabel\":{\"align\":\"left\"},\"paper_bgcolor\":\"white\",\"plot_bgcolor\":\"#E5ECF6\",\"polar\":{\"bgcolor\":\"#E5ECF6\",\"angularaxis\":{\"gridcolor\":\"white\",\"linecolor\":\"white\",\"ticks\":\"\"},\"radialaxis\":{\"gridcolor\":\"white\",\"linecolor\":\"white\",\"ticks\":\"\"}},\"ternary\":{\"bgcolor\":\"#E5ECF6\",\"aaxis\":{\"gridcolor\":\"white\",\"linecolor\":\"white\",\"ticks\":\"\"},\"baxis\":{\"gridcolor\":\"white\",\"linecolor\":\"white\",\"ticks\":\"\"},\"caxis\":{\"gridcolor\":\"white\",\"linecolor\":\"white\",\"ticks\":\"\"}},\"coloraxis\":{\"colorbar\":{\"outlinewidth\":0,\"ticks\":\"\"}},\"colorscale\":{\"sequential\":[[0.0,\"#0d0887\"],[0.1111111111111111,\"#46039f\"],[0.2222222222222222,\"#7201a8\"],[0.3333333333333333,\"#9c179e\"],[0.4444444444444444,\"#bd3786\"],[0.5555555555555556,\"#d8576b\"],[0.6666666666666666,\"#ed7953\"],[0.7777777777777778,\"#fb9f3a\"],[0.8888888888888888,\"#fdca26\"],[1.0,\"#f0f921\"]],\"sequentialminus\":[[0.0,\"#0d0887\"],[0.1111111111111111,\"#46039f\"],[0.2222222222222222,\"#7201a8\"],[0.3333333333333333,\"#9c179e\"],[0.4444444444444444,\"#bd3786\"],[0.5555555555555556,\"#d8576b\"],[0.6666666666666666,\"#ed7953\"],[0.7777777777777778,\"#fb9f3a\"],[0.8888888888888888,\"#fdca26\"],[1.0,\"#f0f921\"]],\"diverging\":[[0,\"#8e0152\"],[0.1,\"#c51b7d\"],[0.2,\"#de77ae\"],[0.3,\"#f1b6da\"],[0.4,\"#fde0ef\"],[0.5,\"#f7f7f7\"],[0.6,\"#e6f5d0\"],[0.7,\"#b8e186\"],[0.8,\"#7fbc41\"],[0.9,\"#4d9221\"],[1,\"#276419\"]]},\"xaxis\":{\"gridcolor\":\"white\",\"linecolor\":\"white\",\"ticks\":\"\",\"title\":{\"standoff\":15},\"zerolinecolor\":\"white\",\"automargin\":true,\"zerolinewidth\":2},\"yaxis\":{\"gridcolor\":\"white\",\"linecolor\":\"white\",\"ticks\":\"\",\"title\":{\"standoff\":15},\"zerolinecolor\":\"white\",\"automargin\":true,\"zerolinewidth\":2},\"scene\":{\"xaxis\":{\"backgroundcolor\":\"#E5ECF6\",\"gridcolor\":\"white\",\"linecolor\":\"white\",\"showbackground\":true,\"ticks\":\"\",\"zerolinecolor\":\"white\",\"gridwidth\":2},\"yaxis\":{\"backgroundcolor\":\"#E5ECF6\",\"gridcolor\":\"white\",\"linecolor\":\"white\",\"showbackground\":true,\"ticks\":\"\",\"zerolinecolor\":\"white\",\"gridwidth\":2},\"zaxis\":{\"backgroundcolor\":\"#E5ECF6\",\"gridcolor\":\"white\",\"linecolor\":\"white\",\"showbackground\":true,\"ticks\":\"\",\"zerolinecolor\":\"white\",\"gridwidth\":2}},\"shapedefaults\":{\"line\":{\"color\":\"#2a3f5f\"}},\"annotationdefaults\":{\"arrowcolor\":\"#2a3f5f\",\"arrowhead\":0,\"arrowwidth\":1},\"geo\":{\"bgcolor\":\"white\",\"landcolor\":\"#E5ECF6\",\"subunitcolor\":\"white\",\"showland\":true,\"showlakes\":true,\"lakecolor\":\"white\"},\"title\":{\"x\":0.05},\"mapbox\":{\"style\":\"light\"}}},\"legend\":{\"tracegroupgap\":0},\"title\":{\"text\":\"Popular ROM Choices\"},\"piecolorway\":[\"#EE7600\",\"#66b3ff\",\"#99ff99\",\"#ffcc99\",\"#698B69\"]},                        {\"responsive\": true}                    ).then(function(){\n",
       "                            \n",
       "var gd = document.getElementById('b2bbe66b-e293-4386-961a-a64b56cff5a0');\n",
       "var x = new MutationObserver(function (mutations, observer) {{\n",
       "        var display = window.getComputedStyle(gd).display;\n",
       "        if (!display || display === 'none') {{\n",
       "            console.log([gd, 'removed!']);\n",
       "            Plotly.purge(gd);\n",
       "            observer.disconnect();\n",
       "        }}\n",
       "}});\n",
       "\n",
       "// Listen for the removal of the full notebook cells\n",
       "var notebookContainer = gd.closest('#notebook-container');\n",
       "if (notebookContainer) {{\n",
       "    x.observe(notebookContainer, {childList: true});\n",
       "}}\n",
       "\n",
       "// Listen for the clearing of the current output cell\n",
       "var outputEl = gd.closest('.output');\n",
       "if (outputEl) {{\n",
       "    x.observe(outputEl, {childList: true});\n",
       "}}\n",
       "\n",
       "                        })                };                });            </script>        </div>"
      ]
     },
     "metadata": {},
     "output_type": "display_data"
    }
   ],
   "source": [
    "pie_df = df.rom_processed.value_counts().reset_index()\n",
    "pie_df.columns = ['rom','count']\n",
    "fig = px.pie(pie_df, values='count', names='rom', title='Popular ROM Specs in 5g Android Phones',color_discrete_sequence=['#EE7600','#66b3ff','#99ff99','#ffcc99','#698B69'])\n",
    "fig.show()"
   ]
  },
  {
   "cell_type": "code",
   "execution_count": 65,
   "id": "d68abfb8",
   "metadata": {},
   "outputs": [
    {
     "data": {
      "application/vnd.plotly.v1+json": {
       "config": {
        "plotlyServerURL": "https://plot.ly"
       },
       "data": [
        {
         "alignmentgroup": "True",
         "bingroup": "x",
         "hovertemplate": "brand=vivo<br>price_processed=%{x}<br>count=%{y}<extra></extra>",
         "legendgroup": "vivo",
         "marker": {
          "color": "#636efa",
          "pattern": {
           "shape": ""
          }
         },
         "name": "vivo",
         "offsetgroup": "vivo",
         "orientation": "v",
         "showlegend": true,
         "type": "histogram",
         "x": [
          15999,
          15999,
          13999,
          12999,
          12999,
          12999,
          15999,
          13999,
          13999,
          20999,
          20999,
          18999,
          18999,
          32999,
          32999,
          28397,
          19999,
          36999,
          19999,
          28749,
          17999,
          35999,
          23999,
          23999,
          17999,
          35999,
          29778,
          23999,
          31989,
          63999,
          24985,
          31999,
          25999,
          25999,
          19979,
          59999,
          23999,
          63999,
          25499,
          24999,
          23999,
          59999,
          24990,
          84999,
          28950,
          19988,
          26499,
          33469,
          27990,
          42999,
          42999,
          24999,
          39999,
          39999,
          37999,
          37999,
          25487,
          41990,
          45999,
          27990,
          26990,
          36990,
          38990,
          43990,
          43990,
          38990,
          26499,
          19999,
          26499,
          19999,
          25999,
          25290,
          25290,
          28880,
          28880,
          28880,
          42999,
          54999,
          54999
         ],
         "xaxis": "x",
         "yaxis": "y"
        },
        {
         "alignmentgroup": "True",
         "bingroup": "x",
         "hovertemplate": "brand=POCO<br>price_processed=%{x}<br>count=%{y}<extra></extra>",
         "legendgroup": "POCO",
         "marker": {
          "color": "#EF553B",
          "pattern": {
           "shape": ""
          }
         },
         "name": "POCO",
         "offsetgroup": "POCO",
         "orientation": "v",
         "showlegend": true,
         "type": "histogram",
         "x": [
          11999,
          11999,
          15999,
          15999,
          15999,
          17999,
          11999,
          13999,
          17999,
          23999,
          15999,
          13999,
          14499,
          23999,
          17499,
          23999,
          17999,
          21999,
          29999,
          16499,
          21999,
          29999,
          29999,
          13999,
          32999,
          16999,
          19499,
          15999,
          32999,
          19499,
          32999,
          19499,
          14999,
          16999,
          17499,
          34999,
          27999,
          16499,
          39999,
          39999,
          27999,
          27999,
          27999,
          27999
         ],
         "xaxis": "x",
         "yaxis": "y"
        },
        {
         "alignmentgroup": "True",
         "bingroup": "x",
         "hovertemplate": "brand=OnePlus<br>price_processed=%{x}<br>count=%{y}<extra></extra>",
         "legendgroup": "OnePlus",
         "marker": {
          "color": "#00cc96",
          "pattern": {
           "shape": ""
          }
         },
         "name": "OnePlus",
         "offsetgroup": "OnePlus",
         "orientation": "v",
         "showlegend": true,
         "type": "histogram",
         "x": [
          17967,
          17889,
          28448,
          39788,
          44875,
          44237,
          21974,
          27700,
          30990,
          30979,
          28388,
          35480,
          35480,
          25990,
          25990,
          35490,
          26990,
          35489,
          35999,
          54999,
          24999,
          22690,
          54830,
          22979,
          61899,
          22990,
          34499,
          35480,
          30990,
          23999,
          44990,
          54999,
          54999,
          50999,
          24999,
          24999,
          26990,
          33999,
          61899,
          47999,
          34990,
          48999,
          42999,
          32990,
          32990,
          35990,
          32999,
          39800,
          30999,
          30999,
          64999,
          54999,
          39800,
          30999,
          54999,
          64999,
          30999,
          34990,
          49989,
          39890,
          39999,
          48990,
          39998,
          49989,
          39999,
          39890,
          48990,
          43990,
          30990,
          53400,
          39990,
          54900,
          35499,
          35499,
          49800,
          47999,
          59798,
          59890,
          28047,
          27822,
          49999
         ],
         "xaxis": "x",
         "yaxis": "y"
        },
        {
         "alignmentgroup": "True",
         "bingroup": "x",
         "hovertemplate": "brand=MOTOROLA<br>price_processed=%{x}<br>count=%{y}<extra></extra>",
         "legendgroup": "MOTOROLA",
         "marker": {
          "color": "#ab63fa",
          "pattern": {
           "shape": ""
          }
         },
         "name": "MOTOROLA",
         "offsetgroup": "MOTOROLA",
         "orientation": "v",
         "showlegend": true,
         "type": "histogram",
         "x": [
          15499,
          15499,
          16999,
          16499,
          16499,
          16999,
          29999,
          21499,
          29999,
          21499,
          24999,
          24999,
          34999,
          34999,
          29999,
          49999,
          37999,
          27999,
          24999,
          24999,
          24999,
          44999,
          14999,
          14999,
          34999,
          34999
         ],
         "xaxis": "x",
         "yaxis": "y"
        },
        {
         "alignmentgroup": "True",
         "bingroup": "x",
         "hovertemplate": "brand=SAMSUNG<br>price_processed=%{x}<br>count=%{y}<extra></extra>",
         "legendgroup": "SAMSUNG",
         "marker": {
          "color": "#FFA15A",
          "pattern": {
           "shape": ""
          }
         },
         "name": "SAMSUNG",
         "offsetgroup": "SAMSUNG",
         "orientation": "v",
         "showlegend": true,
         "type": "histogram",
         "x": [
          14490,
          14490,
          14490,
          16999,
          13490,
          13490,
          13490,
          32999,
          32999,
          16999,
          16999,
          16899,
          17217,
          32999,
          17217,
          32999,
          49999,
          27974,
          15810,
          17462,
          16182,
          18999,
          18999,
          18999,
          17462,
          34999,
          21999,
          16499,
          32999,
          21999,
          28929,
          32999,
          15999,
          20999,
          21999,
          30999,
          30999,
          32999,
          20999,
          16499,
          20999,
          12935,
          12935,
          15999,
          40999,
          20999,
          24385,
          32999,
          15999,
          27999,
          17599,
          15699,
          12838,
          16999,
          22999,
          17390,
          124999,
          164989,
          15480,
          49999,
          49999,
          30999,
          29999,
          14990,
          94999,
          38999,
          27880,
          12938,
          41999,
          27990,
          41999,
          27990,
          41999,
          35990,
          104999,
          23999,
          35990,
          94999,
          40999,
          31500,
          33499,
          18499,
          27990,
          27999,
          34999,
          30999,
          35999,
          87990,
          16999,
          30999,
          35999,
          87990,
          16999,
          39099,
          124999,
          104999,
          154989,
          20999,
          84999,
          31999,
          84999,
          35890,
          18900,
          39899,
          35890,
          14670,
          31800,
          32999,
          16489,
          15149,
          16299,
          38999,
          32999,
          16299,
          38999,
          115999,
          31999,
          31999,
          15812,
          40999,
          17660
         ],
         "xaxis": "x",
         "yaxis": "y"
        },
        {
         "alignmentgroup": "True",
         "bingroup": "x",
         "hovertemplate": "brand=Infinix<br>price_processed=%{x}<br>count=%{y}<extra></extra>",
         "legendgroup": "Infinix",
         "marker": {
          "color": "#19d3f3",
          "pattern": {
           "shape": ""
          }
         },
         "name": "Infinix",
         "offsetgroup": "Infinix",
         "orientation": "v",
         "showlegend": true,
         "type": "histogram",
         "x": [
          15999,
          15999,
          11499,
          11499,
          11499,
          13499,
          13499,
          15999,
          13499,
          15999,
          15999,
          17999,
          17999,
          17999,
          14999,
          14999,
          29999,
          29999,
          19999,
          19999,
          19999,
          19999
         ],
         "xaxis": "x",
         "yaxis": "y"
        },
        {
         "alignmentgroup": "True",
         "bingroup": "x",
         "hovertemplate": "brand=realme<br>price_processed=%{x}<br>count=%{y}<extra></extra>",
         "legendgroup": "realme",
         "marker": {
          "color": "#FF6692",
          "pattern": {
           "shape": ""
          }
         },
         "name": "realme",
         "offsetgroup": "realme",
         "orientation": "v",
         "showlegend": true,
         "type": "histogram",
         "x": [
          18999,
          19999,
          18999,
          19999,
          19999,
          18999,
          23999,
          23999,
          16999,
          16999,
          16999,
          14999,
          14999,
          21999,
          21999,
          32299,
          17999,
          17999,
          23999,
          22999,
          22999,
          23999,
          22999,
          23999,
          21999,
          27999,
          18499,
          13499,
          21990,
          24999,
          24999,
          24999,
          22999,
          33999,
          19990,
          16499,
          27999,
          27999,
          19899,
          18999,
          35999,
          31999,
          35999,
          42999,
          29999,
          42999,
          29999,
          18999,
          27999,
          29999,
          29999,
          42999,
          29999,
          27999,
          42999,
          34999,
          36999,
          38999,
          34999,
          36999,
          42999,
          34999,
          36999,
          38999,
          38999,
          57999,
          49999,
          27999,
          49999,
          27999,
          24999,
          49999,
          49999,
          49999,
          49999
         ],
         "xaxis": "x",
         "yaxis": "y"
        },
        {
         "alignmentgroup": "True",
         "bingroup": "x",
         "hovertemplate": "brand=REDMI<br>price_processed=%{x}<br>count=%{y}<extra></extra>",
         "legendgroup": "REDMI",
         "marker": {
          "color": "#B6E880",
          "pattern": {
           "shape": ""
          }
         },
         "name": "REDMI",
         "offsetgroup": "REDMI",
         "orientation": "v",
         "showlegend": true,
         "type": "histogram",
         "x": [
          18999,
          18999,
          18999,
          16999,
          16999,
          27990,
          23999,
          16999,
          23999,
          23999,
          29999,
          26999,
          23999,
          25999,
          26999,
          13896,
          25999,
          14905,
          15193,
          13896,
          13480,
          23999,
          32999,
          25999,
          32999,
          15307,
          25999,
          15193,
          32999,
          25999,
          23999,
          29990,
          14899,
          32999,
          26999,
          18500,
          15995,
          18999,
          18999,
          20996,
          16999,
          16999,
          14999,
          13999,
          17490,
          20000,
          20999,
          17990,
          17990,
          17999,
          17999,
          20999,
          20999,
          20999,
          20999,
          20999,
          20999,
          11999
         ],
         "xaxis": "x",
         "yaxis": "y"
        },
        {
         "alignmentgroup": "True",
         "bingroup": "x",
         "hovertemplate": "brand=Google<br>price_processed=%{x}<br>count=%{y}<extra></extra>",
         "legendgroup": "Google",
         "marker": {
          "color": "#FF97FF",
          "pattern": {
           "shape": ""
          }
         },
         "name": "Google",
         "offsetgroup": "Google",
         "orientation": "v",
         "showlegend": true,
         "type": "histogram",
         "x": [
          28999,
          28999,
          43999,
          43999,
          43999,
          53999,
          53999,
          53999,
          75999,
          75999,
          75999
         ],
         "xaxis": "x",
         "yaxis": "y"
        },
        {
         "alignmentgroup": "True",
         "bingroup": "x",
         "hovertemplate": "brand=IQOO<br>price_processed=%{x}<br>count=%{y}<extra></extra>",
         "legendgroup": "IQOO",
         "marker": {
          "color": "#FECB52",
          "pattern": {
           "shape": ""
          }
         },
         "name": "IQOO",
         "offsetgroup": "IQOO",
         "orientation": "v",
         "showlegend": true,
         "type": "histogram",
         "x": [
          15995,
          15217,
          14295,
          16495,
          15322,
          15749,
          15990,
          34592,
          29990,
          30999,
          34657,
          33990,
          49499,
          13799,
          15999,
          16990,
          19290,
          31990,
          16990,
          23790,
          28390
         ],
         "xaxis": "x",
         "yaxis": "y"
        },
        {
         "alignmentgroup": "True",
         "bingroup": "x",
         "hovertemplate": "brand=OPPO<br>price_processed=%{x}<br>count=%{y}<extra></extra>",
         "legendgroup": "OPPO",
         "marker": {
          "color": "#636efa",
          "pattern": {
           "shape": ""
          }
         },
         "name": "OPPO",
         "offsetgroup": "OPPO",
         "orientation": "v",
         "showlegend": true,
         "type": "histogram",
         "x": [
          29999,
          29999,
          18680,
          18570,
          23799,
          23799,
          26495,
          18989,
          29999,
          29999,
          17499,
          17499,
          17499,
          19449,
          35990,
          89999,
          35990,
          89999,
          24490,
          20890,
          24490,
          23900,
          23300
         ],
         "xaxis": "x",
         "yaxis": "y"
        },
        {
         "alignmentgroup": "True",
         "bingroup": "x",
         "hovertemplate": "brand=Nothing<br>price_processed=%{x}<br>count=%{y}<extra></extra>",
         "legendgroup": "Nothing",
         "marker": {
          "color": "#EF553B",
          "pattern": {
           "shape": ""
          }
         },
         "name": "Nothing",
         "offsetgroup": "Nothing",
         "orientation": "v",
         "showlegend": true,
         "type": "histogram",
         "x": [
          30999,
          30499,
          29499
         ],
         "xaxis": "x",
         "yaxis": "y"
        },
        {
         "alignmentgroup": "True",
         "bingroup": "x",
         "hovertemplate": "brand=Xiaomi<br>price_processed=%{x}<br>count=%{y}<extra></extra>",
         "legendgroup": "Xiaomi",
         "marker": {
          "color": "#00cc96",
          "pattern": {
           "shape": ""
          }
         },
         "name": "Xiaomi",
         "offsetgroup": "Xiaomi",
         "orientation": "v",
         "showlegend": true,
         "type": "histogram",
         "x": [
          21990,
          23999,
          21990,
          23999,
          25990,
          47499,
          26999,
          23999,
          23999,
          24990,
          24450,
          47999,
          46990,
          31990,
          31990,
          31990,
          22200,
          24499,
          26999,
          24990,
          24499,
          26999,
          24990,
          47499,
          42990,
          42990
         ],
         "xaxis": "x",
         "yaxis": "y"
        },
        {
         "alignmentgroup": "True",
         "bingroup": "x",
         "hovertemplate": "brand=Tecno<br>price_processed=%{x}<br>count=%{y}<extra></extra>",
         "legendgroup": "Tecno",
         "marker": {
          "color": "#ab63fa",
          "pattern": {
           "shape": ""
          }
         },
         "name": "Tecno",
         "offsetgroup": "Tecno",
         "orientation": "v",
         "showlegend": true,
         "type": "histogram",
         "x": [
          36999,
          44997,
          15799,
          15499,
          15499,
          15999,
          15999,
          44999,
          13999,
          13999,
          19999,
          13190,
          12998,
          12499,
          88888
         ],
         "xaxis": "x",
         "yaxis": "y"
        },
        {
         "alignmentgroup": "True",
         "bingroup": "x",
         "hovertemplate": "brand=Moto<br>price_processed=%{x}<br>count=%{y}<extra></extra>",
         "legendgroup": "Moto",
         "marker": {
          "color": "#FFA15A",
          "pattern": {
           "shape": ""
          }
         },
         "name": "Moto",
         "offsetgroup": "Moto",
         "orientation": "v",
         "showlegend": true,
         "type": "histogram",
         "x": [
          18890,
          18890
         ],
         "xaxis": "x",
         "yaxis": "y"
        },
        {
         "alignmentgroup": "True",
         "bingroup": "x",
         "hovertemplate": "brand=Mi<br>price_processed=%{x}<br>count=%{y}<extra></extra>",
         "legendgroup": "Mi",
         "marker": {
          "color": "#19d3f3",
          "pattern": {
           "shape": ""
          }
         },
         "name": "Mi",
         "offsetgroup": "Mi",
         "orientation": "v",
         "showlegend": true,
         "type": "histogram",
         "x": [
          23999,
          23999,
          24996,
          34499,
          28190,
          23990,
          23890,
          27990,
          24490
         ],
         "xaxis": "x",
         "yaxis": "y"
        },
        {
         "alignmentgroup": "True",
         "bingroup": "x",
         "hovertemplate": "brand=ASUS<br>price_processed=%{x}<br>count=%{y}<extra></extra>",
         "legendgroup": "ASUS",
         "marker": {
          "color": "#FF6692",
          "pattern": {
           "shape": ""
          }
         },
         "name": "ASUS",
         "offsetgroup": "ASUS",
         "orientation": "v",
         "showlegend": true,
         "type": "histogram",
         "x": [
          57999
         ],
         "xaxis": "x",
         "yaxis": "y"
        },
        {
         "alignmentgroup": "True",
         "bingroup": "x",
         "hovertemplate": "brand=HTC<br>price_processed=%{x}<br>count=%{y}<extra></extra>",
         "legendgroup": "HTC",
         "marker": {
          "color": "#B6E880",
          "pattern": {
           "shape": ""
          }
         },
         "name": "HTC",
         "offsetgroup": "HTC",
         "orientation": "v",
         "showlegend": true,
         "type": "histogram",
         "x": [
          16999
         ],
         "xaxis": "x",
         "yaxis": "y"
        }
       ],
       "layout": {
        "barmode": "relative",
        "legend": {
         "title": {
          "text": "brand"
         },
         "tracegroupgap": 0
        },
        "template": {
         "data": {
          "bar": [
           {
            "error_x": {
             "color": "#2a3f5f"
            },
            "error_y": {
             "color": "#2a3f5f"
            },
            "marker": {
             "line": {
              "color": "#E5ECF6",
              "width": 0.5
             },
             "pattern": {
              "fillmode": "overlay",
              "size": 10,
              "solidity": 0.2
             }
            },
            "type": "bar"
           }
          ],
          "barpolar": [
           {
            "marker": {
             "line": {
              "color": "#E5ECF6",
              "width": 0.5
             },
             "pattern": {
              "fillmode": "overlay",
              "size": 10,
              "solidity": 0.2
             }
            },
            "type": "barpolar"
           }
          ],
          "carpet": [
           {
            "aaxis": {
             "endlinecolor": "#2a3f5f",
             "gridcolor": "white",
             "linecolor": "white",
             "minorgridcolor": "white",
             "startlinecolor": "#2a3f5f"
            },
            "baxis": {
             "endlinecolor": "#2a3f5f",
             "gridcolor": "white",
             "linecolor": "white",
             "minorgridcolor": "white",
             "startlinecolor": "#2a3f5f"
            },
            "type": "carpet"
           }
          ],
          "choropleth": [
           {
            "colorbar": {
             "outlinewidth": 0,
             "ticks": ""
            },
            "type": "choropleth"
           }
          ],
          "contour": [
           {
            "colorbar": {
             "outlinewidth": 0,
             "ticks": ""
            },
            "colorscale": [
             [
              0,
              "#0d0887"
             ],
             [
              0.1111111111111111,
              "#46039f"
             ],
             [
              0.2222222222222222,
              "#7201a8"
             ],
             [
              0.3333333333333333,
              "#9c179e"
             ],
             [
              0.4444444444444444,
              "#bd3786"
             ],
             [
              0.5555555555555556,
              "#d8576b"
             ],
             [
              0.6666666666666666,
              "#ed7953"
             ],
             [
              0.7777777777777778,
              "#fb9f3a"
             ],
             [
              0.8888888888888888,
              "#fdca26"
             ],
             [
              1,
              "#f0f921"
             ]
            ],
            "type": "contour"
           }
          ],
          "contourcarpet": [
           {
            "colorbar": {
             "outlinewidth": 0,
             "ticks": ""
            },
            "type": "contourcarpet"
           }
          ],
          "heatmap": [
           {
            "colorbar": {
             "outlinewidth": 0,
             "ticks": ""
            },
            "colorscale": [
             [
              0,
              "#0d0887"
             ],
             [
              0.1111111111111111,
              "#46039f"
             ],
             [
              0.2222222222222222,
              "#7201a8"
             ],
             [
              0.3333333333333333,
              "#9c179e"
             ],
             [
              0.4444444444444444,
              "#bd3786"
             ],
             [
              0.5555555555555556,
              "#d8576b"
             ],
             [
              0.6666666666666666,
              "#ed7953"
             ],
             [
              0.7777777777777778,
              "#fb9f3a"
             ],
             [
              0.8888888888888888,
              "#fdca26"
             ],
             [
              1,
              "#f0f921"
             ]
            ],
            "type": "heatmap"
           }
          ],
          "heatmapgl": [
           {
            "colorbar": {
             "outlinewidth": 0,
             "ticks": ""
            },
            "colorscale": [
             [
              0,
              "#0d0887"
             ],
             [
              0.1111111111111111,
              "#46039f"
             ],
             [
              0.2222222222222222,
              "#7201a8"
             ],
             [
              0.3333333333333333,
              "#9c179e"
             ],
             [
              0.4444444444444444,
              "#bd3786"
             ],
             [
              0.5555555555555556,
              "#d8576b"
             ],
             [
              0.6666666666666666,
              "#ed7953"
             ],
             [
              0.7777777777777778,
              "#fb9f3a"
             ],
             [
              0.8888888888888888,
              "#fdca26"
             ],
             [
              1,
              "#f0f921"
             ]
            ],
            "type": "heatmapgl"
           }
          ],
          "histogram": [
           {
            "marker": {
             "pattern": {
              "fillmode": "overlay",
              "size": 10,
              "solidity": 0.2
             }
            },
            "type": "histogram"
           }
          ],
          "histogram2d": [
           {
            "colorbar": {
             "outlinewidth": 0,
             "ticks": ""
            },
            "colorscale": [
             [
              0,
              "#0d0887"
             ],
             [
              0.1111111111111111,
              "#46039f"
             ],
             [
              0.2222222222222222,
              "#7201a8"
             ],
             [
              0.3333333333333333,
              "#9c179e"
             ],
             [
              0.4444444444444444,
              "#bd3786"
             ],
             [
              0.5555555555555556,
              "#d8576b"
             ],
             [
              0.6666666666666666,
              "#ed7953"
             ],
             [
              0.7777777777777778,
              "#fb9f3a"
             ],
             [
              0.8888888888888888,
              "#fdca26"
             ],
             [
              1,
              "#f0f921"
             ]
            ],
            "type": "histogram2d"
           }
          ],
          "histogram2dcontour": [
           {
            "colorbar": {
             "outlinewidth": 0,
             "ticks": ""
            },
            "colorscale": [
             [
              0,
              "#0d0887"
             ],
             [
              0.1111111111111111,
              "#46039f"
             ],
             [
              0.2222222222222222,
              "#7201a8"
             ],
             [
              0.3333333333333333,
              "#9c179e"
             ],
             [
              0.4444444444444444,
              "#bd3786"
             ],
             [
              0.5555555555555556,
              "#d8576b"
             ],
             [
              0.6666666666666666,
              "#ed7953"
             ],
             [
              0.7777777777777778,
              "#fb9f3a"
             ],
             [
              0.8888888888888888,
              "#fdca26"
             ],
             [
              1,
              "#f0f921"
             ]
            ],
            "type": "histogram2dcontour"
           }
          ],
          "mesh3d": [
           {
            "colorbar": {
             "outlinewidth": 0,
             "ticks": ""
            },
            "type": "mesh3d"
           }
          ],
          "parcoords": [
           {
            "line": {
             "colorbar": {
              "outlinewidth": 0,
              "ticks": ""
             }
            },
            "type": "parcoords"
           }
          ],
          "pie": [
           {
            "automargin": true,
            "type": "pie"
           }
          ],
          "scatter": [
           {
            "fillpattern": {
             "fillmode": "overlay",
             "size": 10,
             "solidity": 0.2
            },
            "type": "scatter"
           }
          ],
          "scatter3d": [
           {
            "line": {
             "colorbar": {
              "outlinewidth": 0,
              "ticks": ""
             }
            },
            "marker": {
             "colorbar": {
              "outlinewidth": 0,
              "ticks": ""
             }
            },
            "type": "scatter3d"
           }
          ],
          "scattercarpet": [
           {
            "marker": {
             "colorbar": {
              "outlinewidth": 0,
              "ticks": ""
             }
            },
            "type": "scattercarpet"
           }
          ],
          "scattergeo": [
           {
            "marker": {
             "colorbar": {
              "outlinewidth": 0,
              "ticks": ""
             }
            },
            "type": "scattergeo"
           }
          ],
          "scattergl": [
           {
            "marker": {
             "colorbar": {
              "outlinewidth": 0,
              "ticks": ""
             }
            },
            "type": "scattergl"
           }
          ],
          "scattermapbox": [
           {
            "marker": {
             "colorbar": {
              "outlinewidth": 0,
              "ticks": ""
             }
            },
            "type": "scattermapbox"
           }
          ],
          "scatterpolar": [
           {
            "marker": {
             "colorbar": {
              "outlinewidth": 0,
              "ticks": ""
             }
            },
            "type": "scatterpolar"
           }
          ],
          "scatterpolargl": [
           {
            "marker": {
             "colorbar": {
              "outlinewidth": 0,
              "ticks": ""
             }
            },
            "type": "scatterpolargl"
           }
          ],
          "scatterternary": [
           {
            "marker": {
             "colorbar": {
              "outlinewidth": 0,
              "ticks": ""
             }
            },
            "type": "scatterternary"
           }
          ],
          "surface": [
           {
            "colorbar": {
             "outlinewidth": 0,
             "ticks": ""
            },
            "colorscale": [
             [
              0,
              "#0d0887"
             ],
             [
              0.1111111111111111,
              "#46039f"
             ],
             [
              0.2222222222222222,
              "#7201a8"
             ],
             [
              0.3333333333333333,
              "#9c179e"
             ],
             [
              0.4444444444444444,
              "#bd3786"
             ],
             [
              0.5555555555555556,
              "#d8576b"
             ],
             [
              0.6666666666666666,
              "#ed7953"
             ],
             [
              0.7777777777777778,
              "#fb9f3a"
             ],
             [
              0.8888888888888888,
              "#fdca26"
             ],
             [
              1,
              "#f0f921"
             ]
            ],
            "type": "surface"
           }
          ],
          "table": [
           {
            "cells": {
             "fill": {
              "color": "#EBF0F8"
             },
             "line": {
              "color": "white"
             }
            },
            "header": {
             "fill": {
              "color": "#C8D4E3"
             },
             "line": {
              "color": "white"
             }
            },
            "type": "table"
           }
          ]
         },
         "layout": {
          "annotationdefaults": {
           "arrowcolor": "#2a3f5f",
           "arrowhead": 0,
           "arrowwidth": 1
          },
          "autotypenumbers": "strict",
          "coloraxis": {
           "colorbar": {
            "outlinewidth": 0,
            "ticks": ""
           }
          },
          "colorscale": {
           "diverging": [
            [
             0,
             "#8e0152"
            ],
            [
             0.1,
             "#c51b7d"
            ],
            [
             0.2,
             "#de77ae"
            ],
            [
             0.3,
             "#f1b6da"
            ],
            [
             0.4,
             "#fde0ef"
            ],
            [
             0.5,
             "#f7f7f7"
            ],
            [
             0.6,
             "#e6f5d0"
            ],
            [
             0.7,
             "#b8e186"
            ],
            [
             0.8,
             "#7fbc41"
            ],
            [
             0.9,
             "#4d9221"
            ],
            [
             1,
             "#276419"
            ]
           ],
           "sequential": [
            [
             0,
             "#0d0887"
            ],
            [
             0.1111111111111111,
             "#46039f"
            ],
            [
             0.2222222222222222,
             "#7201a8"
            ],
            [
             0.3333333333333333,
             "#9c179e"
            ],
            [
             0.4444444444444444,
             "#bd3786"
            ],
            [
             0.5555555555555556,
             "#d8576b"
            ],
            [
             0.6666666666666666,
             "#ed7953"
            ],
            [
             0.7777777777777778,
             "#fb9f3a"
            ],
            [
             0.8888888888888888,
             "#fdca26"
            ],
            [
             1,
             "#f0f921"
            ]
           ],
           "sequentialminus": [
            [
             0,
             "#0d0887"
            ],
            [
             0.1111111111111111,
             "#46039f"
            ],
            [
             0.2222222222222222,
             "#7201a8"
            ],
            [
             0.3333333333333333,
             "#9c179e"
            ],
            [
             0.4444444444444444,
             "#bd3786"
            ],
            [
             0.5555555555555556,
             "#d8576b"
            ],
            [
             0.6666666666666666,
             "#ed7953"
            ],
            [
             0.7777777777777778,
             "#fb9f3a"
            ],
            [
             0.8888888888888888,
             "#fdca26"
            ],
            [
             1,
             "#f0f921"
            ]
           ]
          },
          "colorway": [
           "#636efa",
           "#EF553B",
           "#00cc96",
           "#ab63fa",
           "#FFA15A",
           "#19d3f3",
           "#FF6692",
           "#B6E880",
           "#FF97FF",
           "#FECB52"
          ],
          "font": {
           "color": "#2a3f5f"
          },
          "geo": {
           "bgcolor": "white",
           "lakecolor": "white",
           "landcolor": "#E5ECF6",
           "showlakes": true,
           "showland": true,
           "subunitcolor": "white"
          },
          "hoverlabel": {
           "align": "left"
          },
          "hovermode": "closest",
          "mapbox": {
           "style": "light"
          },
          "paper_bgcolor": "white",
          "plot_bgcolor": "#E5ECF6",
          "polar": {
           "angularaxis": {
            "gridcolor": "white",
            "linecolor": "white",
            "ticks": ""
           },
           "bgcolor": "#E5ECF6",
           "radialaxis": {
            "gridcolor": "white",
            "linecolor": "white",
            "ticks": ""
           }
          },
          "scene": {
           "xaxis": {
            "backgroundcolor": "#E5ECF6",
            "gridcolor": "white",
            "gridwidth": 2,
            "linecolor": "white",
            "showbackground": true,
            "ticks": "",
            "zerolinecolor": "white"
           },
           "yaxis": {
            "backgroundcolor": "#E5ECF6",
            "gridcolor": "white",
            "gridwidth": 2,
            "linecolor": "white",
            "showbackground": true,
            "ticks": "",
            "zerolinecolor": "white"
           },
           "zaxis": {
            "backgroundcolor": "#E5ECF6",
            "gridcolor": "white",
            "gridwidth": 2,
            "linecolor": "white",
            "showbackground": true,
            "ticks": "",
            "zerolinecolor": "white"
           }
          },
          "shapedefaults": {
           "line": {
            "color": "#2a3f5f"
           }
          },
          "ternary": {
           "aaxis": {
            "gridcolor": "white",
            "linecolor": "white",
            "ticks": ""
           },
           "baxis": {
            "gridcolor": "white",
            "linecolor": "white",
            "ticks": ""
           },
           "bgcolor": "#E5ECF6",
           "caxis": {
            "gridcolor": "white",
            "linecolor": "white",
            "ticks": ""
           }
          },
          "title": {
           "x": 0.05
          },
          "xaxis": {
           "automargin": true,
           "gridcolor": "white",
           "linecolor": "white",
           "ticks": "",
           "title": {
            "standoff": 15
           },
           "zerolinecolor": "white",
           "zerolinewidth": 2
          },
          "yaxis": {
           "automargin": true,
           "gridcolor": "white",
           "linecolor": "white",
           "ticks": "",
           "title": {
            "standoff": 15
           },
           "zerolinecolor": "white",
           "zerolinewidth": 2
          }
         }
        },
        "title": {
         "text": "Price Distribution of Brands"
        },
        "xaxis": {
         "anchor": "y",
         "domain": [
          0,
          1
         ],
         "title": {
          "text": "price_processed"
         }
        },
        "yaxis": {
         "anchor": "x",
         "domain": [
          0,
          1
         ],
         "title": {
          "text": "count"
         }
        }
       }
      },
      "text/html": [
       "<div>                            <div id=\"04f42297-0145-468b-ae28-2d3689d78126\" class=\"plotly-graph-div\" style=\"height:525px; width:100%;\"></div>            <script type=\"text/javascript\">                require([\"plotly\"], function(Plotly) {                    window.PLOTLYENV=window.PLOTLYENV || {};                                    if (document.getElementById(\"04f42297-0145-468b-ae28-2d3689d78126\")) {                    Plotly.newPlot(                        \"04f42297-0145-468b-ae28-2d3689d78126\",                        [{\"alignmentgroup\":\"True\",\"bingroup\":\"x\",\"hovertemplate\":\"brand=vivo\\u003cbr\\u003eprice_processed=%{x}\\u003cbr\\u003ecount=%{y}\\u003cextra\\u003e\\u003c\\u002fextra\\u003e\",\"legendgroup\":\"vivo\",\"marker\":{\"color\":\"#636efa\",\"pattern\":{\"shape\":\"\"}},\"name\":\"vivo\",\"offsetgroup\":\"vivo\",\"orientation\":\"v\",\"showlegend\":true,\"x\":[15999,15999,13999,12999,12999,12999,15999,13999,13999,20999,20999,18999,18999,32999,32999,28397,19999,36999,19999,28749,17999,35999,23999,23999,17999,35999,29778,23999,31989,63999,24985,31999,25999,25999,19979,59999,23999,63999,25499,24999,23999,59999,24990,84999,28950,19988,26499,33469,27990,42999,42999,24999,39999,39999,37999,37999,25487,41990,45999,27990,26990,36990,38990,43990,43990,38990,26499,19999,26499,19999,25999,25290,25290,28880,28880,28880,42999,54999,54999],\"xaxis\":\"x\",\"yaxis\":\"y\",\"type\":\"histogram\"},{\"alignmentgroup\":\"True\",\"bingroup\":\"x\",\"hovertemplate\":\"brand=POCO\\u003cbr\\u003eprice_processed=%{x}\\u003cbr\\u003ecount=%{y}\\u003cextra\\u003e\\u003c\\u002fextra\\u003e\",\"legendgroup\":\"POCO\",\"marker\":{\"color\":\"#EF553B\",\"pattern\":{\"shape\":\"\"}},\"name\":\"POCO\",\"offsetgroup\":\"POCO\",\"orientation\":\"v\",\"showlegend\":true,\"x\":[11999,11999,15999,15999,15999,17999,11999,13999,17999,23999,15999,13999,14499,23999,17499,23999,17999,21999,29999,16499,21999,29999,29999,13999,32999,16999,19499,15999,32999,19499,32999,19499,14999,16999,17499,34999,27999,16499,39999,39999,27999,27999,27999,27999],\"xaxis\":\"x\",\"yaxis\":\"y\",\"type\":\"histogram\"},{\"alignmentgroup\":\"True\",\"bingroup\":\"x\",\"hovertemplate\":\"brand=OnePlus\\u003cbr\\u003eprice_processed=%{x}\\u003cbr\\u003ecount=%{y}\\u003cextra\\u003e\\u003c\\u002fextra\\u003e\",\"legendgroup\":\"OnePlus\",\"marker\":{\"color\":\"#00cc96\",\"pattern\":{\"shape\":\"\"}},\"name\":\"OnePlus\",\"offsetgroup\":\"OnePlus\",\"orientation\":\"v\",\"showlegend\":true,\"x\":[17967,17889,28448,39788,44875,44237,21974,27700,30990,30979,28388,35480,35480,25990,25990,35490,26990,35489,35999,54999,24999,22690,54830,22979,61899,22990,34499,35480,30990,23999,44990,54999,54999,50999,24999,24999,26990,33999,61899,47999,34990,48999,42999,32990,32990,35990,32999,39800,30999,30999,64999,54999,39800,30999,54999,64999,30999,34990,49989,39890,39999,48990,39998,49989,39999,39890,48990,43990,30990,53400,39990,54900,35499,35499,49800,47999,59798,59890,28047,27822,49999],\"xaxis\":\"x\",\"yaxis\":\"y\",\"type\":\"histogram\"},{\"alignmentgroup\":\"True\",\"bingroup\":\"x\",\"hovertemplate\":\"brand=MOTOROLA\\u003cbr\\u003eprice_processed=%{x}\\u003cbr\\u003ecount=%{y}\\u003cextra\\u003e\\u003c\\u002fextra\\u003e\",\"legendgroup\":\"MOTOROLA\",\"marker\":{\"color\":\"#ab63fa\",\"pattern\":{\"shape\":\"\"}},\"name\":\"MOTOROLA\",\"offsetgroup\":\"MOTOROLA\",\"orientation\":\"v\",\"showlegend\":true,\"x\":[15499,15499,16999,16499,16499,16999,29999,21499,29999,21499,24999,24999,34999,34999,29999,49999,37999,27999,24999,24999,24999,44999,14999,14999,34999,34999],\"xaxis\":\"x\",\"yaxis\":\"y\",\"type\":\"histogram\"},{\"alignmentgroup\":\"True\",\"bingroup\":\"x\",\"hovertemplate\":\"brand=SAMSUNG\\u003cbr\\u003eprice_processed=%{x}\\u003cbr\\u003ecount=%{y}\\u003cextra\\u003e\\u003c\\u002fextra\\u003e\",\"legendgroup\":\"SAMSUNG\",\"marker\":{\"color\":\"#FFA15A\",\"pattern\":{\"shape\":\"\"}},\"name\":\"SAMSUNG\",\"offsetgroup\":\"SAMSUNG\",\"orientation\":\"v\",\"showlegend\":true,\"x\":[14490,14490,14490,16999,13490,13490,13490,32999,32999,16999,16999,16899,17217,32999,17217,32999,49999,27974,15810,17462,16182,18999,18999,18999,17462,34999,21999,16499,32999,21999,28929,32999,15999,20999,21999,30999,30999,32999,20999,16499,20999,12935,12935,15999,40999,20999,24385,32999,15999,27999,17599,15699,12838,16999,22999,17390,124999,164989,15480,49999,49999,30999,29999,14990,94999,38999,27880,12938,41999,27990,41999,27990,41999,35990,104999,23999,35990,94999,40999,31500,33499,18499,27990,27999,34999,30999,35999,87990,16999,30999,35999,87990,16999,39099,124999,104999,154989,20999,84999,31999,84999,35890,18900,39899,35890,14670,31800,32999,16489,15149,16299,38999,32999,16299,38999,115999,31999,31999,15812,40999,17660],\"xaxis\":\"x\",\"yaxis\":\"y\",\"type\":\"histogram\"},{\"alignmentgroup\":\"True\",\"bingroup\":\"x\",\"hovertemplate\":\"brand=Infinix\\u003cbr\\u003eprice_processed=%{x}\\u003cbr\\u003ecount=%{y}\\u003cextra\\u003e\\u003c\\u002fextra\\u003e\",\"legendgroup\":\"Infinix\",\"marker\":{\"color\":\"#19d3f3\",\"pattern\":{\"shape\":\"\"}},\"name\":\"Infinix\",\"offsetgroup\":\"Infinix\",\"orientation\":\"v\",\"showlegend\":true,\"x\":[15999,15999,11499,11499,11499,13499,13499,15999,13499,15999,15999,17999,17999,17999,14999,14999,29999,29999,19999,19999,19999,19999],\"xaxis\":\"x\",\"yaxis\":\"y\",\"type\":\"histogram\"},{\"alignmentgroup\":\"True\",\"bingroup\":\"x\",\"hovertemplate\":\"brand=realme\\u003cbr\\u003eprice_processed=%{x}\\u003cbr\\u003ecount=%{y}\\u003cextra\\u003e\\u003c\\u002fextra\\u003e\",\"legendgroup\":\"realme\",\"marker\":{\"color\":\"#FF6692\",\"pattern\":{\"shape\":\"\"}},\"name\":\"realme\",\"offsetgroup\":\"realme\",\"orientation\":\"v\",\"showlegend\":true,\"x\":[18999,19999,18999,19999,19999,18999,23999,23999,16999,16999,16999,14999,14999,21999,21999,32299,17999,17999,23999,22999,22999,23999,22999,23999,21999,27999,18499,13499,21990,24999,24999,24999,22999,33999,19990,16499,27999,27999,19899,18999,35999,31999,35999,42999,29999,42999,29999,18999,27999,29999,29999,42999,29999,27999,42999,34999,36999,38999,34999,36999,42999,34999,36999,38999,38999,57999,49999,27999,49999,27999,24999,49999,49999,49999,49999],\"xaxis\":\"x\",\"yaxis\":\"y\",\"type\":\"histogram\"},{\"alignmentgroup\":\"True\",\"bingroup\":\"x\",\"hovertemplate\":\"brand=REDMI\\u003cbr\\u003eprice_processed=%{x}\\u003cbr\\u003ecount=%{y}\\u003cextra\\u003e\\u003c\\u002fextra\\u003e\",\"legendgroup\":\"REDMI\",\"marker\":{\"color\":\"#B6E880\",\"pattern\":{\"shape\":\"\"}},\"name\":\"REDMI\",\"offsetgroup\":\"REDMI\",\"orientation\":\"v\",\"showlegend\":true,\"x\":[18999,18999,18999,16999,16999,27990,23999,16999,23999,23999,29999,26999,23999,25999,26999,13896,25999,14905,15193,13896,13480,23999,32999,25999,32999,15307,25999,15193,32999,25999,23999,29990,14899,32999,26999,18500,15995,18999,18999,20996,16999,16999,14999,13999,17490,20000,20999,17990,17990,17999,17999,20999,20999,20999,20999,20999,20999,11999],\"xaxis\":\"x\",\"yaxis\":\"y\",\"type\":\"histogram\"},{\"alignmentgroup\":\"True\",\"bingroup\":\"x\",\"hovertemplate\":\"brand=Google\\u003cbr\\u003eprice_processed=%{x}\\u003cbr\\u003ecount=%{y}\\u003cextra\\u003e\\u003c\\u002fextra\\u003e\",\"legendgroup\":\"Google\",\"marker\":{\"color\":\"#FF97FF\",\"pattern\":{\"shape\":\"\"}},\"name\":\"Google\",\"offsetgroup\":\"Google\",\"orientation\":\"v\",\"showlegend\":true,\"x\":[28999,28999,43999,43999,43999,53999,53999,53999,75999,75999,75999],\"xaxis\":\"x\",\"yaxis\":\"y\",\"type\":\"histogram\"},{\"alignmentgroup\":\"True\",\"bingroup\":\"x\",\"hovertemplate\":\"brand=IQOO\\u003cbr\\u003eprice_processed=%{x}\\u003cbr\\u003ecount=%{y}\\u003cextra\\u003e\\u003c\\u002fextra\\u003e\",\"legendgroup\":\"IQOO\",\"marker\":{\"color\":\"#FECB52\",\"pattern\":{\"shape\":\"\"}},\"name\":\"IQOO\",\"offsetgroup\":\"IQOO\",\"orientation\":\"v\",\"showlegend\":true,\"x\":[15995,15217,14295,16495,15322,15749,15990,34592,29990,30999,34657,33990,49499,13799,15999,16990,19290,31990,16990,23790,28390],\"xaxis\":\"x\",\"yaxis\":\"y\",\"type\":\"histogram\"},{\"alignmentgroup\":\"True\",\"bingroup\":\"x\",\"hovertemplate\":\"brand=OPPO\\u003cbr\\u003eprice_processed=%{x}\\u003cbr\\u003ecount=%{y}\\u003cextra\\u003e\\u003c\\u002fextra\\u003e\",\"legendgroup\":\"OPPO\",\"marker\":{\"color\":\"#636efa\",\"pattern\":{\"shape\":\"\"}},\"name\":\"OPPO\",\"offsetgroup\":\"OPPO\",\"orientation\":\"v\",\"showlegend\":true,\"x\":[29999,29999,18680,18570,23799,23799,26495,18989,29999,29999,17499,17499,17499,19449,35990,89999,35990,89999,24490,20890,24490,23900,23300],\"xaxis\":\"x\",\"yaxis\":\"y\",\"type\":\"histogram\"},{\"alignmentgroup\":\"True\",\"bingroup\":\"x\",\"hovertemplate\":\"brand=Nothing\\u003cbr\\u003eprice_processed=%{x}\\u003cbr\\u003ecount=%{y}\\u003cextra\\u003e\\u003c\\u002fextra\\u003e\",\"legendgroup\":\"Nothing\",\"marker\":{\"color\":\"#EF553B\",\"pattern\":{\"shape\":\"\"}},\"name\":\"Nothing\",\"offsetgroup\":\"Nothing\",\"orientation\":\"v\",\"showlegend\":true,\"x\":[30999,30499,29499],\"xaxis\":\"x\",\"yaxis\":\"y\",\"type\":\"histogram\"},{\"alignmentgroup\":\"True\",\"bingroup\":\"x\",\"hovertemplate\":\"brand=Xiaomi\\u003cbr\\u003eprice_processed=%{x}\\u003cbr\\u003ecount=%{y}\\u003cextra\\u003e\\u003c\\u002fextra\\u003e\",\"legendgroup\":\"Xiaomi\",\"marker\":{\"color\":\"#00cc96\",\"pattern\":{\"shape\":\"\"}},\"name\":\"Xiaomi\",\"offsetgroup\":\"Xiaomi\",\"orientation\":\"v\",\"showlegend\":true,\"x\":[21990,23999,21990,23999,25990,47499,26999,23999,23999,24990,24450,47999,46990,31990,31990,31990,22200,24499,26999,24990,24499,26999,24990,47499,42990,42990],\"xaxis\":\"x\",\"yaxis\":\"y\",\"type\":\"histogram\"},{\"alignmentgroup\":\"True\",\"bingroup\":\"x\",\"hovertemplate\":\"brand=Tecno\\u003cbr\\u003eprice_processed=%{x}\\u003cbr\\u003ecount=%{y}\\u003cextra\\u003e\\u003c\\u002fextra\\u003e\",\"legendgroup\":\"Tecno\",\"marker\":{\"color\":\"#ab63fa\",\"pattern\":{\"shape\":\"\"}},\"name\":\"Tecno\",\"offsetgroup\":\"Tecno\",\"orientation\":\"v\",\"showlegend\":true,\"x\":[36999,44997,15799,15499,15499,15999,15999,44999,13999,13999,19999,13190,12998,12499,88888],\"xaxis\":\"x\",\"yaxis\":\"y\",\"type\":\"histogram\"},{\"alignmentgroup\":\"True\",\"bingroup\":\"x\",\"hovertemplate\":\"brand=Moto\\u003cbr\\u003eprice_processed=%{x}\\u003cbr\\u003ecount=%{y}\\u003cextra\\u003e\\u003c\\u002fextra\\u003e\",\"legendgroup\":\"Moto\",\"marker\":{\"color\":\"#FFA15A\",\"pattern\":{\"shape\":\"\"}},\"name\":\"Moto\",\"offsetgroup\":\"Moto\",\"orientation\":\"v\",\"showlegend\":true,\"x\":[18890,18890],\"xaxis\":\"x\",\"yaxis\":\"y\",\"type\":\"histogram\"},{\"alignmentgroup\":\"True\",\"bingroup\":\"x\",\"hovertemplate\":\"brand=Mi\\u003cbr\\u003eprice_processed=%{x}\\u003cbr\\u003ecount=%{y}\\u003cextra\\u003e\\u003c\\u002fextra\\u003e\",\"legendgroup\":\"Mi\",\"marker\":{\"color\":\"#19d3f3\",\"pattern\":{\"shape\":\"\"}},\"name\":\"Mi\",\"offsetgroup\":\"Mi\",\"orientation\":\"v\",\"showlegend\":true,\"x\":[23999,23999,24996,34499,28190,23990,23890,27990,24490],\"xaxis\":\"x\",\"yaxis\":\"y\",\"type\":\"histogram\"},{\"alignmentgroup\":\"True\",\"bingroup\":\"x\",\"hovertemplate\":\"brand=ASUS\\u003cbr\\u003eprice_processed=%{x}\\u003cbr\\u003ecount=%{y}\\u003cextra\\u003e\\u003c\\u002fextra\\u003e\",\"legendgroup\":\"ASUS\",\"marker\":{\"color\":\"#FF6692\",\"pattern\":{\"shape\":\"\"}},\"name\":\"ASUS\",\"offsetgroup\":\"ASUS\",\"orientation\":\"v\",\"showlegend\":true,\"x\":[57999],\"xaxis\":\"x\",\"yaxis\":\"y\",\"type\":\"histogram\"},{\"alignmentgroup\":\"True\",\"bingroup\":\"x\",\"hovertemplate\":\"brand=HTC\\u003cbr\\u003eprice_processed=%{x}\\u003cbr\\u003ecount=%{y}\\u003cextra\\u003e\\u003c\\u002fextra\\u003e\",\"legendgroup\":\"HTC\",\"marker\":{\"color\":\"#B6E880\",\"pattern\":{\"shape\":\"\"}},\"name\":\"HTC\",\"offsetgroup\":\"HTC\",\"orientation\":\"v\",\"showlegend\":true,\"x\":[16999],\"xaxis\":\"x\",\"yaxis\":\"y\",\"type\":\"histogram\"}],                        {\"template\":{\"data\":{\"histogram2dcontour\":[{\"type\":\"histogram2dcontour\",\"colorbar\":{\"outlinewidth\":0,\"ticks\":\"\"},\"colorscale\":[[0.0,\"#0d0887\"],[0.1111111111111111,\"#46039f\"],[0.2222222222222222,\"#7201a8\"],[0.3333333333333333,\"#9c179e\"],[0.4444444444444444,\"#bd3786\"],[0.5555555555555556,\"#d8576b\"],[0.6666666666666666,\"#ed7953\"],[0.7777777777777778,\"#fb9f3a\"],[0.8888888888888888,\"#fdca26\"],[1.0,\"#f0f921\"]]}],\"choropleth\":[{\"type\":\"choropleth\",\"colorbar\":{\"outlinewidth\":0,\"ticks\":\"\"}}],\"histogram2d\":[{\"type\":\"histogram2d\",\"colorbar\":{\"outlinewidth\":0,\"ticks\":\"\"},\"colorscale\":[[0.0,\"#0d0887\"],[0.1111111111111111,\"#46039f\"],[0.2222222222222222,\"#7201a8\"],[0.3333333333333333,\"#9c179e\"],[0.4444444444444444,\"#bd3786\"],[0.5555555555555556,\"#d8576b\"],[0.6666666666666666,\"#ed7953\"],[0.7777777777777778,\"#fb9f3a\"],[0.8888888888888888,\"#fdca26\"],[1.0,\"#f0f921\"]]}],\"heatmap\":[{\"type\":\"heatmap\",\"colorbar\":{\"outlinewidth\":0,\"ticks\":\"\"},\"colorscale\":[[0.0,\"#0d0887\"],[0.1111111111111111,\"#46039f\"],[0.2222222222222222,\"#7201a8\"],[0.3333333333333333,\"#9c179e\"],[0.4444444444444444,\"#bd3786\"],[0.5555555555555556,\"#d8576b\"],[0.6666666666666666,\"#ed7953\"],[0.7777777777777778,\"#fb9f3a\"],[0.8888888888888888,\"#fdca26\"],[1.0,\"#f0f921\"]]}],\"heatmapgl\":[{\"type\":\"heatmapgl\",\"colorbar\":{\"outlinewidth\":0,\"ticks\":\"\"},\"colorscale\":[[0.0,\"#0d0887\"],[0.1111111111111111,\"#46039f\"],[0.2222222222222222,\"#7201a8\"],[0.3333333333333333,\"#9c179e\"],[0.4444444444444444,\"#bd3786\"],[0.5555555555555556,\"#d8576b\"],[0.6666666666666666,\"#ed7953\"],[0.7777777777777778,\"#fb9f3a\"],[0.8888888888888888,\"#fdca26\"],[1.0,\"#f0f921\"]]}],\"contourcarpet\":[{\"type\":\"contourcarpet\",\"colorbar\":{\"outlinewidth\":0,\"ticks\":\"\"}}],\"contour\":[{\"type\":\"contour\",\"colorbar\":{\"outlinewidth\":0,\"ticks\":\"\"},\"colorscale\":[[0.0,\"#0d0887\"],[0.1111111111111111,\"#46039f\"],[0.2222222222222222,\"#7201a8\"],[0.3333333333333333,\"#9c179e\"],[0.4444444444444444,\"#bd3786\"],[0.5555555555555556,\"#d8576b\"],[0.6666666666666666,\"#ed7953\"],[0.7777777777777778,\"#fb9f3a\"],[0.8888888888888888,\"#fdca26\"],[1.0,\"#f0f921\"]]}],\"surface\":[{\"type\":\"surface\",\"colorbar\":{\"outlinewidth\":0,\"ticks\":\"\"},\"colorscale\":[[0.0,\"#0d0887\"],[0.1111111111111111,\"#46039f\"],[0.2222222222222222,\"#7201a8\"],[0.3333333333333333,\"#9c179e\"],[0.4444444444444444,\"#bd3786\"],[0.5555555555555556,\"#d8576b\"],[0.6666666666666666,\"#ed7953\"],[0.7777777777777778,\"#fb9f3a\"],[0.8888888888888888,\"#fdca26\"],[1.0,\"#f0f921\"]]}],\"mesh3d\":[{\"type\":\"mesh3d\",\"colorbar\":{\"outlinewidth\":0,\"ticks\":\"\"}}],\"scatter\":[{\"fillpattern\":{\"fillmode\":\"overlay\",\"size\":10,\"solidity\":0.2},\"type\":\"scatter\"}],\"parcoords\":[{\"type\":\"parcoords\",\"line\":{\"colorbar\":{\"outlinewidth\":0,\"ticks\":\"\"}}}],\"scatterpolargl\":[{\"type\":\"scatterpolargl\",\"marker\":{\"colorbar\":{\"outlinewidth\":0,\"ticks\":\"\"}}}],\"bar\":[{\"error_x\":{\"color\":\"#2a3f5f\"},\"error_y\":{\"color\":\"#2a3f5f\"},\"marker\":{\"line\":{\"color\":\"#E5ECF6\",\"width\":0.5},\"pattern\":{\"fillmode\":\"overlay\",\"size\":10,\"solidity\":0.2}},\"type\":\"bar\"}],\"scattergeo\":[{\"type\":\"scattergeo\",\"marker\":{\"colorbar\":{\"outlinewidth\":0,\"ticks\":\"\"}}}],\"scatterpolar\":[{\"type\":\"scatterpolar\",\"marker\":{\"colorbar\":{\"outlinewidth\":0,\"ticks\":\"\"}}}],\"histogram\":[{\"marker\":{\"pattern\":{\"fillmode\":\"overlay\",\"size\":10,\"solidity\":0.2}},\"type\":\"histogram\"}],\"scattergl\":[{\"type\":\"scattergl\",\"marker\":{\"colorbar\":{\"outlinewidth\":0,\"ticks\":\"\"}}}],\"scatter3d\":[{\"type\":\"scatter3d\",\"line\":{\"colorbar\":{\"outlinewidth\":0,\"ticks\":\"\"}},\"marker\":{\"colorbar\":{\"outlinewidth\":0,\"ticks\":\"\"}}}],\"scattermapbox\":[{\"type\":\"scattermapbox\",\"marker\":{\"colorbar\":{\"outlinewidth\":0,\"ticks\":\"\"}}}],\"scatterternary\":[{\"type\":\"scatterternary\",\"marker\":{\"colorbar\":{\"outlinewidth\":0,\"ticks\":\"\"}}}],\"scattercarpet\":[{\"type\":\"scattercarpet\",\"marker\":{\"colorbar\":{\"outlinewidth\":0,\"ticks\":\"\"}}}],\"carpet\":[{\"aaxis\":{\"endlinecolor\":\"#2a3f5f\",\"gridcolor\":\"white\",\"linecolor\":\"white\",\"minorgridcolor\":\"white\",\"startlinecolor\":\"#2a3f5f\"},\"baxis\":{\"endlinecolor\":\"#2a3f5f\",\"gridcolor\":\"white\",\"linecolor\":\"white\",\"minorgridcolor\":\"white\",\"startlinecolor\":\"#2a3f5f\"},\"type\":\"carpet\"}],\"table\":[{\"cells\":{\"fill\":{\"color\":\"#EBF0F8\"},\"line\":{\"color\":\"white\"}},\"header\":{\"fill\":{\"color\":\"#C8D4E3\"},\"line\":{\"color\":\"white\"}},\"type\":\"table\"}],\"barpolar\":[{\"marker\":{\"line\":{\"color\":\"#E5ECF6\",\"width\":0.5},\"pattern\":{\"fillmode\":\"overlay\",\"size\":10,\"solidity\":0.2}},\"type\":\"barpolar\"}],\"pie\":[{\"automargin\":true,\"type\":\"pie\"}]},\"layout\":{\"autotypenumbers\":\"strict\",\"colorway\":[\"#636efa\",\"#EF553B\",\"#00cc96\",\"#ab63fa\",\"#FFA15A\",\"#19d3f3\",\"#FF6692\",\"#B6E880\",\"#FF97FF\",\"#FECB52\"],\"font\":{\"color\":\"#2a3f5f\"},\"hovermode\":\"closest\",\"hoverlabel\":{\"align\":\"left\"},\"paper_bgcolor\":\"white\",\"plot_bgcolor\":\"#E5ECF6\",\"polar\":{\"bgcolor\":\"#E5ECF6\",\"angularaxis\":{\"gridcolor\":\"white\",\"linecolor\":\"white\",\"ticks\":\"\"},\"radialaxis\":{\"gridcolor\":\"white\",\"linecolor\":\"white\",\"ticks\":\"\"}},\"ternary\":{\"bgcolor\":\"#E5ECF6\",\"aaxis\":{\"gridcolor\":\"white\",\"linecolor\":\"white\",\"ticks\":\"\"},\"baxis\":{\"gridcolor\":\"white\",\"linecolor\":\"white\",\"ticks\":\"\"},\"caxis\":{\"gridcolor\":\"white\",\"linecolor\":\"white\",\"ticks\":\"\"}},\"coloraxis\":{\"colorbar\":{\"outlinewidth\":0,\"ticks\":\"\"}},\"colorscale\":{\"sequential\":[[0.0,\"#0d0887\"],[0.1111111111111111,\"#46039f\"],[0.2222222222222222,\"#7201a8\"],[0.3333333333333333,\"#9c179e\"],[0.4444444444444444,\"#bd3786\"],[0.5555555555555556,\"#d8576b\"],[0.6666666666666666,\"#ed7953\"],[0.7777777777777778,\"#fb9f3a\"],[0.8888888888888888,\"#fdca26\"],[1.0,\"#f0f921\"]],\"sequentialminus\":[[0.0,\"#0d0887\"],[0.1111111111111111,\"#46039f\"],[0.2222222222222222,\"#7201a8\"],[0.3333333333333333,\"#9c179e\"],[0.4444444444444444,\"#bd3786\"],[0.5555555555555556,\"#d8576b\"],[0.6666666666666666,\"#ed7953\"],[0.7777777777777778,\"#fb9f3a\"],[0.8888888888888888,\"#fdca26\"],[1.0,\"#f0f921\"]],\"diverging\":[[0,\"#8e0152\"],[0.1,\"#c51b7d\"],[0.2,\"#de77ae\"],[0.3,\"#f1b6da\"],[0.4,\"#fde0ef\"],[0.5,\"#f7f7f7\"],[0.6,\"#e6f5d0\"],[0.7,\"#b8e186\"],[0.8,\"#7fbc41\"],[0.9,\"#4d9221\"],[1,\"#276419\"]]},\"xaxis\":{\"gridcolor\":\"white\",\"linecolor\":\"white\",\"ticks\":\"\",\"title\":{\"standoff\":15},\"zerolinecolor\":\"white\",\"automargin\":true,\"zerolinewidth\":2},\"yaxis\":{\"gridcolor\":\"white\",\"linecolor\":\"white\",\"ticks\":\"\",\"title\":{\"standoff\":15},\"zerolinecolor\":\"white\",\"automargin\":true,\"zerolinewidth\":2},\"scene\":{\"xaxis\":{\"backgroundcolor\":\"#E5ECF6\",\"gridcolor\":\"white\",\"linecolor\":\"white\",\"showbackground\":true,\"ticks\":\"\",\"zerolinecolor\":\"white\",\"gridwidth\":2},\"yaxis\":{\"backgroundcolor\":\"#E5ECF6\",\"gridcolor\":\"white\",\"linecolor\":\"white\",\"showbackground\":true,\"ticks\":\"\",\"zerolinecolor\":\"white\",\"gridwidth\":2},\"zaxis\":{\"backgroundcolor\":\"#E5ECF6\",\"gridcolor\":\"white\",\"linecolor\":\"white\",\"showbackground\":true,\"ticks\":\"\",\"zerolinecolor\":\"white\",\"gridwidth\":2}},\"shapedefaults\":{\"line\":{\"color\":\"#2a3f5f\"}},\"annotationdefaults\":{\"arrowcolor\":\"#2a3f5f\",\"arrowhead\":0,\"arrowwidth\":1},\"geo\":{\"bgcolor\":\"white\",\"landcolor\":\"#E5ECF6\",\"subunitcolor\":\"white\",\"showland\":true,\"showlakes\":true,\"lakecolor\":\"white\"},\"title\":{\"x\":0.05},\"mapbox\":{\"style\":\"light\"}}},\"xaxis\":{\"anchor\":\"y\",\"domain\":[0.0,1.0],\"title\":{\"text\":\"price_processed\"}},\"yaxis\":{\"anchor\":\"x\",\"domain\":[0.0,1.0],\"title\":{\"text\":\"count\"}},\"legend\":{\"title\":{\"text\":\"brand\"},\"tracegroupgap\":0},\"title\":{\"text\":\"Price Distribution of Brands\"},\"barmode\":\"relative\"},                        {\"responsive\": true}                    ).then(function(){\n",
       "                            \n",
       "var gd = document.getElementById('04f42297-0145-468b-ae28-2d3689d78126');\n",
       "var x = new MutationObserver(function (mutations, observer) {{\n",
       "        var display = window.getComputedStyle(gd).display;\n",
       "        if (!display || display === 'none') {{\n",
       "            console.log([gd, 'removed!']);\n",
       "            Plotly.purge(gd);\n",
       "            observer.disconnect();\n",
       "        }}\n",
       "}});\n",
       "\n",
       "// Listen for the removal of the full notebook cells\n",
       "var notebookContainer = gd.closest('#notebook-container');\n",
       "if (notebookContainer) {{\n",
       "    x.observe(notebookContainer, {childList: true});\n",
       "}}\n",
       "\n",
       "// Listen for the clearing of the current output cell\n",
       "var outputEl = gd.closest('.output');\n",
       "if (outputEl) {{\n",
       "    x.observe(outputEl, {childList: true});\n",
       "}}\n",
       "\n",
       "                        })                };                });            </script>        </div>"
      ]
     },
     "metadata": {},
     "output_type": "display_data"
    }
   ],
   "source": [
    "fig = px.histogram(df, x=\"price_processed\",color=\"brand\",title=\"Price Distribution of Brands\")\n",
    "fig.show()"
   ]
  },
  {
   "cell_type": "code",
   "execution_count": 72,
   "id": "9a689c06",
   "metadata": {},
   "outputs": [
    {
     "data": {
      "application/vnd.plotly.v1+json": {
       "config": {
        "plotlyServerURL": "https://plot.ly"
       },
       "data": [
        {
         "hovertemplate": "price_processed=%{x}<br>back_camera_processed=%{marker.color}<extra></extra>",
         "legendgroup": "",
         "marker": {
          "color": [
           50,
           50,
           50,
           50,
           50,
           50,
           50,
           50,
           50,
           50,
           64,
           50,
           50,
           64,
           64,
           64,
           64,
           64,
           50,
           50,
           50,
           48,
           48,
           50,
           50,
           50,
           50,
           50,
           108,
           108,
           50,
           50,
           48,
           50,
           48,
           50,
           108,
           108,
           50,
           108,
           108,
           108,
           108,
           50,
           48,
           48,
           50,
           50,
           48,
           48,
           48,
           48,
           108,
           122,
           122,
           64,
           50,
           50,
           64,
           50,
           50,
           50,
           50,
           48,
           50,
           50,
           50,
           12,
           50,
           50,
           50,
           50,
           12,
           50,
           50,
           50,
           50,
           50,
           50,
           50,
           48,
           50,
           108,
           64,
           50,
           50,
           50,
           50,
           12,
           50,
           50,
           12,
           200,
           50,
           50,
           108,
           50,
           50,
           50,
           50,
           48,
           50,
           50,
           64,
           50,
           50,
           5,
           108,
           50,
           64,
           5,
           64,
           12,
           50,
           50,
           50,
           50,
           50,
           48,
           48,
           5,
           108,
           5,
           5,
           50,
           64,
           50,
           108,
           108,
           108,
           108,
           108,
           50,
           200,
           64,
           50,
           108,
           50,
           200,
           5,
           108,
           50,
           50,
           50,
           50,
           108,
           50,
           64,
           50,
           64,
           5,
           108,
           50,
           64,
           64,
           50,
           50,
           50,
           200,
           50,
           50,
           50,
           50,
           13,
           13,
           64,
           50,
           64,
           108,
           64,
           50,
           50,
           50,
           50,
           12,
           50,
           64,
           50,
           50,
           50,
           50,
           50,
           64,
           50,
           108,
           50,
           50,
           64,
           32,
           50,
           48,
           50,
           50,
           50,
           64,
           50,
           50,
           64,
           50,
           50,
           64,
           50,
           64,
           50,
           50,
           50,
           50,
           50,
           200,
           50,
           50,
           64,
           64,
           200,
           64,
           48,
           50,
           64,
           50,
           48,
           48,
           50,
           50,
           50,
           64,
           50,
           50,
           50,
           48,
           50,
           48,
           50,
           64,
           64,
           50,
           64,
           50,
           50,
           50,
           108,
           50,
           50,
           48,
           48,
           50,
           64,
           64,
           64,
           64,
           64,
           50,
           48,
           50,
           50,
           64,
           64,
           50,
           50,
           48,
           108,
           50,
           48,
           64,
           64,
           50,
           64,
           50,
           50,
           64,
           64,
           108,
           64,
           64,
           64,
           64,
           64,
           64,
           108,
           64,
           200,
           50,
           50,
           50,
           64,
           50,
           200,
           50,
           50,
           64,
           50,
           50,
           64,
           50,
           50,
           48,
           48,
           50,
           50,
           50,
           50,
           64,
           50,
           64,
           50,
           200,
           50,
           50,
           50,
           64,
           64,
           50,
           50,
           50,
           50,
           50,
           48,
           64,
           48,
           50,
           108,
           50,
           48,
           64,
           50,
           108,
           48,
           50,
           64,
           50,
           48,
           48,
           50,
           64,
           50,
           64,
           50,
           48,
           50,
           108,
           50,
           12,
           50,
           5,
           64,
           64,
           48,
           50,
           48,
           48,
           50,
           108,
           64,
           108,
           48,
           50,
           48,
           50,
           48,
           108,
           48,
           48,
           108,
           64,
           50,
           50,
           48,
           48,
           48,
           50,
           50,
           50,
           50,
           50,
           50,
           50,
           50,
           50,
           50,
           50,
           50,
           50,
           108,
           50,
           108,
           64,
           64,
           50,
           50,
           50,
           50,
           50,
           48,
           64,
           64,
           48,
           64,
           50,
           64,
           50,
           50,
           50,
           50,
           64,
           64,
           64,
           50,
           64,
           64,
           50,
           50,
           64,
           64,
           64,
           108,
           64,
           48,
           48,
           64,
           50,
           48,
           64,
           48,
           64,
           48,
           50,
           200,
           108,
           48,
           50,
           108,
           108,
           108,
           108,
           64,
           108,
           108,
           108,
           64,
           50,
           48,
           64,
           64,
           50,
           64,
           108,
           50,
           48,
           64,
           48,
           50,
           48,
           64,
           64,
           50,
           64,
           108,
           50,
           64,
           48,
           48,
           48,
           200,
           64,
           200,
           200,
           50,
           50,
           50,
           48,
           50,
           50,
           64,
           200,
           50,
           50,
           50,
           50,
           50,
           48,
           48,
           48,
           50,
           48,
           50,
           50,
           200,
           200,
           64,
           16,
           108,
           64,
           50,
           50,
           48,
           48,
           50,
           64,
           50,
           64,
           64,
           64,
           64,
           48,
           64,
           50,
           64,
           108,
           50,
           50,
           16,
           64,
           50,
           48,
           48,
           50,
           50,
           64,
           50,
           108,
           64,
           64,
           64,
           64,
           64,
           50,
           50,
           50,
           64,
           48,
           50,
           64,
           50,
           50,
           50,
           108,
           64,
           64,
           48,
           64,
           48,
           50,
           48,
           48,
           50,
           64,
           64,
           50,
           64,
           48,
           64,
           50,
           50,
           50,
           108,
           64,
           64,
           64,
           48,
           48,
           50,
           48,
           100,
           48,
           64,
           64,
           48,
           50,
           50,
           32,
           50,
           50,
           48,
           50,
           50,
           50,
           50,
           48,
           64,
           50,
           50,
           50,
           32,
           50,
           50,
           50,
           48,
           64,
           50,
           50,
           200,
           48,
           108,
           108,
           50,
           50,
           64,
           50,
           50,
           50,
           50,
           64,
           50,
           64,
           50,
           50,
           50,
           64,
           48,
           64,
           48,
           48,
           50,
           50,
           50,
           50,
           50,
           50,
           48
          ],
          "coloraxis": "coloraxis",
          "symbol": "circle"
         },
         "mode": "markers",
         "name": "",
         "orientation": "v",
         "showlegend": false,
         "type": "scatter",
         "x": [
          15999,
          15999,
          13999,
          12999,
          12999,
          12999,
          15999,
          13999,
          13999,
          11999,
          17967,
          15499,
          15499,
          17889,
          20999,
          20999,
          18999,
          18999,
          16999,
          11999,
          14490,
          15999,
          15999,
          16499,
          14490,
          16499,
          14490,
          16999,
          15999,
          15999,
          16999,
          13490,
          15999,
          13490,
          17999,
          13490,
          18999,
          19999,
          11999,
          18999,
          19999,
          19999,
          18999,
          13999,
          17999,
          18999,
          23999,
          23999,
          18999,
          18999,
          16999,
          16999,
          23999,
          28999,
          28999,
          27990,
          11499,
          29999,
          23999,
          11499,
          15999,
          11499,
          28448,
          16999,
          16999,
          39788,
          13499,
          32999,
          21499,
          16999,
          16999,
          14999,
          32999,
          13499,
          16999,
          16999,
          44875,
          44237,
          14999,
          13999,
          14499,
          15999,
          23999,
          17499,
          29999,
          16899,
          17217,
          23999,
          32999,
          17217,
          23999,
          32999,
          29999,
          26999,
          13499,
          23999,
          32999,
          21499,
          49999,
          15999,
          17999,
          32999,
          23999,
          25999,
          26999,
          15999,
          13896,
          21999,
          25999,
          29999,
          14905,
          21974,
          27974,
          15995,
          21999,
          21999,
          32299,
          15217,
          17999,
          17999,
          15193,
          23999,
          13896,
          13480,
          23999,
          16499,
          15810,
          22999,
          22999,
          23999,
          22999,
          23999,
          17462,
          32999,
          25999,
          27700,
          21999,
          21999,
          32999,
          15307,
          27999,
          24999,
          30990,
          30979,
          24999,
          29999,
          25999,
          29999,
          34999,
          29999,
          15193,
          29999,
          14295,
          43999,
          43999,
          16182,
          18999,
          13999,
          32999,
          18999,
          18999,
          25999,
          34999,
          18680,
          18570,
          43999,
          17462,
          32999,
          34999,
          23999,
          21999,
          16499,
          30999,
          30499,
          32999,
          16999,
          29990,
          21999,
          29499,
          16495,
          17999,
          17999,
          28397,
          17999,
          14899,
          19999,
          36999,
          19499,
          28929,
          14999,
          32999,
          19999,
          15999,
          15999,
          28749,
          17999,
          29999,
          32999,
          15322,
          28388,
          35999,
          15749,
          19499,
          35480,
          20999,
          35480,
          53999,
          21999,
          49999,
          14999,
          53999,
          23999,
          23999,
          32999,
          32999,
          30999,
          17999,
          35999,
          26999,
          30999,
          32999,
          53999,
          20999,
          16499,
          19499,
          20999,
          12935,
          12935,
          25990,
          15999,
          25990,
          40999,
          29778,
          23999,
          35490,
          31989,
          20999,
          63999,
          15990,
          24385,
          18499,
          14999,
          32999,
          26990,
          35489,
          24985,
          34592,
          29990,
          30999,
          31999,
          15999,
          27999,
          18500,
          17599,
          25999,
          25999,
          19979,
          35999,
          13499,
          15995,
          59999,
          21990,
          24999,
          34657,
          54999,
          23999,
          75999,
          63999,
          21990,
          24999,
          23999,
          25499,
          23799,
          24999,
          23999,
          24999,
          21990,
          23999,
          23799,
          29999,
          59999,
          75999,
          75999,
          25990,
          15699,
          29999,
          24990,
          18999,
          22999,
          33999,
          12838,
          26495,
          18999,
          24999,
          22690,
          54830,
          16999,
          18989,
          37999,
          16999,
          22999,
          20996,
          22979,
          17390,
          124999,
          164989,
          15480,
          84999,
          28950,
          33990,
          49999,
          49999,
          29999,
          29999,
          61899,
          30999,
          29999,
          16999,
          19988,
          22990,
          34499,
          19990,
          26499,
          14990,
          27999,
          16999,
          35480,
          36999,
          18890,
          30990,
          14999,
          24999,
          17499,
          94999,
          34999,
          23999,
          16499,
          47499,
          26999,
          38999,
          27880,
          12938,
          13999,
          33469,
          27990,
          44990,
          42999,
          23999,
          17499,
          24999,
          41999,
          27999,
          23999,
          27990,
          54999,
          19999,
          42999,
          23999,
          41999,
          17499,
          27990,
          41999,
          27999,
          54999,
          49499,
          50999,
          17499,
          19999,
          17490,
          24999,
          44997,
          15799,
          15499,
          39999,
          35990,
          19449,
          20000,
          104999,
          15499,
          15999,
          15999,
          20999,
          23999,
          23999,
          35990,
          57999,
          44999,
          18890,
          39999,
          37999,
          37999,
          19899,
          27999,
          24990,
          16999,
          24450,
          94999,
          18999,
          24999,
          13799,
          47999,
          46990,
          16499,
          25487,
          24996,
          40999,
          31500,
          33499,
          41990,
          45999,
          35999,
          31999,
          24999,
          31990,
          27990,
          18499,
          34499,
          24999,
          17990,
          26990,
          26990,
          36990,
          35999,
          27990,
          15999,
          44999,
          28190,
          27999,
          33999,
          34999,
          38990,
          43990,
          31990,
          39999,
          43990,
          38990,
          31990,
          39999,
          14999,
          30999,
          35990,
          26499,
          42999,
          35999,
          87990,
          89999,
          16999,
          29999,
          19999,
          14999,
          30999,
          35990,
          26499,
          42999,
          35999,
          87990,
          89999,
          29999,
          16999,
          19999,
          18999,
          27999,
          25999,
          29999,
          29999,
          42999,
          61899,
          34999,
          47999,
          17990,
          39099,
          22200,
          124999,
          34990,
          104999,
          48999,
          154989,
          42999,
          32990,
          32990,
          35990,
          32999,
          20999,
          16990,
          39800,
          29999,
          27999,
          27999,
          24490,
          84999,
          19290,
          30999,
          30999,
          64999,
          54999,
          17999,
          25290,
          42999,
          31990,
          34999,
          36999,
          38999,
          20890,
          34999,
          36999,
          31999,
          84999,
          16990,
          39800,
          24490,
          27999,
          30999,
          54999,
          64999,
          30999,
          17999,
          25290,
          42999,
          34999,
          34999,
          36999,
          38999,
          28880,
          23790,
          34990,
          38999,
          57999,
          24499,
          49989,
          49999,
          35890,
          39890,
          39999,
          48990,
          26999,
          27999,
          27999,
          20999,
          28880,
          20999,
          18900,
          20999,
          39998,
          39899,
          24990,
          24499,
          49999,
          28390,
          49989,
          35890,
          39999,
          39890,
          48990,
          26999,
          27999,
          27999,
          28880,
          20999,
          20999,
          14670,
          20999,
          24999,
          43990,
          24990,
          31800,
          30990,
          49999,
          42999,
          32999,
          54999,
          47499,
          23990,
          16489,
          13999,
          15149,
          16299,
          19999,
          38999,
          42990,
          49999,
          49999,
          32999,
          54999,
          13999,
          16299,
          19999,
          38999,
          42990,
          49999,
          115999,
          23890,
          31999,
          31999,
          53400,
          39990,
          19999,
          54900,
          13190,
          35499,
          12998,
          23900,
          12499,
          23300,
          35499,
          49800,
          15812,
          40999,
          11999,
          27990,
          24490,
          47999,
          17660,
          59798,
          88888,
          59890,
          28047,
          27822,
          49999
         ],
         "xaxis": "x",
         "y": [
          50,
          50,
          50,
          50,
          50,
          50,
          50,
          50,
          50,
          50,
          64,
          50,
          50,
          64,
          64,
          64,
          64,
          64,
          50,
          50,
          50,
          48,
          48,
          50,
          50,
          50,
          50,
          50,
          108,
          108,
          50,
          50,
          48,
          50,
          48,
          50,
          108,
          108,
          50,
          108,
          108,
          108,
          108,
          50,
          48,
          48,
          50,
          50,
          48,
          48,
          48,
          48,
          108,
          122,
          122,
          64,
          50,
          50,
          64,
          50,
          50,
          50,
          50,
          48,
          50,
          50,
          50,
          12,
          50,
          50,
          50,
          50,
          12,
          50,
          50,
          50,
          50,
          50,
          50,
          50,
          48,
          50,
          108,
          64,
          50,
          50,
          50,
          50,
          12,
          50,
          50,
          12,
          200,
          50,
          50,
          108,
          50,
          50,
          50,
          50,
          48,
          50,
          50,
          64,
          50,
          50,
          5,
          108,
          50,
          64,
          5,
          64,
          12,
          50,
          50,
          50,
          50,
          50,
          48,
          48,
          5,
          108,
          5,
          5,
          50,
          64,
          50,
          108,
          108,
          108,
          108,
          108,
          50,
          200,
          64,
          50,
          108,
          50,
          200,
          5,
          108,
          50,
          50,
          50,
          50,
          108,
          50,
          64,
          50,
          64,
          5,
          108,
          50,
          64,
          64,
          50,
          50,
          50,
          200,
          50,
          50,
          50,
          50,
          13,
          13,
          64,
          50,
          64,
          108,
          64,
          50,
          50,
          50,
          50,
          12,
          50,
          64,
          50,
          50,
          50,
          50,
          50,
          64,
          50,
          108,
          50,
          50,
          64,
          32,
          50,
          48,
          50,
          50,
          50,
          64,
          50,
          50,
          64,
          50,
          50,
          64,
          50,
          64,
          50,
          50,
          50,
          50,
          50,
          200,
          50,
          50,
          64,
          64,
          200,
          64,
          48,
          50,
          64,
          50,
          48,
          48,
          50,
          50,
          50,
          64,
          50,
          50,
          50,
          48,
          50,
          48,
          50,
          64,
          64,
          50,
          64,
          50,
          50,
          50,
          108,
          50,
          50,
          48,
          48,
          50,
          64,
          64,
          64,
          64,
          64,
          50,
          48,
          50,
          50,
          64,
          64,
          50,
          50,
          48,
          108,
          50,
          48,
          64,
          64,
          50,
          64,
          50,
          50,
          64,
          64,
          108,
          64,
          64,
          64,
          64,
          64,
          64,
          108,
          64,
          200,
          50,
          50,
          50,
          64,
          50,
          200,
          50,
          50,
          64,
          50,
          50,
          64,
          50,
          50,
          48,
          48,
          50,
          50,
          50,
          50,
          64,
          50,
          64,
          50,
          200,
          50,
          50,
          50,
          64,
          64,
          50,
          50,
          50,
          50,
          50,
          48,
          64,
          48,
          50,
          108,
          50,
          48,
          64,
          50,
          108,
          48,
          50,
          64,
          50,
          48,
          48,
          50,
          64,
          50,
          64,
          50,
          48,
          50,
          108,
          50,
          12,
          50,
          5,
          64,
          64,
          48,
          50,
          48,
          48,
          50,
          108,
          64,
          108,
          48,
          50,
          48,
          50,
          48,
          108,
          48,
          48,
          108,
          64,
          50,
          50,
          48,
          48,
          48,
          50,
          50,
          50,
          50,
          50,
          50,
          50,
          50,
          50,
          50,
          50,
          50,
          50,
          108,
          50,
          108,
          64,
          64,
          50,
          50,
          50,
          50,
          50,
          48,
          64,
          64,
          48,
          64,
          50,
          64,
          50,
          50,
          50,
          50,
          64,
          64,
          64,
          50,
          64,
          64,
          50,
          50,
          64,
          64,
          64,
          108,
          64,
          48,
          48,
          64,
          50,
          48,
          64,
          48,
          64,
          48,
          50,
          200,
          108,
          48,
          50,
          108,
          108,
          108,
          108,
          64,
          108,
          108,
          108,
          64,
          50,
          48,
          64,
          64,
          50,
          64,
          108,
          50,
          48,
          64,
          48,
          50,
          48,
          64,
          64,
          50,
          64,
          108,
          50,
          64,
          48,
          48,
          48,
          200,
          64,
          200,
          200,
          50,
          50,
          50,
          48,
          50,
          50,
          64,
          200,
          50,
          50,
          50,
          50,
          50,
          48,
          48,
          48,
          50,
          48,
          50,
          50,
          200,
          200,
          64,
          16,
          108,
          64,
          50,
          50,
          48,
          48,
          50,
          64,
          50,
          64,
          64,
          64,
          64,
          48,
          64,
          50,
          64,
          108,
          50,
          50,
          16,
          64,
          50,
          48,
          48,
          50,
          50,
          64,
          50,
          108,
          64,
          64,
          64,
          64,
          64,
          50,
          50,
          50,
          64,
          48,
          50,
          64,
          50,
          50,
          50,
          108,
          64,
          64,
          48,
          64,
          48,
          50,
          48,
          48,
          50,
          64,
          64,
          50,
          64,
          48,
          64,
          50,
          50,
          50,
          108,
          64,
          64,
          64,
          48,
          48,
          50,
          48,
          100,
          48,
          64,
          64,
          48,
          50,
          50,
          32,
          50,
          50,
          48,
          50,
          50,
          50,
          50,
          48,
          64,
          50,
          50,
          50,
          32,
          50,
          50,
          50,
          48,
          64,
          50,
          50,
          200,
          48,
          108,
          108,
          50,
          50,
          64,
          50,
          50,
          50,
          50,
          64,
          50,
          64,
          50,
          50,
          50,
          64,
          48,
          64,
          48,
          48,
          50,
          50,
          50,
          50,
          50,
          50,
          48
         ],
         "yaxis": "y"
        }
       ],
       "layout": {
        "coloraxis": {
         "colorbar": {
          "title": {
           "text": "back_camera_processed"
          }
         },
         "colorscale": [
          [
           0,
           "#0d0887"
          ],
          [
           0.1111111111111111,
           "#46039f"
          ],
          [
           0.2222222222222222,
           "#7201a8"
          ],
          [
           0.3333333333333333,
           "#9c179e"
          ],
          [
           0.4444444444444444,
           "#bd3786"
          ],
          [
           0.5555555555555556,
           "#d8576b"
          ],
          [
           0.6666666666666666,
           "#ed7953"
          ],
          [
           0.7777777777777778,
           "#fb9f3a"
          ],
          [
           0.8888888888888888,
           "#fdca26"
          ],
          [
           1,
           "#f0f921"
          ]
         ]
        },
        "legend": {
         "tracegroupgap": 0
        },
        "margin": {
         "t": 60
        },
        "template": {
         "data": {
          "bar": [
           {
            "error_x": {
             "color": "#2a3f5f"
            },
            "error_y": {
             "color": "#2a3f5f"
            },
            "marker": {
             "line": {
              "color": "#E5ECF6",
              "width": 0.5
             },
             "pattern": {
              "fillmode": "overlay",
              "size": 10,
              "solidity": 0.2
             }
            },
            "type": "bar"
           }
          ],
          "barpolar": [
           {
            "marker": {
             "line": {
              "color": "#E5ECF6",
              "width": 0.5
             },
             "pattern": {
              "fillmode": "overlay",
              "size": 10,
              "solidity": 0.2
             }
            },
            "type": "barpolar"
           }
          ],
          "carpet": [
           {
            "aaxis": {
             "endlinecolor": "#2a3f5f",
             "gridcolor": "white",
             "linecolor": "white",
             "minorgridcolor": "white",
             "startlinecolor": "#2a3f5f"
            },
            "baxis": {
             "endlinecolor": "#2a3f5f",
             "gridcolor": "white",
             "linecolor": "white",
             "minorgridcolor": "white",
             "startlinecolor": "#2a3f5f"
            },
            "type": "carpet"
           }
          ],
          "choropleth": [
           {
            "colorbar": {
             "outlinewidth": 0,
             "ticks": ""
            },
            "type": "choropleth"
           }
          ],
          "contour": [
           {
            "colorbar": {
             "outlinewidth": 0,
             "ticks": ""
            },
            "colorscale": [
             [
              0,
              "#0d0887"
             ],
             [
              0.1111111111111111,
              "#46039f"
             ],
             [
              0.2222222222222222,
              "#7201a8"
             ],
             [
              0.3333333333333333,
              "#9c179e"
             ],
             [
              0.4444444444444444,
              "#bd3786"
             ],
             [
              0.5555555555555556,
              "#d8576b"
             ],
             [
              0.6666666666666666,
              "#ed7953"
             ],
             [
              0.7777777777777778,
              "#fb9f3a"
             ],
             [
              0.8888888888888888,
              "#fdca26"
             ],
             [
              1,
              "#f0f921"
             ]
            ],
            "type": "contour"
           }
          ],
          "contourcarpet": [
           {
            "colorbar": {
             "outlinewidth": 0,
             "ticks": ""
            },
            "type": "contourcarpet"
           }
          ],
          "heatmap": [
           {
            "colorbar": {
             "outlinewidth": 0,
             "ticks": ""
            },
            "colorscale": [
             [
              0,
              "#0d0887"
             ],
             [
              0.1111111111111111,
              "#46039f"
             ],
             [
              0.2222222222222222,
              "#7201a8"
             ],
             [
              0.3333333333333333,
              "#9c179e"
             ],
             [
              0.4444444444444444,
              "#bd3786"
             ],
             [
              0.5555555555555556,
              "#d8576b"
             ],
             [
              0.6666666666666666,
              "#ed7953"
             ],
             [
              0.7777777777777778,
              "#fb9f3a"
             ],
             [
              0.8888888888888888,
              "#fdca26"
             ],
             [
              1,
              "#f0f921"
             ]
            ],
            "type": "heatmap"
           }
          ],
          "heatmapgl": [
           {
            "colorbar": {
             "outlinewidth": 0,
             "ticks": ""
            },
            "colorscale": [
             [
              0,
              "#0d0887"
             ],
             [
              0.1111111111111111,
              "#46039f"
             ],
             [
              0.2222222222222222,
              "#7201a8"
             ],
             [
              0.3333333333333333,
              "#9c179e"
             ],
             [
              0.4444444444444444,
              "#bd3786"
             ],
             [
              0.5555555555555556,
              "#d8576b"
             ],
             [
              0.6666666666666666,
              "#ed7953"
             ],
             [
              0.7777777777777778,
              "#fb9f3a"
             ],
             [
              0.8888888888888888,
              "#fdca26"
             ],
             [
              1,
              "#f0f921"
             ]
            ],
            "type": "heatmapgl"
           }
          ],
          "histogram": [
           {
            "marker": {
             "pattern": {
              "fillmode": "overlay",
              "size": 10,
              "solidity": 0.2
             }
            },
            "type": "histogram"
           }
          ],
          "histogram2d": [
           {
            "colorbar": {
             "outlinewidth": 0,
             "ticks": ""
            },
            "colorscale": [
             [
              0,
              "#0d0887"
             ],
             [
              0.1111111111111111,
              "#46039f"
             ],
             [
              0.2222222222222222,
              "#7201a8"
             ],
             [
              0.3333333333333333,
              "#9c179e"
             ],
             [
              0.4444444444444444,
              "#bd3786"
             ],
             [
              0.5555555555555556,
              "#d8576b"
             ],
             [
              0.6666666666666666,
              "#ed7953"
             ],
             [
              0.7777777777777778,
              "#fb9f3a"
             ],
             [
              0.8888888888888888,
              "#fdca26"
             ],
             [
              1,
              "#f0f921"
             ]
            ],
            "type": "histogram2d"
           }
          ],
          "histogram2dcontour": [
           {
            "colorbar": {
             "outlinewidth": 0,
             "ticks": ""
            },
            "colorscale": [
             [
              0,
              "#0d0887"
             ],
             [
              0.1111111111111111,
              "#46039f"
             ],
             [
              0.2222222222222222,
              "#7201a8"
             ],
             [
              0.3333333333333333,
              "#9c179e"
             ],
             [
              0.4444444444444444,
              "#bd3786"
             ],
             [
              0.5555555555555556,
              "#d8576b"
             ],
             [
              0.6666666666666666,
              "#ed7953"
             ],
             [
              0.7777777777777778,
              "#fb9f3a"
             ],
             [
              0.8888888888888888,
              "#fdca26"
             ],
             [
              1,
              "#f0f921"
             ]
            ],
            "type": "histogram2dcontour"
           }
          ],
          "mesh3d": [
           {
            "colorbar": {
             "outlinewidth": 0,
             "ticks": ""
            },
            "type": "mesh3d"
           }
          ],
          "parcoords": [
           {
            "line": {
             "colorbar": {
              "outlinewidth": 0,
              "ticks": ""
             }
            },
            "type": "parcoords"
           }
          ],
          "pie": [
           {
            "automargin": true,
            "type": "pie"
           }
          ],
          "scatter": [
           {
            "fillpattern": {
             "fillmode": "overlay",
             "size": 10,
             "solidity": 0.2
            },
            "type": "scatter"
           }
          ],
          "scatter3d": [
           {
            "line": {
             "colorbar": {
              "outlinewidth": 0,
              "ticks": ""
             }
            },
            "marker": {
             "colorbar": {
              "outlinewidth": 0,
              "ticks": ""
             }
            },
            "type": "scatter3d"
           }
          ],
          "scattercarpet": [
           {
            "marker": {
             "colorbar": {
              "outlinewidth": 0,
              "ticks": ""
             }
            },
            "type": "scattercarpet"
           }
          ],
          "scattergeo": [
           {
            "marker": {
             "colorbar": {
              "outlinewidth": 0,
              "ticks": ""
             }
            },
            "type": "scattergeo"
           }
          ],
          "scattergl": [
           {
            "marker": {
             "colorbar": {
              "outlinewidth": 0,
              "ticks": ""
             }
            },
            "type": "scattergl"
           }
          ],
          "scattermapbox": [
           {
            "marker": {
             "colorbar": {
              "outlinewidth": 0,
              "ticks": ""
             }
            },
            "type": "scattermapbox"
           }
          ],
          "scatterpolar": [
           {
            "marker": {
             "colorbar": {
              "outlinewidth": 0,
              "ticks": ""
             }
            },
            "type": "scatterpolar"
           }
          ],
          "scatterpolargl": [
           {
            "marker": {
             "colorbar": {
              "outlinewidth": 0,
              "ticks": ""
             }
            },
            "type": "scatterpolargl"
           }
          ],
          "scatterternary": [
           {
            "marker": {
             "colorbar": {
              "outlinewidth": 0,
              "ticks": ""
             }
            },
            "type": "scatterternary"
           }
          ],
          "surface": [
           {
            "colorbar": {
             "outlinewidth": 0,
             "ticks": ""
            },
            "colorscale": [
             [
              0,
              "#0d0887"
             ],
             [
              0.1111111111111111,
              "#46039f"
             ],
             [
              0.2222222222222222,
              "#7201a8"
             ],
             [
              0.3333333333333333,
              "#9c179e"
             ],
             [
              0.4444444444444444,
              "#bd3786"
             ],
             [
              0.5555555555555556,
              "#d8576b"
             ],
             [
              0.6666666666666666,
              "#ed7953"
             ],
             [
              0.7777777777777778,
              "#fb9f3a"
             ],
             [
              0.8888888888888888,
              "#fdca26"
             ],
             [
              1,
              "#f0f921"
             ]
            ],
            "type": "surface"
           }
          ],
          "table": [
           {
            "cells": {
             "fill": {
              "color": "#EBF0F8"
             },
             "line": {
              "color": "white"
             }
            },
            "header": {
             "fill": {
              "color": "#C8D4E3"
             },
             "line": {
              "color": "white"
             }
            },
            "type": "table"
           }
          ]
         },
         "layout": {
          "annotationdefaults": {
           "arrowcolor": "#2a3f5f",
           "arrowhead": 0,
           "arrowwidth": 1
          },
          "autotypenumbers": "strict",
          "coloraxis": {
           "colorbar": {
            "outlinewidth": 0,
            "ticks": ""
           }
          },
          "colorscale": {
           "diverging": [
            [
             0,
             "#8e0152"
            ],
            [
             0.1,
             "#c51b7d"
            ],
            [
             0.2,
             "#de77ae"
            ],
            [
             0.3,
             "#f1b6da"
            ],
            [
             0.4,
             "#fde0ef"
            ],
            [
             0.5,
             "#f7f7f7"
            ],
            [
             0.6,
             "#e6f5d0"
            ],
            [
             0.7,
             "#b8e186"
            ],
            [
             0.8,
             "#7fbc41"
            ],
            [
             0.9,
             "#4d9221"
            ],
            [
             1,
             "#276419"
            ]
           ],
           "sequential": [
            [
             0,
             "#0d0887"
            ],
            [
             0.1111111111111111,
             "#46039f"
            ],
            [
             0.2222222222222222,
             "#7201a8"
            ],
            [
             0.3333333333333333,
             "#9c179e"
            ],
            [
             0.4444444444444444,
             "#bd3786"
            ],
            [
             0.5555555555555556,
             "#d8576b"
            ],
            [
             0.6666666666666666,
             "#ed7953"
            ],
            [
             0.7777777777777778,
             "#fb9f3a"
            ],
            [
             0.8888888888888888,
             "#fdca26"
            ],
            [
             1,
             "#f0f921"
            ]
           ],
           "sequentialminus": [
            [
             0,
             "#0d0887"
            ],
            [
             0.1111111111111111,
             "#46039f"
            ],
            [
             0.2222222222222222,
             "#7201a8"
            ],
            [
             0.3333333333333333,
             "#9c179e"
            ],
            [
             0.4444444444444444,
             "#bd3786"
            ],
            [
             0.5555555555555556,
             "#d8576b"
            ],
            [
             0.6666666666666666,
             "#ed7953"
            ],
            [
             0.7777777777777778,
             "#fb9f3a"
            ],
            [
             0.8888888888888888,
             "#fdca26"
            ],
            [
             1,
             "#f0f921"
            ]
           ]
          },
          "colorway": [
           "#636efa",
           "#EF553B",
           "#00cc96",
           "#ab63fa",
           "#FFA15A",
           "#19d3f3",
           "#FF6692",
           "#B6E880",
           "#FF97FF",
           "#FECB52"
          ],
          "font": {
           "color": "#2a3f5f"
          },
          "geo": {
           "bgcolor": "white",
           "lakecolor": "white",
           "landcolor": "#E5ECF6",
           "showlakes": true,
           "showland": true,
           "subunitcolor": "white"
          },
          "hoverlabel": {
           "align": "left"
          },
          "hovermode": "closest",
          "mapbox": {
           "style": "light"
          },
          "paper_bgcolor": "white",
          "plot_bgcolor": "#E5ECF6",
          "polar": {
           "angularaxis": {
            "gridcolor": "white",
            "linecolor": "white",
            "ticks": ""
           },
           "bgcolor": "#E5ECF6",
           "radialaxis": {
            "gridcolor": "white",
            "linecolor": "white",
            "ticks": ""
           }
          },
          "scene": {
           "xaxis": {
            "backgroundcolor": "#E5ECF6",
            "gridcolor": "white",
            "gridwidth": 2,
            "linecolor": "white",
            "showbackground": true,
            "ticks": "",
            "zerolinecolor": "white"
           },
           "yaxis": {
            "backgroundcolor": "#E5ECF6",
            "gridcolor": "white",
            "gridwidth": 2,
            "linecolor": "white",
            "showbackground": true,
            "ticks": "",
            "zerolinecolor": "white"
           },
           "zaxis": {
            "backgroundcolor": "#E5ECF6",
            "gridcolor": "white",
            "gridwidth": 2,
            "linecolor": "white",
            "showbackground": true,
            "ticks": "",
            "zerolinecolor": "white"
           }
          },
          "shapedefaults": {
           "line": {
            "color": "#2a3f5f"
           }
          },
          "ternary": {
           "aaxis": {
            "gridcolor": "white",
            "linecolor": "white",
            "ticks": ""
           },
           "baxis": {
            "gridcolor": "white",
            "linecolor": "white",
            "ticks": ""
           },
           "bgcolor": "#E5ECF6",
           "caxis": {
            "gridcolor": "white",
            "linecolor": "white",
            "ticks": ""
           }
          },
          "title": {
           "x": 0.05
          },
          "xaxis": {
           "automargin": true,
           "gridcolor": "white",
           "linecolor": "white",
           "ticks": "",
           "title": {
            "standoff": 15
           },
           "zerolinecolor": "white",
           "zerolinewidth": 2
          },
          "yaxis": {
           "automargin": true,
           "gridcolor": "white",
           "linecolor": "white",
           "ticks": "",
           "title": {
            "standoff": 15
           },
           "zerolinecolor": "white",
           "zerolinewidth": 2
          }
         }
        },
        "xaxis": {
         "anchor": "y",
         "domain": [
          0,
          1
         ],
         "title": {
          "text": "price_processed"
         }
        },
        "yaxis": {
         "anchor": "x",
         "domain": [
          0,
          1
         ],
         "title": {
          "text": "back_camera_processed"
         }
        }
       }
      },
      "text/html": [
       "<div>                            <div id=\"b4e10ff7-7c17-4e12-a91f-52f20e7f0772\" class=\"plotly-graph-div\" style=\"height:525px; width:100%;\"></div>            <script type=\"text/javascript\">                require([\"plotly\"], function(Plotly) {                    window.PLOTLYENV=window.PLOTLYENV || {};                                    if (document.getElementById(\"b4e10ff7-7c17-4e12-a91f-52f20e7f0772\")) {                    Plotly.newPlot(                        \"b4e10ff7-7c17-4e12-a91f-52f20e7f0772\",                        [{\"hovertemplate\":\"price_processed=%{x}\\u003cbr\\u003eback_camera_processed=%{marker.color}\\u003cextra\\u003e\\u003c\\u002fextra\\u003e\",\"legendgroup\":\"\",\"marker\":{\"color\":[50,50,50,50,50,50,50,50,50,50,64,50,50,64,64,64,64,64,50,50,50,48,48,50,50,50,50,50,108,108,50,50,48,50,48,50,108,108,50,108,108,108,108,50,48,48,50,50,48,48,48,48,108,122,122,64,50,50,64,50,50,50,50,48,50,50,50,12,50,50,50,50,12,50,50,50,50,50,50,50,48,50,108,64,50,50,50,50,12,50,50,12,200,50,50,108,50,50,50,50,48,50,50,64,50,50,5,108,50,64,5,64,12,50,50,50,50,50,48,48,5,108,5,5,50,64,50,108,108,108,108,108,50,200,64,50,108,50,200,5,108,50,50,50,50,108,50,64,50,64,5,108,50,64,64,50,50,50,200,50,50,50,50,13,13,64,50,64,108,64,50,50,50,50,12,50,64,50,50,50,50,50,64,50,108,50,50,64,32,50,48,50,50,50,64,50,50,64,50,50,64,50,64,50,50,50,50,50,200,50,50,64,64,200,64,48,50,64,50,48,48,50,50,50,64,50,50,50,48,50,48,50,64,64,50,64,50,50,50,108,50,50,48,48,50,64,64,64,64,64,50,48,50,50,64,64,50,50,48,108,50,48,64,64,50,64,50,50,64,64,108,64,64,64,64,64,64,108,64,200,50,50,50,64,50,200,50,50,64,50,50,64,50,50,48,48,50,50,50,50,64,50,64,50,200,50,50,50,64,64,50,50,50,50,50,48,64,48,50,108,50,48,64,50,108,48,50,64,50,48,48,50,64,50,64,50,48,50,108,50,12,50,5,64,64,48,50,48,48,50,108,64,108,48,50,48,50,48,108,48,48,108,64,50,50,48,48,48,50,50,50,50,50,50,50,50,50,50,50,50,50,108,50,108,64,64,50,50,50,50,50,48,64,64,48,64,50,64,50,50,50,50,64,64,64,50,64,64,50,50,64,64,64,108,64,48,48,64,50,48,64,48,64,48,50,200,108,48,50,108,108,108,108,64,108,108,108,64,50,48,64,64,50,64,108,50,48,64,48,50,48,64,64,50,64,108,50,64,48,48,48,200,64,200,200,50,50,50,48,50,50,64,200,50,50,50,50,50,48,48,48,50,48,50,50,200,200,64,16,108,64,50,50,48,48,50,64,50,64,64,64,64,48,64,50,64,108,50,50,16,64,50,48,48,50,50,64,50,108,64,64,64,64,64,50,50,50,64,48,50,64,50,50,50,108,64,64,48,64,48,50,48,48,50,64,64,50,64,48,64,50,50,50,108,64,64,64,48,48,50,48,100,48,64,64,48,50,50,32,50,50,48,50,50,50,50,48,64,50,50,50,32,50,50,50,48,64,50,50,200,48,108,108,50,50,64,50,50,50,50,64,50,64,50,50,50,64,48,64,48,48,50,50,50,50,50,50,48],\"coloraxis\":\"coloraxis\",\"symbol\":\"circle\"},\"mode\":\"markers\",\"name\":\"\",\"orientation\":\"v\",\"showlegend\":false,\"x\":[15999,15999,13999,12999,12999,12999,15999,13999,13999,11999,17967,15499,15499,17889,20999,20999,18999,18999,16999,11999,14490,15999,15999,16499,14490,16499,14490,16999,15999,15999,16999,13490,15999,13490,17999,13490,18999,19999,11999,18999,19999,19999,18999,13999,17999,18999,23999,23999,18999,18999,16999,16999,23999,28999,28999,27990,11499,29999,23999,11499,15999,11499,28448,16999,16999,39788,13499,32999,21499,16999,16999,14999,32999,13499,16999,16999,44875,44237,14999,13999,14499,15999,23999,17499,29999,16899,17217,23999,32999,17217,23999,32999,29999,26999,13499,23999,32999,21499,49999,15999,17999,32999,23999,25999,26999,15999,13896,21999,25999,29999,14905,21974,27974,15995,21999,21999,32299,15217,17999,17999,15193,23999,13896,13480,23999,16499,15810,22999,22999,23999,22999,23999,17462,32999,25999,27700,21999,21999,32999,15307,27999,24999,30990,30979,24999,29999,25999,29999,34999,29999,15193,29999,14295,43999,43999,16182,18999,13999,32999,18999,18999,25999,34999,18680,18570,43999,17462,32999,34999,23999,21999,16499,30999,30499,32999,16999,29990,21999,29499,16495,17999,17999,28397,17999,14899,19999,36999,19499,28929,14999,32999,19999,15999,15999,28749,17999,29999,32999,15322,28388,35999,15749,19499,35480,20999,35480,53999,21999,49999,14999,53999,23999,23999,32999,32999,30999,17999,35999,26999,30999,32999,53999,20999,16499,19499,20999,12935,12935,25990,15999,25990,40999,29778,23999,35490,31989,20999,63999,15990,24385,18499,14999,32999,26990,35489,24985,34592,29990,30999,31999,15999,27999,18500,17599,25999,25999,19979,35999,13499,15995,59999,21990,24999,34657,54999,23999,75999,63999,21990,24999,23999,25499,23799,24999,23999,24999,21990,23999,23799,29999,59999,75999,75999,25990,15699,29999,24990,18999,22999,33999,12838,26495,18999,24999,22690,54830,16999,18989,37999,16999,22999,20996,22979,17390,124999,164989,15480,84999,28950,33990,49999,49999,29999,29999,61899,30999,29999,16999,19988,22990,34499,19990,26499,14990,27999,16999,35480,36999,18890,30990,14999,24999,17499,94999,34999,23999,16499,47499,26999,38999,27880,12938,13999,33469,27990,44990,42999,23999,17499,24999,41999,27999,23999,27990,54999,19999,42999,23999,41999,17499,27990,41999,27999,54999,49499,50999,17499,19999,17490,24999,44997,15799,15499,39999,35990,19449,20000,104999,15499,15999,15999,20999,23999,23999,35990,57999,44999,18890,39999,37999,37999,19899,27999,24990,16999,24450,94999,18999,24999,13799,47999,46990,16499,25487,24996,40999,31500,33499,41990,45999,35999,31999,24999,31990,27990,18499,34499,24999,17990,26990,26990,36990,35999,27990,15999,44999,28190,27999,33999,34999,38990,43990,31990,39999,43990,38990,31990,39999,14999,30999,35990,26499,42999,35999,87990,89999,16999,29999,19999,14999,30999,35990,26499,42999,35999,87990,89999,29999,16999,19999,18999,27999,25999,29999,29999,42999,61899,34999,47999,17990,39099,22200,124999,34990,104999,48999,154989,42999,32990,32990,35990,32999,20999,16990,39800,29999,27999,27999,24490,84999,19290,30999,30999,64999,54999,17999,25290,42999,31990,34999,36999,38999,20890,34999,36999,31999,84999,16990,39800,24490,27999,30999,54999,64999,30999,17999,25290,42999,34999,34999,36999,38999,28880,23790,34990,38999,57999,24499,49989,49999,35890,39890,39999,48990,26999,27999,27999,20999,28880,20999,18900,20999,39998,39899,24990,24499,49999,28390,49989,35890,39999,39890,48990,26999,27999,27999,28880,20999,20999,14670,20999,24999,43990,24990,31800,30990,49999,42999,32999,54999,47499,23990,16489,13999,15149,16299,19999,38999,42990,49999,49999,32999,54999,13999,16299,19999,38999,42990,49999,115999,23890,31999,31999,53400,39990,19999,54900,13190,35499,12998,23900,12499,23300,35499,49800,15812,40999,11999,27990,24490,47999,17660,59798,88888,59890,28047,27822,49999],\"xaxis\":\"x\",\"y\":[50,50,50,50,50,50,50,50,50,50,64,50,50,64,64,64,64,64,50,50,50,48,48,50,50,50,50,50,108,108,50,50,48,50,48,50,108,108,50,108,108,108,108,50,48,48,50,50,48,48,48,48,108,122,122,64,50,50,64,50,50,50,50,48,50,50,50,12,50,50,50,50,12,50,50,50,50,50,50,50,48,50,108,64,50,50,50,50,12,50,50,12,200,50,50,108,50,50,50,50,48,50,50,64,50,50,5,108,50,64,5,64,12,50,50,50,50,50,48,48,5,108,5,5,50,64,50,108,108,108,108,108,50,200,64,50,108,50,200,5,108,50,50,50,50,108,50,64,50,64,5,108,50,64,64,50,50,50,200,50,50,50,50,13,13,64,50,64,108,64,50,50,50,50,12,50,64,50,50,50,50,50,64,50,108,50,50,64,32,50,48,50,50,50,64,50,50,64,50,50,64,50,64,50,50,50,50,50,200,50,50,64,64,200,64,48,50,64,50,48,48,50,50,50,64,50,50,50,48,50,48,50,64,64,50,64,50,50,50,108,50,50,48,48,50,64,64,64,64,64,50,48,50,50,64,64,50,50,48,108,50,48,64,64,50,64,50,50,64,64,108,64,64,64,64,64,64,108,64,200,50,50,50,64,50,200,50,50,64,50,50,64,50,50,48,48,50,50,50,50,64,50,64,50,200,50,50,50,64,64,50,50,50,50,50,48,64,48,50,108,50,48,64,50,108,48,50,64,50,48,48,50,64,50,64,50,48,50,108,50,12,50,5,64,64,48,50,48,48,50,108,64,108,48,50,48,50,48,108,48,48,108,64,50,50,48,48,48,50,50,50,50,50,50,50,50,50,50,50,50,50,108,50,108,64,64,50,50,50,50,50,48,64,64,48,64,50,64,50,50,50,50,64,64,64,50,64,64,50,50,64,64,64,108,64,48,48,64,50,48,64,48,64,48,50,200,108,48,50,108,108,108,108,64,108,108,108,64,50,48,64,64,50,64,108,50,48,64,48,50,48,64,64,50,64,108,50,64,48,48,48,200,64,200,200,50,50,50,48,50,50,64,200,50,50,50,50,50,48,48,48,50,48,50,50,200,200,64,16,108,64,50,50,48,48,50,64,50,64,64,64,64,48,64,50,64,108,50,50,16,64,50,48,48,50,50,64,50,108,64,64,64,64,64,50,50,50,64,48,50,64,50,50,50,108,64,64,48,64,48,50,48,48,50,64,64,50,64,48,64,50,50,50,108,64,64,64,48,48,50,48,100,48,64,64,48,50,50,32,50,50,48,50,50,50,50,48,64,50,50,50,32,50,50,50,48,64,50,50,200,48,108,108,50,50,64,50,50,50,50,64,50,64,50,50,50,64,48,64,48,48,50,50,50,50,50,50,48],\"yaxis\":\"y\",\"type\":\"scatter\"}],                        {\"template\":{\"data\":{\"histogram2dcontour\":[{\"type\":\"histogram2dcontour\",\"colorbar\":{\"outlinewidth\":0,\"ticks\":\"\"},\"colorscale\":[[0.0,\"#0d0887\"],[0.1111111111111111,\"#46039f\"],[0.2222222222222222,\"#7201a8\"],[0.3333333333333333,\"#9c179e\"],[0.4444444444444444,\"#bd3786\"],[0.5555555555555556,\"#d8576b\"],[0.6666666666666666,\"#ed7953\"],[0.7777777777777778,\"#fb9f3a\"],[0.8888888888888888,\"#fdca26\"],[1.0,\"#f0f921\"]]}],\"choropleth\":[{\"type\":\"choropleth\",\"colorbar\":{\"outlinewidth\":0,\"ticks\":\"\"}}],\"histogram2d\":[{\"type\":\"histogram2d\",\"colorbar\":{\"outlinewidth\":0,\"ticks\":\"\"},\"colorscale\":[[0.0,\"#0d0887\"],[0.1111111111111111,\"#46039f\"],[0.2222222222222222,\"#7201a8\"],[0.3333333333333333,\"#9c179e\"],[0.4444444444444444,\"#bd3786\"],[0.5555555555555556,\"#d8576b\"],[0.6666666666666666,\"#ed7953\"],[0.7777777777777778,\"#fb9f3a\"],[0.8888888888888888,\"#fdca26\"],[1.0,\"#f0f921\"]]}],\"heatmap\":[{\"type\":\"heatmap\",\"colorbar\":{\"outlinewidth\":0,\"ticks\":\"\"},\"colorscale\":[[0.0,\"#0d0887\"],[0.1111111111111111,\"#46039f\"],[0.2222222222222222,\"#7201a8\"],[0.3333333333333333,\"#9c179e\"],[0.4444444444444444,\"#bd3786\"],[0.5555555555555556,\"#d8576b\"],[0.6666666666666666,\"#ed7953\"],[0.7777777777777778,\"#fb9f3a\"],[0.8888888888888888,\"#fdca26\"],[1.0,\"#f0f921\"]]}],\"heatmapgl\":[{\"type\":\"heatmapgl\",\"colorbar\":{\"outlinewidth\":0,\"ticks\":\"\"},\"colorscale\":[[0.0,\"#0d0887\"],[0.1111111111111111,\"#46039f\"],[0.2222222222222222,\"#7201a8\"],[0.3333333333333333,\"#9c179e\"],[0.4444444444444444,\"#bd3786\"],[0.5555555555555556,\"#d8576b\"],[0.6666666666666666,\"#ed7953\"],[0.7777777777777778,\"#fb9f3a\"],[0.8888888888888888,\"#fdca26\"],[1.0,\"#f0f921\"]]}],\"contourcarpet\":[{\"type\":\"contourcarpet\",\"colorbar\":{\"outlinewidth\":0,\"ticks\":\"\"}}],\"contour\":[{\"type\":\"contour\",\"colorbar\":{\"outlinewidth\":0,\"ticks\":\"\"},\"colorscale\":[[0.0,\"#0d0887\"],[0.1111111111111111,\"#46039f\"],[0.2222222222222222,\"#7201a8\"],[0.3333333333333333,\"#9c179e\"],[0.4444444444444444,\"#bd3786\"],[0.5555555555555556,\"#d8576b\"],[0.6666666666666666,\"#ed7953\"],[0.7777777777777778,\"#fb9f3a\"],[0.8888888888888888,\"#fdca26\"],[1.0,\"#f0f921\"]]}],\"surface\":[{\"type\":\"surface\",\"colorbar\":{\"outlinewidth\":0,\"ticks\":\"\"},\"colorscale\":[[0.0,\"#0d0887\"],[0.1111111111111111,\"#46039f\"],[0.2222222222222222,\"#7201a8\"],[0.3333333333333333,\"#9c179e\"],[0.4444444444444444,\"#bd3786\"],[0.5555555555555556,\"#d8576b\"],[0.6666666666666666,\"#ed7953\"],[0.7777777777777778,\"#fb9f3a\"],[0.8888888888888888,\"#fdca26\"],[1.0,\"#f0f921\"]]}],\"mesh3d\":[{\"type\":\"mesh3d\",\"colorbar\":{\"outlinewidth\":0,\"ticks\":\"\"}}],\"scatter\":[{\"fillpattern\":{\"fillmode\":\"overlay\",\"size\":10,\"solidity\":0.2},\"type\":\"scatter\"}],\"parcoords\":[{\"type\":\"parcoords\",\"line\":{\"colorbar\":{\"outlinewidth\":0,\"ticks\":\"\"}}}],\"scatterpolargl\":[{\"type\":\"scatterpolargl\",\"marker\":{\"colorbar\":{\"outlinewidth\":0,\"ticks\":\"\"}}}],\"bar\":[{\"error_x\":{\"color\":\"#2a3f5f\"},\"error_y\":{\"color\":\"#2a3f5f\"},\"marker\":{\"line\":{\"color\":\"#E5ECF6\",\"width\":0.5},\"pattern\":{\"fillmode\":\"overlay\",\"size\":10,\"solidity\":0.2}},\"type\":\"bar\"}],\"scattergeo\":[{\"type\":\"scattergeo\",\"marker\":{\"colorbar\":{\"outlinewidth\":0,\"ticks\":\"\"}}}],\"scatterpolar\":[{\"type\":\"scatterpolar\",\"marker\":{\"colorbar\":{\"outlinewidth\":0,\"ticks\":\"\"}}}],\"histogram\":[{\"marker\":{\"pattern\":{\"fillmode\":\"overlay\",\"size\":10,\"solidity\":0.2}},\"type\":\"histogram\"}],\"scattergl\":[{\"type\":\"scattergl\",\"marker\":{\"colorbar\":{\"outlinewidth\":0,\"ticks\":\"\"}}}],\"scatter3d\":[{\"type\":\"scatter3d\",\"line\":{\"colorbar\":{\"outlinewidth\":0,\"ticks\":\"\"}},\"marker\":{\"colorbar\":{\"outlinewidth\":0,\"ticks\":\"\"}}}],\"scattermapbox\":[{\"type\":\"scattermapbox\",\"marker\":{\"colorbar\":{\"outlinewidth\":0,\"ticks\":\"\"}}}],\"scatterternary\":[{\"type\":\"scatterternary\",\"marker\":{\"colorbar\":{\"outlinewidth\":0,\"ticks\":\"\"}}}],\"scattercarpet\":[{\"type\":\"scattercarpet\",\"marker\":{\"colorbar\":{\"outlinewidth\":0,\"ticks\":\"\"}}}],\"carpet\":[{\"aaxis\":{\"endlinecolor\":\"#2a3f5f\",\"gridcolor\":\"white\",\"linecolor\":\"white\",\"minorgridcolor\":\"white\",\"startlinecolor\":\"#2a3f5f\"},\"baxis\":{\"endlinecolor\":\"#2a3f5f\",\"gridcolor\":\"white\",\"linecolor\":\"white\",\"minorgridcolor\":\"white\",\"startlinecolor\":\"#2a3f5f\"},\"type\":\"carpet\"}],\"table\":[{\"cells\":{\"fill\":{\"color\":\"#EBF0F8\"},\"line\":{\"color\":\"white\"}},\"header\":{\"fill\":{\"color\":\"#C8D4E3\"},\"line\":{\"color\":\"white\"}},\"type\":\"table\"}],\"barpolar\":[{\"marker\":{\"line\":{\"color\":\"#E5ECF6\",\"width\":0.5},\"pattern\":{\"fillmode\":\"overlay\",\"size\":10,\"solidity\":0.2}},\"type\":\"barpolar\"}],\"pie\":[{\"automargin\":true,\"type\":\"pie\"}]},\"layout\":{\"autotypenumbers\":\"strict\",\"colorway\":[\"#636efa\",\"#EF553B\",\"#00cc96\",\"#ab63fa\",\"#FFA15A\",\"#19d3f3\",\"#FF6692\",\"#B6E880\",\"#FF97FF\",\"#FECB52\"],\"font\":{\"color\":\"#2a3f5f\"},\"hovermode\":\"closest\",\"hoverlabel\":{\"align\":\"left\"},\"paper_bgcolor\":\"white\",\"plot_bgcolor\":\"#E5ECF6\",\"polar\":{\"bgcolor\":\"#E5ECF6\",\"angularaxis\":{\"gridcolor\":\"white\",\"linecolor\":\"white\",\"ticks\":\"\"},\"radialaxis\":{\"gridcolor\":\"white\",\"linecolor\":\"white\",\"ticks\":\"\"}},\"ternary\":{\"bgcolor\":\"#E5ECF6\",\"aaxis\":{\"gridcolor\":\"white\",\"linecolor\":\"white\",\"ticks\":\"\"},\"baxis\":{\"gridcolor\":\"white\",\"linecolor\":\"white\",\"ticks\":\"\"},\"caxis\":{\"gridcolor\":\"white\",\"linecolor\":\"white\",\"ticks\":\"\"}},\"coloraxis\":{\"colorbar\":{\"outlinewidth\":0,\"ticks\":\"\"}},\"colorscale\":{\"sequential\":[[0.0,\"#0d0887\"],[0.1111111111111111,\"#46039f\"],[0.2222222222222222,\"#7201a8\"],[0.3333333333333333,\"#9c179e\"],[0.4444444444444444,\"#bd3786\"],[0.5555555555555556,\"#d8576b\"],[0.6666666666666666,\"#ed7953\"],[0.7777777777777778,\"#fb9f3a\"],[0.8888888888888888,\"#fdca26\"],[1.0,\"#f0f921\"]],\"sequentialminus\":[[0.0,\"#0d0887\"],[0.1111111111111111,\"#46039f\"],[0.2222222222222222,\"#7201a8\"],[0.3333333333333333,\"#9c179e\"],[0.4444444444444444,\"#bd3786\"],[0.5555555555555556,\"#d8576b\"],[0.6666666666666666,\"#ed7953\"],[0.7777777777777778,\"#fb9f3a\"],[0.8888888888888888,\"#fdca26\"],[1.0,\"#f0f921\"]],\"diverging\":[[0,\"#8e0152\"],[0.1,\"#c51b7d\"],[0.2,\"#de77ae\"],[0.3,\"#f1b6da\"],[0.4,\"#fde0ef\"],[0.5,\"#f7f7f7\"],[0.6,\"#e6f5d0\"],[0.7,\"#b8e186\"],[0.8,\"#7fbc41\"],[0.9,\"#4d9221\"],[1,\"#276419\"]]},\"xaxis\":{\"gridcolor\":\"white\",\"linecolor\":\"white\",\"ticks\":\"\",\"title\":{\"standoff\":15},\"zerolinecolor\":\"white\",\"automargin\":true,\"zerolinewidth\":2},\"yaxis\":{\"gridcolor\":\"white\",\"linecolor\":\"white\",\"ticks\":\"\",\"title\":{\"standoff\":15},\"zerolinecolor\":\"white\",\"automargin\":true,\"zerolinewidth\":2},\"scene\":{\"xaxis\":{\"backgroundcolor\":\"#E5ECF6\",\"gridcolor\":\"white\",\"linecolor\":\"white\",\"showbackground\":true,\"ticks\":\"\",\"zerolinecolor\":\"white\",\"gridwidth\":2},\"yaxis\":{\"backgroundcolor\":\"#E5ECF6\",\"gridcolor\":\"white\",\"linecolor\":\"white\",\"showbackground\":true,\"ticks\":\"\",\"zerolinecolor\":\"white\",\"gridwidth\":2},\"zaxis\":{\"backgroundcolor\":\"#E5ECF6\",\"gridcolor\":\"white\",\"linecolor\":\"white\",\"showbackground\":true,\"ticks\":\"\",\"zerolinecolor\":\"white\",\"gridwidth\":2}},\"shapedefaults\":{\"line\":{\"color\":\"#2a3f5f\"}},\"annotationdefaults\":{\"arrowcolor\":\"#2a3f5f\",\"arrowhead\":0,\"arrowwidth\":1},\"geo\":{\"bgcolor\":\"white\",\"landcolor\":\"#E5ECF6\",\"subunitcolor\":\"white\",\"showland\":true,\"showlakes\":true,\"lakecolor\":\"white\"},\"title\":{\"x\":0.05},\"mapbox\":{\"style\":\"light\"}}},\"xaxis\":{\"anchor\":\"y\",\"domain\":[0.0,1.0],\"title\":{\"text\":\"price_processed\"}},\"yaxis\":{\"anchor\":\"x\",\"domain\":[0.0,1.0],\"title\":{\"text\":\"back_camera_processed\"}},\"coloraxis\":{\"colorbar\":{\"title\":{\"text\":\"back_camera_processed\"}},\"colorscale\":[[0.0,\"#0d0887\"],[0.1111111111111111,\"#46039f\"],[0.2222222222222222,\"#7201a8\"],[0.3333333333333333,\"#9c179e\"],[0.4444444444444444,\"#bd3786\"],[0.5555555555555556,\"#d8576b\"],[0.6666666666666666,\"#ed7953\"],[0.7777777777777778,\"#fb9f3a\"],[0.8888888888888888,\"#fdca26\"],[1.0,\"#f0f921\"]]},\"legend\":{\"tracegroupgap\":0},\"margin\":{\"t\":60}},                        {\"responsive\": true}                    ).then(function(){\n",
       "                            \n",
       "var gd = document.getElementById('b4e10ff7-7c17-4e12-a91f-52f20e7f0772');\n",
       "var x = new MutationObserver(function (mutations, observer) {{\n",
       "        var display = window.getComputedStyle(gd).display;\n",
       "        if (!display || display === 'none') {{\n",
       "            console.log([gd, 'removed!']);\n",
       "            Plotly.purge(gd);\n",
       "            observer.disconnect();\n",
       "        }}\n",
       "}});\n",
       "\n",
       "// Listen for the removal of the full notebook cells\n",
       "var notebookContainer = gd.closest('#notebook-container');\n",
       "if (notebookContainer) {{\n",
       "    x.observe(notebookContainer, {childList: true});\n",
       "}}\n",
       "\n",
       "// Listen for the clearing of the current output cell\n",
       "var outputEl = gd.closest('.output');\n",
       "if (outputEl) {{\n",
       "    x.observe(outputEl, {childList: true});\n",
       "}}\n",
       "\n",
       "                        })                };                });            </script>        </div>"
      ]
     },
     "metadata": {},
     "output_type": "display_data"
    }
   ],
   "source": [
    "fig = px.scatter(df, y=\"back_camera_processed\", x=\"price_processed\",color='back_camera_processed')\n",
    "fig.show()"
   ]
  },
  {
   "cell_type": "code",
   "execution_count": 75,
   "id": "7039fff9",
   "metadata": {},
   "outputs": [
    {
     "data": {
      "application/vnd.plotly.v1+json": {
       "config": {
        "plotlyServerURL": "https://plot.ly"
       },
       "data": [
        {
         "hovertemplate": "price_processed=%{x}<br>processed_battery=%{marker.color}<extra></extra>",
         "legendgroup": "",
         "marker": {
          "color": [
           5000,
           5000,
           5000,
           5000,
           5000,
           5000,
           5000,
           5000,
           5000,
           5000,
           5000,
           5000,
           5000,
           5000,
           4500,
           4500,
           4500,
           4500,
           5000,
           5000,
           6000,
           5000,
           5000,
           5000,
           6000,
           5000,
           6000,
           5000,
           5000,
           5000,
           5000,
           6000,
           5000,
           6000,
           5000,
           6000,
           5000,
           5000,
           5000,
           5000,
           5000,
           5000,
           5000,
           5000,
           5000,
           5000,
           5000,
           5000,
           5000,
           5000,
           5000,
           5000,
           5000,
           4410,
           4410,
           5080,
           5000,
           4400,
           5080,
           5000,
           5000,
           5000,
           4500,
           5000,
           5000,
           5000,
           5000,
           4500,
           5000,
           5000,
           5000,
           5000,
           4500,
           5000,
           5000,
           5000,
           5000,
           5000,
           5000,
           5000,
           5000,
           5000,
           5000,
           5000,
           4400,
           6000,
           6000,
           5000,
           4500,
           6000,
           5000,
           4500,
           4980,
           5000,
           5000,
           5000,
           4600,
           5000,
           4500,
           5000,
           5000,
           4600,
           5000,
           5080,
           5000,
           5000,
           5000,
           5000,
           5000,
           5000,
           5000,
           5000,
           4500,
           5000,
           4500,
           4500,
           5000,
           5000,
           5000,
           5000,
           5000,
           5000,
           5000,
           5000,
           5000,
           5000,
           6000,
           5000,
           5000,
           5000,
           5000,
           5000,
           6000,
           4980,
           5080,
           4500,
           5000,
           4500,
           4980,
           5000,
           5000,
           4020,
           5000,
           5000,
           4020,
           4800,
           5000,
           5000,
           4400,
           5000,
           5000,
           4800,
           5000,
           4300,
           4300,
           6000,
           5000,
           5000,
           4980,
           5000,
           5000,
           5000,
           4400,
           5000,
           5000,
           4300,
           6000,
           5000,
           5000,
           5080,
           5000,
           5000,
           4500,
           4500,
           4500,
           5000,
           5080,
           5000,
           4500,
           5000,
           5000,
           5000,
           4200,
           5000,
           5000,
           5000,
           4600,
           5000,
           4500,
           5000,
           5000,
           5000,
           5000,
           5000,
           4500,
           5000,
           4400,
           5000,
           5000,
           4500,
           4830,
           5000,
           5000,
           5000,
           5000,
           5000,
           4270,
           5000,
           4610,
           5000,
           4270,
           4500,
           4500,
           4980,
           5000,
           5000,
           5000,
           4830,
           5000,
           5000,
           5000,
           4270,
           5000,
           5000,
           5000,
           5000,
           5000,
           5000,
           4115,
           5000,
           4115,
           5000,
           4830,
           4700,
           4500,
           4200,
           5000,
           4810,
           5000,
           5000,
           5000,
           5000,
           5000,
           4115,
           5000,
           4500,
           5000,
           5000,
           5000,
           4500,
           5000,
           5000,
           5000,
           6000,
           4500,
           4500,
           5000,
           5000,
           5000,
           5000,
           4810,
           5000,
           4300,
           5000,
           5000,
           4700,
           4926,
           4810,
           4250,
           4300,
           4500,
           4500,
           4500,
           4700,
           4700,
           4300,
           4250,
           4500,
           4500,
           4500,
           4810,
           4926,
           4926,
           4250,
           5000,
           4500,
           4050,
           5000,
           4300,
           5000,
           5000,
           4500,
           5000,
           4500,
           4115,
           5000,
           5000,
           5000,
           4400,
           6000,
           5000,
           5000,
           4500,
           6000,
           5000,
           4400,
           5000,
           4870,
           4830,
           5000,
           4500,
           4500,
           4500,
           4500,
           5000,
           5000,
           5000,
           5000,
           5000,
           5000,
           4500,
           5000,
           4500,
           5000,
           4000,
           5000,
           5000,
           5160,
           5000,
           4500,
           5000,
           4020,
           5000,
           4700,
           5065,
           4500,
           5000,
           4600,
           5160,
           5000,
           4500,
           5000,
           5000,
           4830,
           4000,
           4500,
           4600,
           4520,
           5000,
           4020,
           5000,
           4500,
           4500,
           5000,
           4800,
           5000,
           4600,
           4520,
           5000,
           5000,
           5000,
           5000,
           4500,
           4800,
           4700,
           5000,
           5000,
           5000,
           5000,
           5000,
           5160,
           5000,
           6000,
           4600,
           5000,
           5000,
           5000,
           4700,
           6000,
           5000,
           5000,
           5000,
           5000,
           4500,
           5000,
           6000,
           5160,
           5000,
           4600,
           4600,
           4600,
           5000,
           4500,
           4250,
           5000,
           4250,
           4700,
           5000,
           4020,
           5000,
           4600,
           4600,
           5000,
           4500,
           5000,
           5000,
           5000,
           5000,
           4450,
           4450,
           5000,
           5000,
           4500,
           5000,
           4000,
           5000,
           4520,
           4500,
           5000,
           4115,
           4500,
           4300,
           5000,
           5000,
           5000,
           4610,
           4520,
           5000,
           4500,
           5000,
           4300,
           4300,
           5000,
           4500,
           4300,
           4300,
           5000,
           4500,
           5000,
           5000,
           4350,
           4500,
           4500,
           4500,
           5000,
           4300,
           6000,
           4500,
           5000,
           5000,
           5000,
           4350,
           4500,
           4500,
           4500,
           5000,
           4300,
           4500,
           6000,
           5000,
           5000,
           5000,
           4500,
           5000,
           5000,
           4500,
           5000,
           4800,
           4500,
           5000,
           5000,
           4250,
           5000,
           4500,
           4700,
           4500,
           4400,
           4500,
           4300,
           4300,
           4300,
           5000,
           5000,
           5000,
           5000,
           5000,
           5000,
           4500,
           4500,
           5000,
           4500,
           5000,
           5000,
           4500,
           5000,
           5000,
           4500,
           4500,
           5000,
           5000,
           5000,
           5000,
           5000,
           5000,
           5000,
           5000,
           5000,
           5000,
           5000,
           4500,
           4500,
           5000,
           5000,
           4500,
           5000,
           5000,
           4500,
           4500,
           4000,
           5000,
           5000,
           5000,
           4830,
           4700,
           4500,
           5000,
           5000,
           4250,
           5000,
           5000,
           5000,
           4500,
           4500,
           4800,
           5160,
           4500,
           4500,
           5000,
           4830,
           5000,
           6000,
           5000,
           4500,
           5000,
           4250,
           4250,
           5000,
           4700,
           5000,
           5000,
           4500,
           4500,
           4800,
           5160,
           4500,
           4500,
           4830,
           5000,
           5000,
           6000,
           5000,
           5000,
           4510,
           4250,
           5000,
           4500,
           5000,
           4450,
           5000,
           4500,
           4600,
           4520,
           6000,
           5000,
           6000,
           5000,
           5000,
           4500,
           4600,
           5000,
           5000,
           5000,
           4500,
           5000,
           5000,
           5000,
           4500,
           4600,
           5000,
           5000,
           4520,
           6000,
           6000,
           5000,
           5000,
           5000,
           5000,
           4500,
           5000,
           5000,
           5000,
           4800,
           6000,
           4500,
           5000,
           5000,
           4520,
           4500,
           6000,
           5000,
           5000,
           5000,
           4500,
           4500,
           5000
          ],
          "coloraxis": "coloraxis",
          "symbol": "circle"
         },
         "mode": "markers",
         "name": "",
         "orientation": "v",
         "showlegend": false,
         "type": "scatter",
         "x": [
          15999,
          15999,
          13999,
          12999,
          12999,
          12999,
          15999,
          13999,
          13999,
          11999,
          17967,
          15499,
          15499,
          17889,
          20999,
          20999,
          18999,
          18999,
          16999,
          11999,
          14490,
          15999,
          15999,
          16499,
          14490,
          16499,
          14490,
          16999,
          15999,
          15999,
          16999,
          13490,
          15999,
          13490,
          17999,
          13490,
          18999,
          19999,
          11999,
          18999,
          19999,
          19999,
          18999,
          13999,
          17999,
          18999,
          23999,
          23999,
          18999,
          18999,
          16999,
          16999,
          23999,
          28999,
          28999,
          27990,
          11499,
          29999,
          23999,
          11499,
          15999,
          11499,
          28448,
          16999,
          16999,
          39788,
          13499,
          32999,
          21499,
          16999,
          16999,
          14999,
          32999,
          13499,
          16999,
          16999,
          44875,
          44237,
          14999,
          13999,
          14499,
          15999,
          23999,
          17499,
          29999,
          16899,
          17217,
          23999,
          32999,
          17217,
          23999,
          32999,
          29999,
          26999,
          13499,
          23999,
          32999,
          21499,
          49999,
          15999,
          17999,
          32999,
          23999,
          25999,
          26999,
          15999,
          13896,
          21999,
          25999,
          29999,
          14905,
          21974,
          27974,
          15995,
          21999,
          21999,
          32299,
          15217,
          17999,
          17999,
          15193,
          23999,
          13896,
          13480,
          23999,
          16499,
          15810,
          22999,
          22999,
          23999,
          22999,
          23999,
          17462,
          32999,
          25999,
          27700,
          21999,
          21999,
          32999,
          15307,
          27999,
          24999,
          30990,
          30979,
          24999,
          29999,
          25999,
          29999,
          34999,
          29999,
          15193,
          29999,
          14295,
          43999,
          43999,
          16182,
          18999,
          13999,
          32999,
          18999,
          18999,
          25999,
          34999,
          18680,
          18570,
          43999,
          17462,
          32999,
          34999,
          23999,
          21999,
          16499,
          30999,
          30499,
          32999,
          16999,
          29990,
          21999,
          29499,
          16495,
          17999,
          17999,
          28397,
          17999,
          14899,
          19999,
          36999,
          19499,
          28929,
          14999,
          32999,
          19999,
          15999,
          15999,
          28749,
          17999,
          29999,
          32999,
          15322,
          28388,
          35999,
          15749,
          19499,
          35480,
          20999,
          35480,
          53999,
          21999,
          49999,
          14999,
          53999,
          23999,
          23999,
          32999,
          32999,
          30999,
          17999,
          35999,
          26999,
          30999,
          32999,
          53999,
          20999,
          16499,
          19499,
          20999,
          12935,
          12935,
          25990,
          15999,
          25990,
          40999,
          29778,
          23999,
          35490,
          31989,
          20999,
          63999,
          15990,
          24385,
          18499,
          14999,
          32999,
          26990,
          35489,
          24985,
          34592,
          29990,
          30999,
          31999,
          15999,
          27999,
          18500,
          17599,
          25999,
          25999,
          19979,
          35999,
          13499,
          15995,
          59999,
          21990,
          24999,
          34657,
          54999,
          23999,
          75999,
          63999,
          21990,
          24999,
          23999,
          25499,
          23799,
          24999,
          23999,
          24999,
          21990,
          23999,
          23799,
          29999,
          59999,
          75999,
          75999,
          25990,
          15699,
          29999,
          24990,
          18999,
          22999,
          33999,
          12838,
          26495,
          18999,
          24999,
          22690,
          54830,
          16999,
          18989,
          37999,
          16999,
          22999,
          20996,
          22979,
          17390,
          124999,
          164989,
          15480,
          84999,
          28950,
          33990,
          49999,
          49999,
          29999,
          29999,
          61899,
          30999,
          29999,
          16999,
          19988,
          22990,
          34499,
          19990,
          26499,
          14990,
          27999,
          16999,
          35480,
          36999,
          18890,
          30990,
          14999,
          24999,
          17499,
          94999,
          34999,
          23999,
          16499,
          47499,
          26999,
          38999,
          27880,
          12938,
          13999,
          33469,
          27990,
          44990,
          42999,
          23999,
          17499,
          24999,
          41999,
          27999,
          23999,
          27990,
          54999,
          19999,
          42999,
          23999,
          41999,
          17499,
          27990,
          41999,
          27999,
          54999,
          49499,
          50999,
          17499,
          19999,
          17490,
          24999,
          44997,
          15799,
          15499,
          39999,
          35990,
          19449,
          20000,
          104999,
          15499,
          15999,
          15999,
          20999,
          23999,
          23999,
          35990,
          57999,
          44999,
          18890,
          39999,
          37999,
          37999,
          19899,
          27999,
          24990,
          16999,
          24450,
          94999,
          18999,
          24999,
          13799,
          47999,
          46990,
          16499,
          25487,
          24996,
          40999,
          31500,
          33499,
          41990,
          45999,
          35999,
          31999,
          24999,
          31990,
          27990,
          18499,
          34499,
          24999,
          17990,
          26990,
          26990,
          36990,
          35999,
          27990,
          15999,
          44999,
          28190,
          27999,
          33999,
          34999,
          38990,
          43990,
          31990,
          39999,
          43990,
          38990,
          31990,
          39999,
          14999,
          30999,
          35990,
          26499,
          42999,
          35999,
          87990,
          89999,
          16999,
          29999,
          19999,
          14999,
          30999,
          35990,
          26499,
          42999,
          35999,
          87990,
          89999,
          29999,
          16999,
          19999,
          18999,
          27999,
          25999,
          29999,
          29999,
          42999,
          61899,
          34999,
          47999,
          17990,
          39099,
          22200,
          124999,
          34990,
          104999,
          48999,
          154989,
          42999,
          32990,
          32990,
          35990,
          32999,
          20999,
          16990,
          39800,
          29999,
          27999,
          27999,
          24490,
          84999,
          19290,
          30999,
          30999,
          64999,
          54999,
          17999,
          25290,
          42999,
          31990,
          34999,
          36999,
          38999,
          20890,
          34999,
          36999,
          31999,
          84999,
          16990,
          39800,
          24490,
          27999,
          30999,
          54999,
          64999,
          30999,
          17999,
          25290,
          42999,
          34999,
          34999,
          36999,
          38999,
          28880,
          23790,
          34990,
          38999,
          57999,
          24499,
          49989,
          49999,
          35890,
          39890,
          39999,
          48990,
          26999,
          27999,
          27999,
          20999,
          28880,
          20999,
          18900,
          20999,
          39998,
          39899,
          24990,
          24499,
          49999,
          28390,
          49989,
          35890,
          39999,
          39890,
          48990,
          26999,
          27999,
          27999,
          28880,
          20999,
          20999,
          14670,
          20999,
          24999,
          43990,
          24990,
          31800,
          30990,
          49999,
          42999,
          32999,
          54999,
          47499,
          23990,
          16489,
          13999,
          15149,
          16299,
          19999,
          38999,
          42990,
          49999,
          49999,
          32999,
          54999,
          13999,
          16299,
          19999,
          38999,
          42990,
          49999,
          115999,
          23890,
          31999,
          31999,
          53400,
          39990,
          19999,
          54900,
          35499,
          23900,
          23300,
          35499,
          49800,
          15812,
          40999,
          11999,
          27990,
          24490,
          47999,
          17660,
          59798,
          88888,
          59890,
          28047,
          27822,
          49999
         ],
         "xaxis": "x",
         "y": [
          5000,
          5000,
          5000,
          5000,
          5000,
          5000,
          5000,
          5000,
          5000,
          5000,
          5000,
          5000,
          5000,
          5000,
          4500,
          4500,
          4500,
          4500,
          5000,
          5000,
          6000,
          5000,
          5000,
          5000,
          6000,
          5000,
          6000,
          5000,
          5000,
          5000,
          5000,
          6000,
          5000,
          6000,
          5000,
          6000,
          5000,
          5000,
          5000,
          5000,
          5000,
          5000,
          5000,
          5000,
          5000,
          5000,
          5000,
          5000,
          5000,
          5000,
          5000,
          5000,
          5000,
          4410,
          4410,
          5080,
          5000,
          4400,
          5080,
          5000,
          5000,
          5000,
          4500,
          5000,
          5000,
          5000,
          5000,
          4500,
          5000,
          5000,
          5000,
          5000,
          4500,
          5000,
          5000,
          5000,
          5000,
          5000,
          5000,
          5000,
          5000,
          5000,
          5000,
          5000,
          4400,
          6000,
          6000,
          5000,
          4500,
          6000,
          5000,
          4500,
          4980,
          5000,
          5000,
          5000,
          4600,
          5000,
          4500,
          5000,
          5000,
          4600,
          5000,
          5080,
          5000,
          5000,
          5000,
          5000,
          5000,
          5000,
          5000,
          5000,
          4500,
          5000,
          4500,
          4500,
          5000,
          5000,
          5000,
          5000,
          5000,
          5000,
          5000,
          5000,
          5000,
          5000,
          6000,
          5000,
          5000,
          5000,
          5000,
          5000,
          6000,
          4980,
          5080,
          4500,
          5000,
          4500,
          4980,
          5000,
          5000,
          4020,
          5000,
          5000,
          4020,
          4800,
          5000,
          5000,
          4400,
          5000,
          5000,
          4800,
          5000,
          4300,
          4300,
          6000,
          5000,
          5000,
          4980,
          5000,
          5000,
          5000,
          4400,
          5000,
          5000,
          4300,
          6000,
          5000,
          5000,
          5080,
          5000,
          5000,
          4500,
          4500,
          4500,
          5000,
          5080,
          5000,
          4500,
          5000,
          5000,
          5000,
          4200,
          5000,
          5000,
          5000,
          4600,
          5000,
          4500,
          5000,
          5000,
          5000,
          5000,
          5000,
          4500,
          5000,
          4400,
          5000,
          5000,
          4500,
          4830,
          5000,
          5000,
          5000,
          5000,
          5000,
          4270,
          5000,
          4610,
          5000,
          4270,
          4500,
          4500,
          4980,
          5000,
          5000,
          5000,
          4830,
          5000,
          5000,
          5000,
          4270,
          5000,
          5000,
          5000,
          5000,
          5000,
          5000,
          4115,
          5000,
          4115,
          5000,
          4830,
          4700,
          4500,
          4200,
          5000,
          4810,
          5000,
          5000,
          5000,
          5000,
          5000,
          4115,
          5000,
          4500,
          5000,
          5000,
          5000,
          4500,
          5000,
          5000,
          5000,
          6000,
          4500,
          4500,
          5000,
          5000,
          5000,
          5000,
          4810,
          5000,
          4300,
          5000,
          5000,
          4700,
          4926,
          4810,
          4250,
          4300,
          4500,
          4500,
          4500,
          4700,
          4700,
          4300,
          4250,
          4500,
          4500,
          4500,
          4810,
          4926,
          4926,
          4250,
          5000,
          4500,
          4050,
          5000,
          4300,
          5000,
          5000,
          4500,
          5000,
          4500,
          4115,
          5000,
          5000,
          5000,
          4400,
          6000,
          5000,
          5000,
          4500,
          6000,
          5000,
          4400,
          5000,
          4870,
          4830,
          5000,
          4500,
          4500,
          4500,
          4500,
          5000,
          5000,
          5000,
          5000,
          5000,
          5000,
          4500,
          5000,
          4500,
          5000,
          4000,
          5000,
          5000,
          5160,
          5000,
          4500,
          5000,
          4020,
          5000,
          4700,
          5065,
          4500,
          5000,
          4600,
          5160,
          5000,
          4500,
          5000,
          5000,
          4830,
          4000,
          4500,
          4600,
          4520,
          5000,
          4020,
          5000,
          4500,
          4500,
          5000,
          4800,
          5000,
          4600,
          4520,
          5000,
          5000,
          5000,
          5000,
          4500,
          4800,
          4700,
          5000,
          5000,
          5000,
          5000,
          5000,
          5160,
          5000,
          6000,
          4600,
          5000,
          5000,
          5000,
          4700,
          6000,
          5000,
          5000,
          5000,
          5000,
          4500,
          5000,
          6000,
          5160,
          5000,
          4600,
          4600,
          4600,
          5000,
          4500,
          4250,
          5000,
          4250,
          4700,
          5000,
          4020,
          5000,
          4600,
          4600,
          5000,
          4500,
          5000,
          5000,
          5000,
          5000,
          4450,
          4450,
          5000,
          5000,
          4500,
          5000,
          4000,
          5000,
          4520,
          4500,
          5000,
          4115,
          4500,
          4300,
          5000,
          5000,
          5000,
          4610,
          4520,
          5000,
          4500,
          5000,
          4300,
          4300,
          5000,
          4500,
          4300,
          4300,
          5000,
          4500,
          5000,
          5000,
          4350,
          4500,
          4500,
          4500,
          5000,
          4300,
          6000,
          4500,
          5000,
          5000,
          5000,
          4350,
          4500,
          4500,
          4500,
          5000,
          4300,
          4500,
          6000,
          5000,
          5000,
          5000,
          4500,
          5000,
          5000,
          4500,
          5000,
          4800,
          4500,
          5000,
          5000,
          4250,
          5000,
          4500,
          4700,
          4500,
          4400,
          4500,
          4300,
          4300,
          4300,
          5000,
          5000,
          5000,
          5000,
          5000,
          5000,
          4500,
          4500,
          5000,
          4500,
          5000,
          5000,
          4500,
          5000,
          5000,
          4500,
          4500,
          5000,
          5000,
          5000,
          5000,
          5000,
          5000,
          5000,
          5000,
          5000,
          5000,
          5000,
          4500,
          4500,
          5000,
          5000,
          4500,
          5000,
          5000,
          4500,
          4500,
          4000,
          5000,
          5000,
          5000,
          4830,
          4700,
          4500,
          5000,
          5000,
          4250,
          5000,
          5000,
          5000,
          4500,
          4500,
          4800,
          5160,
          4500,
          4500,
          5000,
          4830,
          5000,
          6000,
          5000,
          4500,
          5000,
          4250,
          4250,
          5000,
          4700,
          5000,
          5000,
          4500,
          4500,
          4800,
          5160,
          4500,
          4500,
          4830,
          5000,
          5000,
          6000,
          5000,
          5000,
          4510,
          4250,
          5000,
          4500,
          5000,
          4450,
          5000,
          4500,
          4600,
          4520,
          6000,
          5000,
          6000,
          5000,
          5000,
          4500,
          4600,
          5000,
          5000,
          5000,
          4500,
          5000,
          5000,
          5000,
          4500,
          4600,
          5000,
          5000,
          4520,
          6000,
          6000,
          5000,
          5000,
          5000,
          5000,
          4500,
          5000,
          5000,
          5000,
          4800,
          6000,
          4500,
          5000,
          5000,
          4520,
          4500,
          6000,
          5000,
          5000,
          5000,
          4500,
          4500,
          5000
         ],
         "yaxis": "y"
        }
       ],
       "layout": {
        "coloraxis": {
         "colorbar": {
          "title": {
           "text": "processed_battery"
          }
         },
         "colorscale": [
          [
           0,
           "#0d0887"
          ],
          [
           0.1111111111111111,
           "#46039f"
          ],
          [
           0.2222222222222222,
           "#7201a8"
          ],
          [
           0.3333333333333333,
           "#9c179e"
          ],
          [
           0.4444444444444444,
           "#bd3786"
          ],
          [
           0.5555555555555556,
           "#d8576b"
          ],
          [
           0.6666666666666666,
           "#ed7953"
          ],
          [
           0.7777777777777778,
           "#fb9f3a"
          ],
          [
           0.8888888888888888,
           "#fdca26"
          ],
          [
           1,
           "#f0f921"
          ]
         ]
        },
        "legend": {
         "tracegroupgap": 0
        },
        "margin": {
         "t": 60
        },
        "template": {
         "data": {
          "bar": [
           {
            "error_x": {
             "color": "#2a3f5f"
            },
            "error_y": {
             "color": "#2a3f5f"
            },
            "marker": {
             "line": {
              "color": "#E5ECF6",
              "width": 0.5
             },
             "pattern": {
              "fillmode": "overlay",
              "size": 10,
              "solidity": 0.2
             }
            },
            "type": "bar"
           }
          ],
          "barpolar": [
           {
            "marker": {
             "line": {
              "color": "#E5ECF6",
              "width": 0.5
             },
             "pattern": {
              "fillmode": "overlay",
              "size": 10,
              "solidity": 0.2
             }
            },
            "type": "barpolar"
           }
          ],
          "carpet": [
           {
            "aaxis": {
             "endlinecolor": "#2a3f5f",
             "gridcolor": "white",
             "linecolor": "white",
             "minorgridcolor": "white",
             "startlinecolor": "#2a3f5f"
            },
            "baxis": {
             "endlinecolor": "#2a3f5f",
             "gridcolor": "white",
             "linecolor": "white",
             "minorgridcolor": "white",
             "startlinecolor": "#2a3f5f"
            },
            "type": "carpet"
           }
          ],
          "choropleth": [
           {
            "colorbar": {
             "outlinewidth": 0,
             "ticks": ""
            },
            "type": "choropleth"
           }
          ],
          "contour": [
           {
            "colorbar": {
             "outlinewidth": 0,
             "ticks": ""
            },
            "colorscale": [
             [
              0,
              "#0d0887"
             ],
             [
              0.1111111111111111,
              "#46039f"
             ],
             [
              0.2222222222222222,
              "#7201a8"
             ],
             [
              0.3333333333333333,
              "#9c179e"
             ],
             [
              0.4444444444444444,
              "#bd3786"
             ],
             [
              0.5555555555555556,
              "#d8576b"
             ],
             [
              0.6666666666666666,
              "#ed7953"
             ],
             [
              0.7777777777777778,
              "#fb9f3a"
             ],
             [
              0.8888888888888888,
              "#fdca26"
             ],
             [
              1,
              "#f0f921"
             ]
            ],
            "type": "contour"
           }
          ],
          "contourcarpet": [
           {
            "colorbar": {
             "outlinewidth": 0,
             "ticks": ""
            },
            "type": "contourcarpet"
           }
          ],
          "heatmap": [
           {
            "colorbar": {
             "outlinewidth": 0,
             "ticks": ""
            },
            "colorscale": [
             [
              0,
              "#0d0887"
             ],
             [
              0.1111111111111111,
              "#46039f"
             ],
             [
              0.2222222222222222,
              "#7201a8"
             ],
             [
              0.3333333333333333,
              "#9c179e"
             ],
             [
              0.4444444444444444,
              "#bd3786"
             ],
             [
              0.5555555555555556,
              "#d8576b"
             ],
             [
              0.6666666666666666,
              "#ed7953"
             ],
             [
              0.7777777777777778,
              "#fb9f3a"
             ],
             [
              0.8888888888888888,
              "#fdca26"
             ],
             [
              1,
              "#f0f921"
             ]
            ],
            "type": "heatmap"
           }
          ],
          "heatmapgl": [
           {
            "colorbar": {
             "outlinewidth": 0,
             "ticks": ""
            },
            "colorscale": [
             [
              0,
              "#0d0887"
             ],
             [
              0.1111111111111111,
              "#46039f"
             ],
             [
              0.2222222222222222,
              "#7201a8"
             ],
             [
              0.3333333333333333,
              "#9c179e"
             ],
             [
              0.4444444444444444,
              "#bd3786"
             ],
             [
              0.5555555555555556,
              "#d8576b"
             ],
             [
              0.6666666666666666,
              "#ed7953"
             ],
             [
              0.7777777777777778,
              "#fb9f3a"
             ],
             [
              0.8888888888888888,
              "#fdca26"
             ],
             [
              1,
              "#f0f921"
             ]
            ],
            "type": "heatmapgl"
           }
          ],
          "histogram": [
           {
            "marker": {
             "pattern": {
              "fillmode": "overlay",
              "size": 10,
              "solidity": 0.2
             }
            },
            "type": "histogram"
           }
          ],
          "histogram2d": [
           {
            "colorbar": {
             "outlinewidth": 0,
             "ticks": ""
            },
            "colorscale": [
             [
              0,
              "#0d0887"
             ],
             [
              0.1111111111111111,
              "#46039f"
             ],
             [
              0.2222222222222222,
              "#7201a8"
             ],
             [
              0.3333333333333333,
              "#9c179e"
             ],
             [
              0.4444444444444444,
              "#bd3786"
             ],
             [
              0.5555555555555556,
              "#d8576b"
             ],
             [
              0.6666666666666666,
              "#ed7953"
             ],
             [
              0.7777777777777778,
              "#fb9f3a"
             ],
             [
              0.8888888888888888,
              "#fdca26"
             ],
             [
              1,
              "#f0f921"
             ]
            ],
            "type": "histogram2d"
           }
          ],
          "histogram2dcontour": [
           {
            "colorbar": {
             "outlinewidth": 0,
             "ticks": ""
            },
            "colorscale": [
             [
              0,
              "#0d0887"
             ],
             [
              0.1111111111111111,
              "#46039f"
             ],
             [
              0.2222222222222222,
              "#7201a8"
             ],
             [
              0.3333333333333333,
              "#9c179e"
             ],
             [
              0.4444444444444444,
              "#bd3786"
             ],
             [
              0.5555555555555556,
              "#d8576b"
             ],
             [
              0.6666666666666666,
              "#ed7953"
             ],
             [
              0.7777777777777778,
              "#fb9f3a"
             ],
             [
              0.8888888888888888,
              "#fdca26"
             ],
             [
              1,
              "#f0f921"
             ]
            ],
            "type": "histogram2dcontour"
           }
          ],
          "mesh3d": [
           {
            "colorbar": {
             "outlinewidth": 0,
             "ticks": ""
            },
            "type": "mesh3d"
           }
          ],
          "parcoords": [
           {
            "line": {
             "colorbar": {
              "outlinewidth": 0,
              "ticks": ""
             }
            },
            "type": "parcoords"
           }
          ],
          "pie": [
           {
            "automargin": true,
            "type": "pie"
           }
          ],
          "scatter": [
           {
            "fillpattern": {
             "fillmode": "overlay",
             "size": 10,
             "solidity": 0.2
            },
            "type": "scatter"
           }
          ],
          "scatter3d": [
           {
            "line": {
             "colorbar": {
              "outlinewidth": 0,
              "ticks": ""
             }
            },
            "marker": {
             "colorbar": {
              "outlinewidth": 0,
              "ticks": ""
             }
            },
            "type": "scatter3d"
           }
          ],
          "scattercarpet": [
           {
            "marker": {
             "colorbar": {
              "outlinewidth": 0,
              "ticks": ""
             }
            },
            "type": "scattercarpet"
           }
          ],
          "scattergeo": [
           {
            "marker": {
             "colorbar": {
              "outlinewidth": 0,
              "ticks": ""
             }
            },
            "type": "scattergeo"
           }
          ],
          "scattergl": [
           {
            "marker": {
             "colorbar": {
              "outlinewidth": 0,
              "ticks": ""
             }
            },
            "type": "scattergl"
           }
          ],
          "scattermapbox": [
           {
            "marker": {
             "colorbar": {
              "outlinewidth": 0,
              "ticks": ""
             }
            },
            "type": "scattermapbox"
           }
          ],
          "scatterpolar": [
           {
            "marker": {
             "colorbar": {
              "outlinewidth": 0,
              "ticks": ""
             }
            },
            "type": "scatterpolar"
           }
          ],
          "scatterpolargl": [
           {
            "marker": {
             "colorbar": {
              "outlinewidth": 0,
              "ticks": ""
             }
            },
            "type": "scatterpolargl"
           }
          ],
          "scatterternary": [
           {
            "marker": {
             "colorbar": {
              "outlinewidth": 0,
              "ticks": ""
             }
            },
            "type": "scatterternary"
           }
          ],
          "surface": [
           {
            "colorbar": {
             "outlinewidth": 0,
             "ticks": ""
            },
            "colorscale": [
             [
              0,
              "#0d0887"
             ],
             [
              0.1111111111111111,
              "#46039f"
             ],
             [
              0.2222222222222222,
              "#7201a8"
             ],
             [
              0.3333333333333333,
              "#9c179e"
             ],
             [
              0.4444444444444444,
              "#bd3786"
             ],
             [
              0.5555555555555556,
              "#d8576b"
             ],
             [
              0.6666666666666666,
              "#ed7953"
             ],
             [
              0.7777777777777778,
              "#fb9f3a"
             ],
             [
              0.8888888888888888,
              "#fdca26"
             ],
             [
              1,
              "#f0f921"
             ]
            ],
            "type": "surface"
           }
          ],
          "table": [
           {
            "cells": {
             "fill": {
              "color": "#EBF0F8"
             },
             "line": {
              "color": "white"
             }
            },
            "header": {
             "fill": {
              "color": "#C8D4E3"
             },
             "line": {
              "color": "white"
             }
            },
            "type": "table"
           }
          ]
         },
         "layout": {
          "annotationdefaults": {
           "arrowcolor": "#2a3f5f",
           "arrowhead": 0,
           "arrowwidth": 1
          },
          "autotypenumbers": "strict",
          "coloraxis": {
           "colorbar": {
            "outlinewidth": 0,
            "ticks": ""
           }
          },
          "colorscale": {
           "diverging": [
            [
             0,
             "#8e0152"
            ],
            [
             0.1,
             "#c51b7d"
            ],
            [
             0.2,
             "#de77ae"
            ],
            [
             0.3,
             "#f1b6da"
            ],
            [
             0.4,
             "#fde0ef"
            ],
            [
             0.5,
             "#f7f7f7"
            ],
            [
             0.6,
             "#e6f5d0"
            ],
            [
             0.7,
             "#b8e186"
            ],
            [
             0.8,
             "#7fbc41"
            ],
            [
             0.9,
             "#4d9221"
            ],
            [
             1,
             "#276419"
            ]
           ],
           "sequential": [
            [
             0,
             "#0d0887"
            ],
            [
             0.1111111111111111,
             "#46039f"
            ],
            [
             0.2222222222222222,
             "#7201a8"
            ],
            [
             0.3333333333333333,
             "#9c179e"
            ],
            [
             0.4444444444444444,
             "#bd3786"
            ],
            [
             0.5555555555555556,
             "#d8576b"
            ],
            [
             0.6666666666666666,
             "#ed7953"
            ],
            [
             0.7777777777777778,
             "#fb9f3a"
            ],
            [
             0.8888888888888888,
             "#fdca26"
            ],
            [
             1,
             "#f0f921"
            ]
           ],
           "sequentialminus": [
            [
             0,
             "#0d0887"
            ],
            [
             0.1111111111111111,
             "#46039f"
            ],
            [
             0.2222222222222222,
             "#7201a8"
            ],
            [
             0.3333333333333333,
             "#9c179e"
            ],
            [
             0.4444444444444444,
             "#bd3786"
            ],
            [
             0.5555555555555556,
             "#d8576b"
            ],
            [
             0.6666666666666666,
             "#ed7953"
            ],
            [
             0.7777777777777778,
             "#fb9f3a"
            ],
            [
             0.8888888888888888,
             "#fdca26"
            ],
            [
             1,
             "#f0f921"
            ]
           ]
          },
          "colorway": [
           "#636efa",
           "#EF553B",
           "#00cc96",
           "#ab63fa",
           "#FFA15A",
           "#19d3f3",
           "#FF6692",
           "#B6E880",
           "#FF97FF",
           "#FECB52"
          ],
          "font": {
           "color": "#2a3f5f"
          },
          "geo": {
           "bgcolor": "white",
           "lakecolor": "white",
           "landcolor": "#E5ECF6",
           "showlakes": true,
           "showland": true,
           "subunitcolor": "white"
          },
          "hoverlabel": {
           "align": "left"
          },
          "hovermode": "closest",
          "mapbox": {
           "style": "light"
          },
          "paper_bgcolor": "white",
          "plot_bgcolor": "#E5ECF6",
          "polar": {
           "angularaxis": {
            "gridcolor": "white",
            "linecolor": "white",
            "ticks": ""
           },
           "bgcolor": "#E5ECF6",
           "radialaxis": {
            "gridcolor": "white",
            "linecolor": "white",
            "ticks": ""
           }
          },
          "scene": {
           "xaxis": {
            "backgroundcolor": "#E5ECF6",
            "gridcolor": "white",
            "gridwidth": 2,
            "linecolor": "white",
            "showbackground": true,
            "ticks": "",
            "zerolinecolor": "white"
           },
           "yaxis": {
            "backgroundcolor": "#E5ECF6",
            "gridcolor": "white",
            "gridwidth": 2,
            "linecolor": "white",
            "showbackground": true,
            "ticks": "",
            "zerolinecolor": "white"
           },
           "zaxis": {
            "backgroundcolor": "#E5ECF6",
            "gridcolor": "white",
            "gridwidth": 2,
            "linecolor": "white",
            "showbackground": true,
            "ticks": "",
            "zerolinecolor": "white"
           }
          },
          "shapedefaults": {
           "line": {
            "color": "#2a3f5f"
           }
          },
          "ternary": {
           "aaxis": {
            "gridcolor": "white",
            "linecolor": "white",
            "ticks": ""
           },
           "baxis": {
            "gridcolor": "white",
            "linecolor": "white",
            "ticks": ""
           },
           "bgcolor": "#E5ECF6",
           "caxis": {
            "gridcolor": "white",
            "linecolor": "white",
            "ticks": ""
           }
          },
          "title": {
           "x": 0.05
          },
          "xaxis": {
           "automargin": true,
           "gridcolor": "white",
           "linecolor": "white",
           "ticks": "",
           "title": {
            "standoff": 15
           },
           "zerolinecolor": "white",
           "zerolinewidth": 2
          },
          "yaxis": {
           "automargin": true,
           "gridcolor": "white",
           "linecolor": "white",
           "ticks": "",
           "title": {
            "standoff": 15
           },
           "zerolinecolor": "white",
           "zerolinewidth": 2
          }
         }
        },
        "xaxis": {
         "anchor": "y",
         "domain": [
          0,
          1
         ],
         "title": {
          "text": "price_processed"
         }
        },
        "yaxis": {
         "anchor": "x",
         "domain": [
          0,
          1
         ],
         "title": {
          "text": "processed_battery"
         }
        }
       }
      },
      "text/html": [
       "<div>                            <div id=\"f4a91263-e2ca-4c70-8a2e-016e875401d5\" class=\"plotly-graph-div\" style=\"height:525px; width:100%;\"></div>            <script type=\"text/javascript\">                require([\"plotly\"], function(Plotly) {                    window.PLOTLYENV=window.PLOTLYENV || {};                                    if (document.getElementById(\"f4a91263-e2ca-4c70-8a2e-016e875401d5\")) {                    Plotly.newPlot(                        \"f4a91263-e2ca-4c70-8a2e-016e875401d5\",                        [{\"hovertemplate\":\"price_processed=%{x}\\u003cbr\\u003eprocessed_battery=%{marker.color}\\u003cextra\\u003e\\u003c\\u002fextra\\u003e\",\"legendgroup\":\"\",\"marker\":{\"color\":[5000,5000,5000,5000,5000,5000,5000,5000,5000,5000,5000,5000,5000,5000,4500,4500,4500,4500,5000,5000,6000,5000,5000,5000,6000,5000,6000,5000,5000,5000,5000,6000,5000,6000,5000,6000,5000,5000,5000,5000,5000,5000,5000,5000,5000,5000,5000,5000,5000,5000,5000,5000,5000,4410,4410,5080,5000,4400,5080,5000,5000,5000,4500,5000,5000,5000,5000,4500,5000,5000,5000,5000,4500,5000,5000,5000,5000,5000,5000,5000,5000,5000,5000,5000,4400,6000,6000,5000,4500,6000,5000,4500,4980,5000,5000,5000,4600,5000,4500,5000,5000,4600,5000,5080,5000,5000,5000,5000,5000,5000,5000,5000,4500,5000,4500,4500,5000,5000,5000,5000,5000,5000,5000,5000,5000,5000,6000,5000,5000,5000,5000,5000,6000,4980,5080,4500,5000,4500,4980,5000,5000,4020,5000,5000,4020,4800,5000,5000,4400,5000,5000,4800,5000,4300,4300,6000,5000,5000,4980,5000,5000,5000,4400,5000,5000,4300,6000,5000,5000,5080,5000,5000,4500,4500,4500,5000,5080,5000,4500,5000,5000,5000,4200,5000,5000,5000,4600,5000,4500,5000,5000,5000,5000,5000,4500,5000,4400,5000,5000,4500,4830,5000,5000,5000,5000,5000,4270,5000,4610,5000,4270,4500,4500,4980,5000,5000,5000,4830,5000,5000,5000,4270,5000,5000,5000,5000,5000,5000,4115,5000,4115,5000,4830,4700,4500,4200,5000,4810,5000,5000,5000,5000,5000,4115,5000,4500,5000,5000,5000,4500,5000,5000,5000,6000,4500,4500,5000,5000,5000,5000,4810,5000,4300,5000,5000,4700,4926,4810,4250,4300,4500,4500,4500,4700,4700,4300,4250,4500,4500,4500,4810,4926,4926,4250,5000,4500,4050,5000,4300,5000,5000,4500,5000,4500,4115,5000,5000,5000,4400,6000,5000,5000,4500,6000,5000,4400,5000,4870,4830,5000,4500,4500,4500,4500,5000,5000,5000,5000,5000,5000,4500,5000,4500,5000,4000,5000,5000,5160,5000,4500,5000,4020,5000,4700,5065,4500,5000,4600,5160,5000,4500,5000,5000,4830,4000,4500,4600,4520,5000,4020,5000,4500,4500,5000,4800,5000,4600,4520,5000,5000,5000,5000,4500,4800,4700,5000,5000,5000,5000,5000,5160,5000,6000,4600,5000,5000,5000,4700,6000,5000,5000,5000,5000,4500,5000,6000,5160,5000,4600,4600,4600,5000,4500,4250,5000,4250,4700,5000,4020,5000,4600,4600,5000,4500,5000,5000,5000,5000,4450,4450,5000,5000,4500,5000,4000,5000,4520,4500,5000,4115,4500,4300,5000,5000,5000,4610,4520,5000,4500,5000,4300,4300,5000,4500,4300,4300,5000,4500,5000,5000,4350,4500,4500,4500,5000,4300,6000,4500,5000,5000,5000,4350,4500,4500,4500,5000,4300,4500,6000,5000,5000,5000,4500,5000,5000,4500,5000,4800,4500,5000,5000,4250,5000,4500,4700,4500,4400,4500,4300,4300,4300,5000,5000,5000,5000,5000,5000,4500,4500,5000,4500,5000,5000,4500,5000,5000,4500,4500,5000,5000,5000,5000,5000,5000,5000,5000,5000,5000,5000,4500,4500,5000,5000,4500,5000,5000,4500,4500,4000,5000,5000,5000,4830,4700,4500,5000,5000,4250,5000,5000,5000,4500,4500,4800,5160,4500,4500,5000,4830,5000,6000,5000,4500,5000,4250,4250,5000,4700,5000,5000,4500,4500,4800,5160,4500,4500,4830,5000,5000,6000,5000,5000,4510,4250,5000,4500,5000,4450,5000,4500,4600,4520,6000,5000,6000,5000,5000,4500,4600,5000,5000,5000,4500,5000,5000,5000,4500,4600,5000,5000,4520,6000,6000,5000,5000,5000,5000,4500,5000,5000,5000,4800,6000,4500,5000,5000,4520,4500,6000,5000,5000,5000,4500,4500,5000],\"coloraxis\":\"coloraxis\",\"symbol\":\"circle\"},\"mode\":\"markers\",\"name\":\"\",\"orientation\":\"v\",\"showlegend\":false,\"x\":[15999,15999,13999,12999,12999,12999,15999,13999,13999,11999,17967,15499,15499,17889,20999,20999,18999,18999,16999,11999,14490,15999,15999,16499,14490,16499,14490,16999,15999,15999,16999,13490,15999,13490,17999,13490,18999,19999,11999,18999,19999,19999,18999,13999,17999,18999,23999,23999,18999,18999,16999,16999,23999,28999,28999,27990,11499,29999,23999,11499,15999,11499,28448,16999,16999,39788,13499,32999,21499,16999,16999,14999,32999,13499,16999,16999,44875,44237,14999,13999,14499,15999,23999,17499,29999,16899,17217,23999,32999,17217,23999,32999,29999,26999,13499,23999,32999,21499,49999,15999,17999,32999,23999,25999,26999,15999,13896,21999,25999,29999,14905,21974,27974,15995,21999,21999,32299,15217,17999,17999,15193,23999,13896,13480,23999,16499,15810,22999,22999,23999,22999,23999,17462,32999,25999,27700,21999,21999,32999,15307,27999,24999,30990,30979,24999,29999,25999,29999,34999,29999,15193,29999,14295,43999,43999,16182,18999,13999,32999,18999,18999,25999,34999,18680,18570,43999,17462,32999,34999,23999,21999,16499,30999,30499,32999,16999,29990,21999,29499,16495,17999,17999,28397,17999,14899,19999,36999,19499,28929,14999,32999,19999,15999,15999,28749,17999,29999,32999,15322,28388,35999,15749,19499,35480,20999,35480,53999,21999,49999,14999,53999,23999,23999,32999,32999,30999,17999,35999,26999,30999,32999,53999,20999,16499,19499,20999,12935,12935,25990,15999,25990,40999,29778,23999,35490,31989,20999,63999,15990,24385,18499,14999,32999,26990,35489,24985,34592,29990,30999,31999,15999,27999,18500,17599,25999,25999,19979,35999,13499,15995,59999,21990,24999,34657,54999,23999,75999,63999,21990,24999,23999,25499,23799,24999,23999,24999,21990,23999,23799,29999,59999,75999,75999,25990,15699,29999,24990,18999,22999,33999,12838,26495,18999,24999,22690,54830,16999,18989,37999,16999,22999,20996,22979,17390,124999,164989,15480,84999,28950,33990,49999,49999,29999,29999,61899,30999,29999,16999,19988,22990,34499,19990,26499,14990,27999,16999,35480,36999,18890,30990,14999,24999,17499,94999,34999,23999,16499,47499,26999,38999,27880,12938,13999,33469,27990,44990,42999,23999,17499,24999,41999,27999,23999,27990,54999,19999,42999,23999,41999,17499,27990,41999,27999,54999,49499,50999,17499,19999,17490,24999,44997,15799,15499,39999,35990,19449,20000,104999,15499,15999,15999,20999,23999,23999,35990,57999,44999,18890,39999,37999,37999,19899,27999,24990,16999,24450,94999,18999,24999,13799,47999,46990,16499,25487,24996,40999,31500,33499,41990,45999,35999,31999,24999,31990,27990,18499,34499,24999,17990,26990,26990,36990,35999,27990,15999,44999,28190,27999,33999,34999,38990,43990,31990,39999,43990,38990,31990,39999,14999,30999,35990,26499,42999,35999,87990,89999,16999,29999,19999,14999,30999,35990,26499,42999,35999,87990,89999,29999,16999,19999,18999,27999,25999,29999,29999,42999,61899,34999,47999,17990,39099,22200,124999,34990,104999,48999,154989,42999,32990,32990,35990,32999,20999,16990,39800,29999,27999,27999,24490,84999,19290,30999,30999,64999,54999,17999,25290,42999,31990,34999,36999,38999,20890,34999,36999,31999,84999,16990,39800,24490,27999,30999,54999,64999,30999,17999,25290,42999,34999,34999,36999,38999,28880,23790,34990,38999,57999,24499,49989,49999,35890,39890,39999,48990,26999,27999,27999,20999,28880,20999,18900,20999,39998,39899,24990,24499,49999,28390,49989,35890,39999,39890,48990,26999,27999,27999,28880,20999,20999,14670,20999,24999,43990,24990,31800,30990,49999,42999,32999,54999,47499,23990,16489,13999,15149,16299,19999,38999,42990,49999,49999,32999,54999,13999,16299,19999,38999,42990,49999,115999,23890,31999,31999,53400,39990,19999,54900,35499,23900,23300,35499,49800,15812,40999,11999,27990,24490,47999,17660,59798,88888,59890,28047,27822,49999],\"xaxis\":\"x\",\"y\":[5000,5000,5000,5000,5000,5000,5000,5000,5000,5000,5000,5000,5000,5000,4500,4500,4500,4500,5000,5000,6000,5000,5000,5000,6000,5000,6000,5000,5000,5000,5000,6000,5000,6000,5000,6000,5000,5000,5000,5000,5000,5000,5000,5000,5000,5000,5000,5000,5000,5000,5000,5000,5000,4410,4410,5080,5000,4400,5080,5000,5000,5000,4500,5000,5000,5000,5000,4500,5000,5000,5000,5000,4500,5000,5000,5000,5000,5000,5000,5000,5000,5000,5000,5000,4400,6000,6000,5000,4500,6000,5000,4500,4980,5000,5000,5000,4600,5000,4500,5000,5000,4600,5000,5080,5000,5000,5000,5000,5000,5000,5000,5000,4500,5000,4500,4500,5000,5000,5000,5000,5000,5000,5000,5000,5000,5000,6000,5000,5000,5000,5000,5000,6000,4980,5080,4500,5000,4500,4980,5000,5000,4020,5000,5000,4020,4800,5000,5000,4400,5000,5000,4800,5000,4300,4300,6000,5000,5000,4980,5000,5000,5000,4400,5000,5000,4300,6000,5000,5000,5080,5000,5000,4500,4500,4500,5000,5080,5000,4500,5000,5000,5000,4200,5000,5000,5000,4600,5000,4500,5000,5000,5000,5000,5000,4500,5000,4400,5000,5000,4500,4830,5000,5000,5000,5000,5000,4270,5000,4610,5000,4270,4500,4500,4980,5000,5000,5000,4830,5000,5000,5000,4270,5000,5000,5000,5000,5000,5000,4115,5000,4115,5000,4830,4700,4500,4200,5000,4810,5000,5000,5000,5000,5000,4115,5000,4500,5000,5000,5000,4500,5000,5000,5000,6000,4500,4500,5000,5000,5000,5000,4810,5000,4300,5000,5000,4700,4926,4810,4250,4300,4500,4500,4500,4700,4700,4300,4250,4500,4500,4500,4810,4926,4926,4250,5000,4500,4050,5000,4300,5000,5000,4500,5000,4500,4115,5000,5000,5000,4400,6000,5000,5000,4500,6000,5000,4400,5000,4870,4830,5000,4500,4500,4500,4500,5000,5000,5000,5000,5000,5000,4500,5000,4500,5000,4000,5000,5000,5160,5000,4500,5000,4020,5000,4700,5065,4500,5000,4600,5160,5000,4500,5000,5000,4830,4000,4500,4600,4520,5000,4020,5000,4500,4500,5000,4800,5000,4600,4520,5000,5000,5000,5000,4500,4800,4700,5000,5000,5000,5000,5000,5160,5000,6000,4600,5000,5000,5000,4700,6000,5000,5000,5000,5000,4500,5000,6000,5160,5000,4600,4600,4600,5000,4500,4250,5000,4250,4700,5000,4020,5000,4600,4600,5000,4500,5000,5000,5000,5000,4450,4450,5000,5000,4500,5000,4000,5000,4520,4500,5000,4115,4500,4300,5000,5000,5000,4610,4520,5000,4500,5000,4300,4300,5000,4500,4300,4300,5000,4500,5000,5000,4350,4500,4500,4500,5000,4300,6000,4500,5000,5000,5000,4350,4500,4500,4500,5000,4300,4500,6000,5000,5000,5000,4500,5000,5000,4500,5000,4800,4500,5000,5000,4250,5000,4500,4700,4500,4400,4500,4300,4300,4300,5000,5000,5000,5000,5000,5000,4500,4500,5000,4500,5000,5000,4500,5000,5000,4500,4500,5000,5000,5000,5000,5000,5000,5000,5000,5000,5000,5000,4500,4500,5000,5000,4500,5000,5000,4500,4500,4000,5000,5000,5000,4830,4700,4500,5000,5000,4250,5000,5000,5000,4500,4500,4800,5160,4500,4500,5000,4830,5000,6000,5000,4500,5000,4250,4250,5000,4700,5000,5000,4500,4500,4800,5160,4500,4500,4830,5000,5000,6000,5000,5000,4510,4250,5000,4500,5000,4450,5000,4500,4600,4520,6000,5000,6000,5000,5000,4500,4600,5000,5000,5000,4500,5000,5000,5000,4500,4600,5000,5000,4520,6000,6000,5000,5000,5000,5000,4500,5000,5000,5000,4800,6000,4500,5000,5000,4520,4500,6000,5000,5000,5000,4500,4500,5000],\"yaxis\":\"y\",\"type\":\"scatter\"}],                        {\"template\":{\"data\":{\"histogram2dcontour\":[{\"type\":\"histogram2dcontour\",\"colorbar\":{\"outlinewidth\":0,\"ticks\":\"\"},\"colorscale\":[[0.0,\"#0d0887\"],[0.1111111111111111,\"#46039f\"],[0.2222222222222222,\"#7201a8\"],[0.3333333333333333,\"#9c179e\"],[0.4444444444444444,\"#bd3786\"],[0.5555555555555556,\"#d8576b\"],[0.6666666666666666,\"#ed7953\"],[0.7777777777777778,\"#fb9f3a\"],[0.8888888888888888,\"#fdca26\"],[1.0,\"#f0f921\"]]}],\"choropleth\":[{\"type\":\"choropleth\",\"colorbar\":{\"outlinewidth\":0,\"ticks\":\"\"}}],\"histogram2d\":[{\"type\":\"histogram2d\",\"colorbar\":{\"outlinewidth\":0,\"ticks\":\"\"},\"colorscale\":[[0.0,\"#0d0887\"],[0.1111111111111111,\"#46039f\"],[0.2222222222222222,\"#7201a8\"],[0.3333333333333333,\"#9c179e\"],[0.4444444444444444,\"#bd3786\"],[0.5555555555555556,\"#d8576b\"],[0.6666666666666666,\"#ed7953\"],[0.7777777777777778,\"#fb9f3a\"],[0.8888888888888888,\"#fdca26\"],[1.0,\"#f0f921\"]]}],\"heatmap\":[{\"type\":\"heatmap\",\"colorbar\":{\"outlinewidth\":0,\"ticks\":\"\"},\"colorscale\":[[0.0,\"#0d0887\"],[0.1111111111111111,\"#46039f\"],[0.2222222222222222,\"#7201a8\"],[0.3333333333333333,\"#9c179e\"],[0.4444444444444444,\"#bd3786\"],[0.5555555555555556,\"#d8576b\"],[0.6666666666666666,\"#ed7953\"],[0.7777777777777778,\"#fb9f3a\"],[0.8888888888888888,\"#fdca26\"],[1.0,\"#f0f921\"]]}],\"heatmapgl\":[{\"type\":\"heatmapgl\",\"colorbar\":{\"outlinewidth\":0,\"ticks\":\"\"},\"colorscale\":[[0.0,\"#0d0887\"],[0.1111111111111111,\"#46039f\"],[0.2222222222222222,\"#7201a8\"],[0.3333333333333333,\"#9c179e\"],[0.4444444444444444,\"#bd3786\"],[0.5555555555555556,\"#d8576b\"],[0.6666666666666666,\"#ed7953\"],[0.7777777777777778,\"#fb9f3a\"],[0.8888888888888888,\"#fdca26\"],[1.0,\"#f0f921\"]]}],\"contourcarpet\":[{\"type\":\"contourcarpet\",\"colorbar\":{\"outlinewidth\":0,\"ticks\":\"\"}}],\"contour\":[{\"type\":\"contour\",\"colorbar\":{\"outlinewidth\":0,\"ticks\":\"\"},\"colorscale\":[[0.0,\"#0d0887\"],[0.1111111111111111,\"#46039f\"],[0.2222222222222222,\"#7201a8\"],[0.3333333333333333,\"#9c179e\"],[0.4444444444444444,\"#bd3786\"],[0.5555555555555556,\"#d8576b\"],[0.6666666666666666,\"#ed7953\"],[0.7777777777777778,\"#fb9f3a\"],[0.8888888888888888,\"#fdca26\"],[1.0,\"#f0f921\"]]}],\"surface\":[{\"type\":\"surface\",\"colorbar\":{\"outlinewidth\":0,\"ticks\":\"\"},\"colorscale\":[[0.0,\"#0d0887\"],[0.1111111111111111,\"#46039f\"],[0.2222222222222222,\"#7201a8\"],[0.3333333333333333,\"#9c179e\"],[0.4444444444444444,\"#bd3786\"],[0.5555555555555556,\"#d8576b\"],[0.6666666666666666,\"#ed7953\"],[0.7777777777777778,\"#fb9f3a\"],[0.8888888888888888,\"#fdca26\"],[1.0,\"#f0f921\"]]}],\"mesh3d\":[{\"type\":\"mesh3d\",\"colorbar\":{\"outlinewidth\":0,\"ticks\":\"\"}}],\"scatter\":[{\"fillpattern\":{\"fillmode\":\"overlay\",\"size\":10,\"solidity\":0.2},\"type\":\"scatter\"}],\"parcoords\":[{\"type\":\"parcoords\",\"line\":{\"colorbar\":{\"outlinewidth\":0,\"ticks\":\"\"}}}],\"scatterpolargl\":[{\"type\":\"scatterpolargl\",\"marker\":{\"colorbar\":{\"outlinewidth\":0,\"ticks\":\"\"}}}],\"bar\":[{\"error_x\":{\"color\":\"#2a3f5f\"},\"error_y\":{\"color\":\"#2a3f5f\"},\"marker\":{\"line\":{\"color\":\"#E5ECF6\",\"width\":0.5},\"pattern\":{\"fillmode\":\"overlay\",\"size\":10,\"solidity\":0.2}},\"type\":\"bar\"}],\"scattergeo\":[{\"type\":\"scattergeo\",\"marker\":{\"colorbar\":{\"outlinewidth\":0,\"ticks\":\"\"}}}],\"scatterpolar\":[{\"type\":\"scatterpolar\",\"marker\":{\"colorbar\":{\"outlinewidth\":0,\"ticks\":\"\"}}}],\"histogram\":[{\"marker\":{\"pattern\":{\"fillmode\":\"overlay\",\"size\":10,\"solidity\":0.2}},\"type\":\"histogram\"}],\"scattergl\":[{\"type\":\"scattergl\",\"marker\":{\"colorbar\":{\"outlinewidth\":0,\"ticks\":\"\"}}}],\"scatter3d\":[{\"type\":\"scatter3d\",\"line\":{\"colorbar\":{\"outlinewidth\":0,\"ticks\":\"\"}},\"marker\":{\"colorbar\":{\"outlinewidth\":0,\"ticks\":\"\"}}}],\"scattermapbox\":[{\"type\":\"scattermapbox\",\"marker\":{\"colorbar\":{\"outlinewidth\":0,\"ticks\":\"\"}}}],\"scatterternary\":[{\"type\":\"scatterternary\",\"marker\":{\"colorbar\":{\"outlinewidth\":0,\"ticks\":\"\"}}}],\"scattercarpet\":[{\"type\":\"scattercarpet\",\"marker\":{\"colorbar\":{\"outlinewidth\":0,\"ticks\":\"\"}}}],\"carpet\":[{\"aaxis\":{\"endlinecolor\":\"#2a3f5f\",\"gridcolor\":\"white\",\"linecolor\":\"white\",\"minorgridcolor\":\"white\",\"startlinecolor\":\"#2a3f5f\"},\"baxis\":{\"endlinecolor\":\"#2a3f5f\",\"gridcolor\":\"white\",\"linecolor\":\"white\",\"minorgridcolor\":\"white\",\"startlinecolor\":\"#2a3f5f\"},\"type\":\"carpet\"}],\"table\":[{\"cells\":{\"fill\":{\"color\":\"#EBF0F8\"},\"line\":{\"color\":\"white\"}},\"header\":{\"fill\":{\"color\":\"#C8D4E3\"},\"line\":{\"color\":\"white\"}},\"type\":\"table\"}],\"barpolar\":[{\"marker\":{\"line\":{\"color\":\"#E5ECF6\",\"width\":0.5},\"pattern\":{\"fillmode\":\"overlay\",\"size\":10,\"solidity\":0.2}},\"type\":\"barpolar\"}],\"pie\":[{\"automargin\":true,\"type\":\"pie\"}]},\"layout\":{\"autotypenumbers\":\"strict\",\"colorway\":[\"#636efa\",\"#EF553B\",\"#00cc96\",\"#ab63fa\",\"#FFA15A\",\"#19d3f3\",\"#FF6692\",\"#B6E880\",\"#FF97FF\",\"#FECB52\"],\"font\":{\"color\":\"#2a3f5f\"},\"hovermode\":\"closest\",\"hoverlabel\":{\"align\":\"left\"},\"paper_bgcolor\":\"white\",\"plot_bgcolor\":\"#E5ECF6\",\"polar\":{\"bgcolor\":\"#E5ECF6\",\"angularaxis\":{\"gridcolor\":\"white\",\"linecolor\":\"white\",\"ticks\":\"\"},\"radialaxis\":{\"gridcolor\":\"white\",\"linecolor\":\"white\",\"ticks\":\"\"}},\"ternary\":{\"bgcolor\":\"#E5ECF6\",\"aaxis\":{\"gridcolor\":\"white\",\"linecolor\":\"white\",\"ticks\":\"\"},\"baxis\":{\"gridcolor\":\"white\",\"linecolor\":\"white\",\"ticks\":\"\"},\"caxis\":{\"gridcolor\":\"white\",\"linecolor\":\"white\",\"ticks\":\"\"}},\"coloraxis\":{\"colorbar\":{\"outlinewidth\":0,\"ticks\":\"\"}},\"colorscale\":{\"sequential\":[[0.0,\"#0d0887\"],[0.1111111111111111,\"#46039f\"],[0.2222222222222222,\"#7201a8\"],[0.3333333333333333,\"#9c179e\"],[0.4444444444444444,\"#bd3786\"],[0.5555555555555556,\"#d8576b\"],[0.6666666666666666,\"#ed7953\"],[0.7777777777777778,\"#fb9f3a\"],[0.8888888888888888,\"#fdca26\"],[1.0,\"#f0f921\"]],\"sequentialminus\":[[0.0,\"#0d0887\"],[0.1111111111111111,\"#46039f\"],[0.2222222222222222,\"#7201a8\"],[0.3333333333333333,\"#9c179e\"],[0.4444444444444444,\"#bd3786\"],[0.5555555555555556,\"#d8576b\"],[0.6666666666666666,\"#ed7953\"],[0.7777777777777778,\"#fb9f3a\"],[0.8888888888888888,\"#fdca26\"],[1.0,\"#f0f921\"]],\"diverging\":[[0,\"#8e0152\"],[0.1,\"#c51b7d\"],[0.2,\"#de77ae\"],[0.3,\"#f1b6da\"],[0.4,\"#fde0ef\"],[0.5,\"#f7f7f7\"],[0.6,\"#e6f5d0\"],[0.7,\"#b8e186\"],[0.8,\"#7fbc41\"],[0.9,\"#4d9221\"],[1,\"#276419\"]]},\"xaxis\":{\"gridcolor\":\"white\",\"linecolor\":\"white\",\"ticks\":\"\",\"title\":{\"standoff\":15},\"zerolinecolor\":\"white\",\"automargin\":true,\"zerolinewidth\":2},\"yaxis\":{\"gridcolor\":\"white\",\"linecolor\":\"white\",\"ticks\":\"\",\"title\":{\"standoff\":15},\"zerolinecolor\":\"white\",\"automargin\":true,\"zerolinewidth\":2},\"scene\":{\"xaxis\":{\"backgroundcolor\":\"#E5ECF6\",\"gridcolor\":\"white\",\"linecolor\":\"white\",\"showbackground\":true,\"ticks\":\"\",\"zerolinecolor\":\"white\",\"gridwidth\":2},\"yaxis\":{\"backgroundcolor\":\"#E5ECF6\",\"gridcolor\":\"white\",\"linecolor\":\"white\",\"showbackground\":true,\"ticks\":\"\",\"zerolinecolor\":\"white\",\"gridwidth\":2},\"zaxis\":{\"backgroundcolor\":\"#E5ECF6\",\"gridcolor\":\"white\",\"linecolor\":\"white\",\"showbackground\":true,\"ticks\":\"\",\"zerolinecolor\":\"white\",\"gridwidth\":2}},\"shapedefaults\":{\"line\":{\"color\":\"#2a3f5f\"}},\"annotationdefaults\":{\"arrowcolor\":\"#2a3f5f\",\"arrowhead\":0,\"arrowwidth\":1},\"geo\":{\"bgcolor\":\"white\",\"landcolor\":\"#E5ECF6\",\"subunitcolor\":\"white\",\"showland\":true,\"showlakes\":true,\"lakecolor\":\"white\"},\"title\":{\"x\":0.05},\"mapbox\":{\"style\":\"light\"}}},\"xaxis\":{\"anchor\":\"y\",\"domain\":[0.0,1.0],\"title\":{\"text\":\"price_processed\"}},\"yaxis\":{\"anchor\":\"x\",\"domain\":[0.0,1.0],\"title\":{\"text\":\"processed_battery\"}},\"coloraxis\":{\"colorbar\":{\"title\":{\"text\":\"processed_battery\"}},\"colorscale\":[[0.0,\"#0d0887\"],[0.1111111111111111,\"#46039f\"],[0.2222222222222222,\"#7201a8\"],[0.3333333333333333,\"#9c179e\"],[0.4444444444444444,\"#bd3786\"],[0.5555555555555556,\"#d8576b\"],[0.6666666666666666,\"#ed7953\"],[0.7777777777777778,\"#fb9f3a\"],[0.8888888888888888,\"#fdca26\"],[1.0,\"#f0f921\"]]},\"legend\":{\"tracegroupgap\":0},\"margin\":{\"t\":60}},                        {\"responsive\": true}                    ).then(function(){\n",
       "                            \n",
       "var gd = document.getElementById('f4a91263-e2ca-4c70-8a2e-016e875401d5');\n",
       "var x = new MutationObserver(function (mutations, observer) {{\n",
       "        var display = window.getComputedStyle(gd).display;\n",
       "        if (!display || display === 'none') {{\n",
       "            console.log([gd, 'removed!']);\n",
       "            Plotly.purge(gd);\n",
       "            observer.disconnect();\n",
       "        }}\n",
       "}});\n",
       "\n",
       "// Listen for the removal of the full notebook cells\n",
       "var notebookContainer = gd.closest('#notebook-container');\n",
       "if (notebookContainer) {{\n",
       "    x.observe(notebookContainer, {childList: true});\n",
       "}}\n",
       "\n",
       "// Listen for the clearing of the current output cell\n",
       "var outputEl = gd.closest('.output');\n",
       "if (outputEl) {{\n",
       "    x.observe(outputEl, {childList: true});\n",
       "}}\n",
       "\n",
       "                        })                };                });            </script>        </div>"
      ]
     },
     "metadata": {},
     "output_type": "display_data"
    }
   ],
   "source": [
    "df2 = df[df['processed_battery']<=7000]\n",
    "fig = px.scatter(df2, y=\"processed_battery\", x=\"price_processed\",color='processed_battery')\n",
    "fig.show()"
   ]
  },
  {
   "cell_type": "code",
   "execution_count": 78,
   "id": "2c43cc17",
   "metadata": {},
   "outputs": [
    {
     "data": {
      "application/vnd.plotly.v1+json": {
       "config": {
        "plotlyServerURL": "https://plot.ly"
       },
       "data": [
        {
         "hovertemplate": "brand=%{y}<br>price_processed=%{x}<extra></extra>",
         "legendgroup": "vivo",
         "line": {
          "color": "#636efa",
          "dash": "solid"
         },
         "marker": {
          "symbol": "circle"
         },
         "mode": "lines",
         "name": "vivo",
         "orientation": "h",
         "showlegend": true,
         "type": "scatter",
         "x": [
          15999,
          15999,
          13999,
          12999,
          12999,
          12999,
          15999,
          13999,
          13999,
          20999,
          20999,
          18999,
          18999,
          32999,
          32999,
          28397,
          19999,
          36999,
          19999,
          28749,
          17999,
          35999,
          23999,
          23999,
          17999,
          35999,
          29778,
          23999,
          31989,
          63999,
          24985,
          31999,
          25999,
          25999,
          19979,
          59999,
          23999,
          63999,
          25499,
          24999,
          23999,
          59999,
          24990,
          84999,
          28950,
          19988,
          26499,
          33469,
          27990,
          42999,
          42999,
          24999,
          39999,
          39999,
          37999,
          37999,
          25487,
          41990,
          45999,
          27990,
          26990,
          36990,
          38990,
          43990,
          43990,
          38990,
          26499,
          19999,
          26499,
          19999,
          25999,
          25290,
          25290,
          28880,
          28880,
          28880,
          42999,
          54999,
          54999
         ],
         "xaxis": "x",
         "y": [
          "vivo",
          "vivo",
          "vivo",
          "vivo",
          "vivo",
          "vivo",
          "vivo",
          "vivo",
          "vivo",
          "vivo",
          "vivo",
          "vivo",
          "vivo",
          "vivo",
          "vivo",
          "vivo",
          "vivo",
          "vivo",
          "vivo",
          "vivo",
          "vivo",
          "vivo",
          "vivo",
          "vivo",
          "vivo",
          "vivo",
          "vivo",
          "vivo",
          "vivo",
          "vivo",
          "vivo",
          "vivo",
          "vivo",
          "vivo",
          "vivo",
          "vivo",
          "vivo",
          "vivo",
          "vivo",
          "vivo",
          "vivo",
          "vivo",
          "vivo",
          "vivo",
          "vivo",
          "vivo",
          "vivo",
          "vivo",
          "vivo",
          "vivo",
          "vivo",
          "vivo",
          "vivo",
          "vivo",
          "vivo",
          "vivo",
          "vivo",
          "vivo",
          "vivo",
          "vivo",
          "vivo",
          "vivo",
          "vivo",
          "vivo",
          "vivo",
          "vivo",
          "vivo",
          "vivo",
          "vivo",
          "vivo",
          "vivo",
          "vivo",
          "vivo",
          "vivo",
          "vivo",
          "vivo",
          "vivo",
          "vivo",
          "vivo"
         ],
         "yaxis": "y"
        },
        {
         "hovertemplate": "brand=%{y}<br>price_processed=%{x}<extra></extra>",
         "legendgroup": "POCO",
         "line": {
          "color": "#EF553B",
          "dash": "solid"
         },
         "marker": {
          "symbol": "circle"
         },
         "mode": "lines",
         "name": "POCO",
         "orientation": "h",
         "showlegend": true,
         "type": "scatter",
         "x": [
          11999,
          11999,
          15999,
          15999,
          15999,
          17999,
          11999,
          13999,
          17999,
          23999,
          15999,
          13999,
          14499,
          23999,
          17499,
          23999,
          17999,
          21999,
          29999,
          16499,
          21999,
          29999,
          29999,
          13999,
          32999,
          16999,
          19499,
          15999,
          32999,
          19499,
          32999,
          19499,
          14999,
          16999,
          17499,
          34999,
          27999,
          16499,
          39999,
          39999,
          27999,
          27999,
          27999,
          27999
         ],
         "xaxis": "x",
         "y": [
          "POCO",
          "POCO",
          "POCO",
          "POCO",
          "POCO",
          "POCO",
          "POCO",
          "POCO",
          "POCO",
          "POCO",
          "POCO",
          "POCO",
          "POCO",
          "POCO",
          "POCO",
          "POCO",
          "POCO",
          "POCO",
          "POCO",
          "POCO",
          "POCO",
          "POCO",
          "POCO",
          "POCO",
          "POCO",
          "POCO",
          "POCO",
          "POCO",
          "POCO",
          "POCO",
          "POCO",
          "POCO",
          "POCO",
          "POCO",
          "POCO",
          "POCO",
          "POCO",
          "POCO",
          "POCO",
          "POCO",
          "POCO",
          "POCO",
          "POCO",
          "POCO"
         ],
         "yaxis": "y"
        },
        {
         "hovertemplate": "brand=%{y}<br>price_processed=%{x}<extra></extra>",
         "legendgroup": "OnePlus",
         "line": {
          "color": "#00cc96",
          "dash": "solid"
         },
         "marker": {
          "symbol": "circle"
         },
         "mode": "lines",
         "name": "OnePlus",
         "orientation": "h",
         "showlegend": true,
         "type": "scatter",
         "x": [
          17967,
          17889,
          28448,
          39788,
          44875,
          44237,
          21974,
          27700,
          30990,
          30979,
          28388,
          35480,
          35480,
          25990,
          25990,
          35490,
          26990,
          35489,
          35999,
          54999,
          24999,
          22690,
          54830,
          22979,
          61899,
          22990,
          34499,
          35480,
          30990,
          23999,
          44990,
          54999,
          54999,
          50999,
          24999,
          24999,
          26990,
          33999,
          61899,
          47999,
          34990,
          48999,
          42999,
          32990,
          32990,
          35990,
          32999,
          39800,
          30999,
          30999,
          64999,
          54999,
          39800,
          30999,
          54999,
          64999,
          30999,
          34990,
          49989,
          39890,
          39999,
          48990,
          39998,
          49989,
          39999,
          39890,
          48990,
          43990,
          30990,
          53400,
          39990,
          54900,
          35499,
          35499,
          49800,
          47999,
          59798,
          59890,
          28047,
          27822,
          49999
         ],
         "xaxis": "x",
         "y": [
          "OnePlus",
          "OnePlus",
          "OnePlus",
          "OnePlus",
          "OnePlus",
          "OnePlus",
          "OnePlus",
          "OnePlus",
          "OnePlus",
          "OnePlus",
          "OnePlus",
          "OnePlus",
          "OnePlus",
          "OnePlus",
          "OnePlus",
          "OnePlus",
          "OnePlus",
          "OnePlus",
          "OnePlus",
          "OnePlus",
          "OnePlus",
          "OnePlus",
          "OnePlus",
          "OnePlus",
          "OnePlus",
          "OnePlus",
          "OnePlus",
          "OnePlus",
          "OnePlus",
          "OnePlus",
          "OnePlus",
          "OnePlus",
          "OnePlus",
          "OnePlus",
          "OnePlus",
          "OnePlus",
          "OnePlus",
          "OnePlus",
          "OnePlus",
          "OnePlus",
          "OnePlus",
          "OnePlus",
          "OnePlus",
          "OnePlus",
          "OnePlus",
          "OnePlus",
          "OnePlus",
          "OnePlus",
          "OnePlus",
          "OnePlus",
          "OnePlus",
          "OnePlus",
          "OnePlus",
          "OnePlus",
          "OnePlus",
          "OnePlus",
          "OnePlus",
          "OnePlus",
          "OnePlus",
          "OnePlus",
          "OnePlus",
          "OnePlus",
          "OnePlus",
          "OnePlus",
          "OnePlus",
          "OnePlus",
          "OnePlus",
          "OnePlus",
          "OnePlus",
          "OnePlus",
          "OnePlus",
          "OnePlus",
          "OnePlus",
          "OnePlus",
          "OnePlus",
          "OnePlus",
          "OnePlus",
          "OnePlus",
          "OnePlus",
          "OnePlus",
          "OnePlus"
         ],
         "yaxis": "y"
        },
        {
         "hovertemplate": "brand=%{y}<br>price_processed=%{x}<extra></extra>",
         "legendgroup": "MOTOROLA",
         "line": {
          "color": "#ab63fa",
          "dash": "solid"
         },
         "marker": {
          "symbol": "circle"
         },
         "mode": "lines",
         "name": "MOTOROLA",
         "orientation": "h",
         "showlegend": true,
         "type": "scatter",
         "x": [
          15499,
          15499,
          16999,
          16499,
          16499,
          16999,
          29999,
          21499,
          29999,
          21499,
          24999,
          24999,
          34999,
          34999,
          29999,
          49999,
          37999,
          27999,
          24999,
          24999,
          24999,
          44999,
          14999,
          14999,
          34999,
          34999
         ],
         "xaxis": "x",
         "y": [
          "MOTOROLA",
          "MOTOROLA",
          "MOTOROLA",
          "MOTOROLA",
          "MOTOROLA",
          "MOTOROLA",
          "MOTOROLA",
          "MOTOROLA",
          "MOTOROLA",
          "MOTOROLA",
          "MOTOROLA",
          "MOTOROLA",
          "MOTOROLA",
          "MOTOROLA",
          "MOTOROLA",
          "MOTOROLA",
          "MOTOROLA",
          "MOTOROLA",
          "MOTOROLA",
          "MOTOROLA",
          "MOTOROLA",
          "MOTOROLA",
          "MOTOROLA",
          "MOTOROLA",
          "MOTOROLA",
          "MOTOROLA"
         ],
         "yaxis": "y"
        },
        {
         "hovertemplate": "brand=%{y}<br>price_processed=%{x}<extra></extra>",
         "legendgroup": "SAMSUNG",
         "line": {
          "color": "#FFA15A",
          "dash": "solid"
         },
         "marker": {
          "symbol": "circle"
         },
         "mode": "lines",
         "name": "SAMSUNG",
         "orientation": "h",
         "showlegend": true,
         "type": "scatter",
         "x": [
          14490,
          14490,
          14490,
          16999,
          13490,
          13490,
          13490,
          32999,
          32999,
          16999,
          16999,
          16899,
          17217,
          32999,
          17217,
          32999,
          49999,
          27974,
          15810,
          17462,
          16182,
          18999,
          18999,
          18999,
          17462,
          34999,
          21999,
          16499,
          32999,
          21999,
          28929,
          32999,
          15999,
          20999,
          21999,
          30999,
          30999,
          32999,
          20999,
          16499,
          20999,
          12935,
          12935,
          15999,
          40999,
          20999,
          24385,
          32999,
          15999,
          27999,
          17599,
          15699,
          12838,
          16999,
          22999,
          17390,
          124999,
          164989,
          15480,
          49999,
          49999,
          30999,
          29999,
          14990,
          94999,
          38999,
          27880,
          12938,
          41999,
          27990,
          41999,
          27990,
          41999,
          35990,
          104999,
          23999,
          35990,
          94999,
          40999,
          31500,
          33499,
          18499,
          27990,
          27999,
          34999,
          30999,
          35999,
          87990,
          16999,
          30999,
          35999,
          87990,
          16999,
          39099,
          124999,
          104999,
          154989,
          20999,
          84999,
          31999,
          84999,
          35890,
          18900,
          39899,
          35890,
          14670,
          31800,
          32999,
          16489,
          15149,
          16299,
          38999,
          32999,
          16299,
          38999,
          115999,
          31999,
          31999,
          15812,
          40999,
          17660
         ],
         "xaxis": "x",
         "y": [
          "SAMSUNG",
          "SAMSUNG",
          "SAMSUNG",
          "SAMSUNG",
          "SAMSUNG",
          "SAMSUNG",
          "SAMSUNG",
          "SAMSUNG",
          "SAMSUNG",
          "SAMSUNG",
          "SAMSUNG",
          "SAMSUNG",
          "SAMSUNG",
          "SAMSUNG",
          "SAMSUNG",
          "SAMSUNG",
          "SAMSUNG",
          "SAMSUNG",
          "SAMSUNG",
          "SAMSUNG",
          "SAMSUNG",
          "SAMSUNG",
          "SAMSUNG",
          "SAMSUNG",
          "SAMSUNG",
          "SAMSUNG",
          "SAMSUNG",
          "SAMSUNG",
          "SAMSUNG",
          "SAMSUNG",
          "SAMSUNG",
          "SAMSUNG",
          "SAMSUNG",
          "SAMSUNG",
          "SAMSUNG",
          "SAMSUNG",
          "SAMSUNG",
          "SAMSUNG",
          "SAMSUNG",
          "SAMSUNG",
          "SAMSUNG",
          "SAMSUNG",
          "SAMSUNG",
          "SAMSUNG",
          "SAMSUNG",
          "SAMSUNG",
          "SAMSUNG",
          "SAMSUNG",
          "SAMSUNG",
          "SAMSUNG",
          "SAMSUNG",
          "SAMSUNG",
          "SAMSUNG",
          "SAMSUNG",
          "SAMSUNG",
          "SAMSUNG",
          "SAMSUNG",
          "SAMSUNG",
          "SAMSUNG",
          "SAMSUNG",
          "SAMSUNG",
          "SAMSUNG",
          "SAMSUNG",
          "SAMSUNG",
          "SAMSUNG",
          "SAMSUNG",
          "SAMSUNG",
          "SAMSUNG",
          "SAMSUNG",
          "SAMSUNG",
          "SAMSUNG",
          "SAMSUNG",
          "SAMSUNG",
          "SAMSUNG",
          "SAMSUNG",
          "SAMSUNG",
          "SAMSUNG",
          "SAMSUNG",
          "SAMSUNG",
          "SAMSUNG",
          "SAMSUNG",
          "SAMSUNG",
          "SAMSUNG",
          "SAMSUNG",
          "SAMSUNG",
          "SAMSUNG",
          "SAMSUNG",
          "SAMSUNG",
          "SAMSUNG",
          "SAMSUNG",
          "SAMSUNG",
          "SAMSUNG",
          "SAMSUNG",
          "SAMSUNG",
          "SAMSUNG",
          "SAMSUNG",
          "SAMSUNG",
          "SAMSUNG",
          "SAMSUNG",
          "SAMSUNG",
          "SAMSUNG",
          "SAMSUNG",
          "SAMSUNG",
          "SAMSUNG",
          "SAMSUNG",
          "SAMSUNG",
          "SAMSUNG",
          "SAMSUNG",
          "SAMSUNG",
          "SAMSUNG",
          "SAMSUNG",
          "SAMSUNG",
          "SAMSUNG",
          "SAMSUNG",
          "SAMSUNG",
          "SAMSUNG",
          "SAMSUNG",
          "SAMSUNG",
          "SAMSUNG",
          "SAMSUNG",
          "SAMSUNG"
         ],
         "yaxis": "y"
        },
        {
         "hovertemplate": "brand=%{y}<br>price_processed=%{x}<extra></extra>",
         "legendgroup": "Infinix",
         "line": {
          "color": "#19d3f3",
          "dash": "solid"
         },
         "marker": {
          "symbol": "circle"
         },
         "mode": "lines",
         "name": "Infinix",
         "orientation": "h",
         "showlegend": true,
         "type": "scatter",
         "x": [
          15999,
          15999,
          11499,
          11499,
          11499,
          13499,
          13499,
          15999,
          13499,
          15999,
          15999,
          17999,
          17999,
          17999,
          14999,
          14999,
          29999,
          29999,
          19999,
          19999,
          19999,
          19999
         ],
         "xaxis": "x",
         "y": [
          "Infinix",
          "Infinix",
          "Infinix",
          "Infinix",
          "Infinix",
          "Infinix",
          "Infinix",
          "Infinix",
          "Infinix",
          "Infinix",
          "Infinix",
          "Infinix",
          "Infinix",
          "Infinix",
          "Infinix",
          "Infinix",
          "Infinix",
          "Infinix",
          "Infinix",
          "Infinix",
          "Infinix",
          "Infinix"
         ],
         "yaxis": "y"
        },
        {
         "hovertemplate": "brand=%{y}<br>price_processed=%{x}<extra></extra>",
         "legendgroup": "realme",
         "line": {
          "color": "#FF6692",
          "dash": "solid"
         },
         "marker": {
          "symbol": "circle"
         },
         "mode": "lines",
         "name": "realme",
         "orientation": "h",
         "showlegend": true,
         "type": "scatter",
         "x": [
          18999,
          19999,
          18999,
          19999,
          19999,
          18999,
          23999,
          23999,
          16999,
          16999,
          16999,
          14999,
          14999,
          21999,
          21999,
          32299,
          17999,
          17999,
          23999,
          22999,
          22999,
          23999,
          22999,
          23999,
          21999,
          27999,
          18499,
          13499,
          21990,
          24999,
          24999,
          24999,
          22999,
          33999,
          19990,
          16499,
          27999,
          27999,
          19899,
          18999,
          35999,
          31999,
          35999,
          42999,
          29999,
          42999,
          29999,
          18999,
          27999,
          29999,
          29999,
          42999,
          29999,
          27999,
          42999,
          34999,
          36999,
          38999,
          34999,
          36999,
          42999,
          34999,
          36999,
          38999,
          38999,
          57999,
          49999,
          27999,
          49999,
          27999,
          24999,
          49999,
          49999,
          49999,
          49999
         ],
         "xaxis": "x",
         "y": [
          "realme",
          "realme",
          "realme",
          "realme",
          "realme",
          "realme",
          "realme",
          "realme",
          "realme",
          "realme",
          "realme",
          "realme",
          "realme",
          "realme",
          "realme",
          "realme",
          "realme",
          "realme",
          "realme",
          "realme",
          "realme",
          "realme",
          "realme",
          "realme",
          "realme",
          "realme",
          "realme",
          "realme",
          "realme",
          "realme",
          "realme",
          "realme",
          "realme",
          "realme",
          "realme",
          "realme",
          "realme",
          "realme",
          "realme",
          "realme",
          "realme",
          "realme",
          "realme",
          "realme",
          "realme",
          "realme",
          "realme",
          "realme",
          "realme",
          "realme",
          "realme",
          "realme",
          "realme",
          "realme",
          "realme",
          "realme",
          "realme",
          "realme",
          "realme",
          "realme",
          "realme",
          "realme",
          "realme",
          "realme",
          "realme",
          "realme",
          "realme",
          "realme",
          "realme",
          "realme",
          "realme",
          "realme",
          "realme",
          "realme",
          "realme"
         ],
         "yaxis": "y"
        },
        {
         "hovertemplate": "brand=%{y}<br>price_processed=%{x}<extra></extra>",
         "legendgroup": "REDMI",
         "line": {
          "color": "#B6E880",
          "dash": "solid"
         },
         "marker": {
          "symbol": "circle"
         },
         "mode": "lines",
         "name": "REDMI",
         "orientation": "h",
         "showlegend": true,
         "type": "scatter",
         "x": [
          18999,
          18999,
          18999,
          16999,
          16999,
          27990,
          23999,
          16999,
          23999,
          23999,
          29999,
          26999,
          23999,
          25999,
          26999,
          13896,
          25999,
          14905,
          15193,
          13896,
          13480,
          23999,
          32999,
          25999,
          32999,
          15307,
          25999,
          15193,
          32999,
          25999,
          23999,
          29990,
          14899,
          32999,
          26999,
          18500,
          15995,
          18999,
          18999,
          20996,
          16999,
          16999,
          14999,
          13999,
          17490,
          20000,
          20999,
          17990,
          17990,
          17999,
          17999,
          20999,
          20999,
          20999,
          20999,
          20999,
          20999,
          11999
         ],
         "xaxis": "x",
         "y": [
          "REDMI",
          "REDMI",
          "REDMI",
          "REDMI",
          "REDMI",
          "REDMI",
          "REDMI",
          "REDMI",
          "REDMI",
          "REDMI",
          "REDMI",
          "REDMI",
          "REDMI",
          "REDMI",
          "REDMI",
          "REDMI",
          "REDMI",
          "REDMI",
          "REDMI",
          "REDMI",
          "REDMI",
          "REDMI",
          "REDMI",
          "REDMI",
          "REDMI",
          "REDMI",
          "REDMI",
          "REDMI",
          "REDMI",
          "REDMI",
          "REDMI",
          "REDMI",
          "REDMI",
          "REDMI",
          "REDMI",
          "REDMI",
          "REDMI",
          "REDMI",
          "REDMI",
          "REDMI",
          "REDMI",
          "REDMI",
          "REDMI",
          "REDMI",
          "REDMI",
          "REDMI",
          "REDMI",
          "REDMI",
          "REDMI",
          "REDMI",
          "REDMI",
          "REDMI",
          "REDMI",
          "REDMI",
          "REDMI",
          "REDMI",
          "REDMI",
          "REDMI"
         ],
         "yaxis": "y"
        },
        {
         "hovertemplate": "brand=%{y}<br>price_processed=%{x}<extra></extra>",
         "legendgroup": "Google",
         "line": {
          "color": "#FF97FF",
          "dash": "solid"
         },
         "marker": {
          "symbol": "circle"
         },
         "mode": "lines",
         "name": "Google",
         "orientation": "h",
         "showlegend": true,
         "type": "scatter",
         "x": [
          28999,
          28999,
          43999,
          43999,
          43999,
          53999,
          53999,
          53999,
          75999,
          75999,
          75999
         ],
         "xaxis": "x",
         "y": [
          "Google",
          "Google",
          "Google",
          "Google",
          "Google",
          "Google",
          "Google",
          "Google",
          "Google",
          "Google",
          "Google"
         ],
         "yaxis": "y"
        },
        {
         "hovertemplate": "brand=%{y}<br>price_processed=%{x}<extra></extra>",
         "legendgroup": "IQOO",
         "line": {
          "color": "#FECB52",
          "dash": "solid"
         },
         "marker": {
          "symbol": "circle"
         },
         "mode": "lines",
         "name": "IQOO",
         "orientation": "h",
         "showlegend": true,
         "type": "scatter",
         "x": [
          15995,
          15217,
          14295,
          16495,
          15322,
          15749,
          15990,
          34592,
          29990,
          30999,
          34657,
          33990,
          49499,
          13799,
          15999,
          16990,
          19290,
          31990,
          16990,
          23790,
          28390
         ],
         "xaxis": "x",
         "y": [
          "IQOO",
          "IQOO",
          "IQOO",
          "IQOO",
          "IQOO",
          "IQOO",
          "IQOO",
          "IQOO",
          "IQOO",
          "IQOO",
          "IQOO",
          "IQOO",
          "IQOO",
          "IQOO",
          "IQOO",
          "IQOO",
          "IQOO",
          "IQOO",
          "IQOO",
          "IQOO",
          "IQOO"
         ],
         "yaxis": "y"
        },
        {
         "hovertemplate": "brand=%{y}<br>price_processed=%{x}<extra></extra>",
         "legendgroup": "OPPO",
         "line": {
          "color": "#636efa",
          "dash": "solid"
         },
         "marker": {
          "symbol": "circle"
         },
         "mode": "lines",
         "name": "OPPO",
         "orientation": "h",
         "showlegend": true,
         "type": "scatter",
         "x": [
          29999,
          29999,
          18680,
          18570,
          23799,
          23799,
          26495,
          18989,
          29999,
          29999,
          17499,
          17499,
          17499,
          19449,
          35990,
          89999,
          35990,
          89999,
          24490,
          20890,
          24490,
          23900,
          23300
         ],
         "xaxis": "x",
         "y": [
          "OPPO",
          "OPPO",
          "OPPO",
          "OPPO",
          "OPPO",
          "OPPO",
          "OPPO",
          "OPPO",
          "OPPO",
          "OPPO",
          "OPPO",
          "OPPO",
          "OPPO",
          "OPPO",
          "OPPO",
          "OPPO",
          "OPPO",
          "OPPO",
          "OPPO",
          "OPPO",
          "OPPO",
          "OPPO",
          "OPPO"
         ],
         "yaxis": "y"
        },
        {
         "hovertemplate": "brand=%{y}<br>price_processed=%{x}<extra></extra>",
         "legendgroup": "Nothing",
         "line": {
          "color": "#EF553B",
          "dash": "solid"
         },
         "marker": {
          "symbol": "circle"
         },
         "mode": "lines",
         "name": "Nothing",
         "orientation": "h",
         "showlegend": true,
         "type": "scatter",
         "x": [
          30999,
          30499,
          29499
         ],
         "xaxis": "x",
         "y": [
          "Nothing",
          "Nothing",
          "Nothing"
         ],
         "yaxis": "y"
        },
        {
         "hovertemplate": "brand=%{y}<br>price_processed=%{x}<extra></extra>",
         "legendgroup": "Xiaomi",
         "line": {
          "color": "#00cc96",
          "dash": "solid"
         },
         "marker": {
          "symbol": "circle"
         },
         "mode": "lines",
         "name": "Xiaomi",
         "orientation": "h",
         "showlegend": true,
         "type": "scatter",
         "x": [
          21990,
          23999,
          21990,
          23999,
          25990,
          47499,
          26999,
          23999,
          23999,
          24990,
          24450,
          47999,
          46990,
          31990,
          31990,
          31990,
          22200,
          24499,
          26999,
          24990,
          24499,
          26999,
          24990,
          47499,
          42990,
          42990
         ],
         "xaxis": "x",
         "y": [
          "Xiaomi",
          "Xiaomi",
          "Xiaomi",
          "Xiaomi",
          "Xiaomi",
          "Xiaomi",
          "Xiaomi",
          "Xiaomi",
          "Xiaomi",
          "Xiaomi",
          "Xiaomi",
          "Xiaomi",
          "Xiaomi",
          "Xiaomi",
          "Xiaomi",
          "Xiaomi",
          "Xiaomi",
          "Xiaomi",
          "Xiaomi",
          "Xiaomi",
          "Xiaomi",
          "Xiaomi",
          "Xiaomi",
          "Xiaomi",
          "Xiaomi",
          "Xiaomi"
         ],
         "yaxis": "y"
        },
        {
         "hovertemplate": "brand=%{y}<br>price_processed=%{x}<extra></extra>",
         "legendgroup": "Tecno",
         "line": {
          "color": "#ab63fa",
          "dash": "solid"
         },
         "marker": {
          "symbol": "circle"
         },
         "mode": "lines",
         "name": "Tecno",
         "orientation": "h",
         "showlegend": true,
         "type": "scatter",
         "x": [
          36999,
          44997,
          15799,
          15499,
          15499,
          15999,
          15999,
          44999,
          13999,
          13999,
          19999,
          13190,
          12998,
          12499,
          88888
         ],
         "xaxis": "x",
         "y": [
          "Tecno",
          "Tecno",
          "Tecno",
          "Tecno",
          "Tecno",
          "Tecno",
          "Tecno",
          "Tecno",
          "Tecno",
          "Tecno",
          "Tecno",
          "Tecno",
          "Tecno",
          "Tecno",
          "Tecno"
         ],
         "yaxis": "y"
        },
        {
         "hovertemplate": "brand=%{y}<br>price_processed=%{x}<extra></extra>",
         "legendgroup": "Moto",
         "line": {
          "color": "#FFA15A",
          "dash": "solid"
         },
         "marker": {
          "symbol": "circle"
         },
         "mode": "lines",
         "name": "Moto",
         "orientation": "h",
         "showlegend": true,
         "type": "scatter",
         "x": [
          18890,
          18890
         ],
         "xaxis": "x",
         "y": [
          "Moto",
          "Moto"
         ],
         "yaxis": "y"
        },
        {
         "hovertemplate": "brand=%{y}<br>price_processed=%{x}<extra></extra>",
         "legendgroup": "Mi",
         "line": {
          "color": "#19d3f3",
          "dash": "solid"
         },
         "marker": {
          "symbol": "circle"
         },
         "mode": "lines",
         "name": "Mi",
         "orientation": "h",
         "showlegend": true,
         "type": "scatter",
         "x": [
          23999,
          23999,
          24996,
          34499,
          28190,
          23990,
          23890,
          27990,
          24490
         ],
         "xaxis": "x",
         "y": [
          "Mi",
          "Mi",
          "Mi",
          "Mi",
          "Mi",
          "Mi",
          "Mi",
          "Mi",
          "Mi"
         ],
         "yaxis": "y"
        },
        {
         "hovertemplate": "brand=%{y}<br>price_processed=%{x}<extra></extra>",
         "legendgroup": "ASUS",
         "line": {
          "color": "#FF6692",
          "dash": "solid"
         },
         "marker": {
          "symbol": "circle"
         },
         "mode": "lines",
         "name": "ASUS",
         "orientation": "h",
         "showlegend": true,
         "type": "scatter",
         "x": [
          57999
         ],
         "xaxis": "x",
         "y": [
          "ASUS"
         ],
         "yaxis": "y"
        },
        {
         "hovertemplate": "brand=%{y}<br>price_processed=%{x}<extra></extra>",
         "legendgroup": "HTC",
         "line": {
          "color": "#B6E880",
          "dash": "solid"
         },
         "marker": {
          "symbol": "circle"
         },
         "mode": "lines",
         "name": "HTC",
         "orientation": "h",
         "showlegend": true,
         "type": "scatter",
         "x": [
          16999
         ],
         "xaxis": "x",
         "y": [
          "HTC"
         ],
         "yaxis": "y"
        }
       ],
       "layout": {
        "legend": {
         "title": {
          "text": "brand"
         },
         "tracegroupgap": 0
        },
        "template": {
         "data": {
          "bar": [
           {
            "error_x": {
             "color": "#2a3f5f"
            },
            "error_y": {
             "color": "#2a3f5f"
            },
            "marker": {
             "line": {
              "color": "#E5ECF6",
              "width": 0.5
             },
             "pattern": {
              "fillmode": "overlay",
              "size": 10,
              "solidity": 0.2
             }
            },
            "type": "bar"
           }
          ],
          "barpolar": [
           {
            "marker": {
             "line": {
              "color": "#E5ECF6",
              "width": 0.5
             },
             "pattern": {
              "fillmode": "overlay",
              "size": 10,
              "solidity": 0.2
             }
            },
            "type": "barpolar"
           }
          ],
          "carpet": [
           {
            "aaxis": {
             "endlinecolor": "#2a3f5f",
             "gridcolor": "white",
             "linecolor": "white",
             "minorgridcolor": "white",
             "startlinecolor": "#2a3f5f"
            },
            "baxis": {
             "endlinecolor": "#2a3f5f",
             "gridcolor": "white",
             "linecolor": "white",
             "minorgridcolor": "white",
             "startlinecolor": "#2a3f5f"
            },
            "type": "carpet"
           }
          ],
          "choropleth": [
           {
            "colorbar": {
             "outlinewidth": 0,
             "ticks": ""
            },
            "type": "choropleth"
           }
          ],
          "contour": [
           {
            "colorbar": {
             "outlinewidth": 0,
             "ticks": ""
            },
            "colorscale": [
             [
              0,
              "#0d0887"
             ],
             [
              0.1111111111111111,
              "#46039f"
             ],
             [
              0.2222222222222222,
              "#7201a8"
             ],
             [
              0.3333333333333333,
              "#9c179e"
             ],
             [
              0.4444444444444444,
              "#bd3786"
             ],
             [
              0.5555555555555556,
              "#d8576b"
             ],
             [
              0.6666666666666666,
              "#ed7953"
             ],
             [
              0.7777777777777778,
              "#fb9f3a"
             ],
             [
              0.8888888888888888,
              "#fdca26"
             ],
             [
              1,
              "#f0f921"
             ]
            ],
            "type": "contour"
           }
          ],
          "contourcarpet": [
           {
            "colorbar": {
             "outlinewidth": 0,
             "ticks": ""
            },
            "type": "contourcarpet"
           }
          ],
          "heatmap": [
           {
            "colorbar": {
             "outlinewidth": 0,
             "ticks": ""
            },
            "colorscale": [
             [
              0,
              "#0d0887"
             ],
             [
              0.1111111111111111,
              "#46039f"
             ],
             [
              0.2222222222222222,
              "#7201a8"
             ],
             [
              0.3333333333333333,
              "#9c179e"
             ],
             [
              0.4444444444444444,
              "#bd3786"
             ],
             [
              0.5555555555555556,
              "#d8576b"
             ],
             [
              0.6666666666666666,
              "#ed7953"
             ],
             [
              0.7777777777777778,
              "#fb9f3a"
             ],
             [
              0.8888888888888888,
              "#fdca26"
             ],
             [
              1,
              "#f0f921"
             ]
            ],
            "type": "heatmap"
           }
          ],
          "heatmapgl": [
           {
            "colorbar": {
             "outlinewidth": 0,
             "ticks": ""
            },
            "colorscale": [
             [
              0,
              "#0d0887"
             ],
             [
              0.1111111111111111,
              "#46039f"
             ],
             [
              0.2222222222222222,
              "#7201a8"
             ],
             [
              0.3333333333333333,
              "#9c179e"
             ],
             [
              0.4444444444444444,
              "#bd3786"
             ],
             [
              0.5555555555555556,
              "#d8576b"
             ],
             [
              0.6666666666666666,
              "#ed7953"
             ],
             [
              0.7777777777777778,
              "#fb9f3a"
             ],
             [
              0.8888888888888888,
              "#fdca26"
             ],
             [
              1,
              "#f0f921"
             ]
            ],
            "type": "heatmapgl"
           }
          ],
          "histogram": [
           {
            "marker": {
             "pattern": {
              "fillmode": "overlay",
              "size": 10,
              "solidity": 0.2
             }
            },
            "type": "histogram"
           }
          ],
          "histogram2d": [
           {
            "colorbar": {
             "outlinewidth": 0,
             "ticks": ""
            },
            "colorscale": [
             [
              0,
              "#0d0887"
             ],
             [
              0.1111111111111111,
              "#46039f"
             ],
             [
              0.2222222222222222,
              "#7201a8"
             ],
             [
              0.3333333333333333,
              "#9c179e"
             ],
             [
              0.4444444444444444,
              "#bd3786"
             ],
             [
              0.5555555555555556,
              "#d8576b"
             ],
             [
              0.6666666666666666,
              "#ed7953"
             ],
             [
              0.7777777777777778,
              "#fb9f3a"
             ],
             [
              0.8888888888888888,
              "#fdca26"
             ],
             [
              1,
              "#f0f921"
             ]
            ],
            "type": "histogram2d"
           }
          ],
          "histogram2dcontour": [
           {
            "colorbar": {
             "outlinewidth": 0,
             "ticks": ""
            },
            "colorscale": [
             [
              0,
              "#0d0887"
             ],
             [
              0.1111111111111111,
              "#46039f"
             ],
             [
              0.2222222222222222,
              "#7201a8"
             ],
             [
              0.3333333333333333,
              "#9c179e"
             ],
             [
              0.4444444444444444,
              "#bd3786"
             ],
             [
              0.5555555555555556,
              "#d8576b"
             ],
             [
              0.6666666666666666,
              "#ed7953"
             ],
             [
              0.7777777777777778,
              "#fb9f3a"
             ],
             [
              0.8888888888888888,
              "#fdca26"
             ],
             [
              1,
              "#f0f921"
             ]
            ],
            "type": "histogram2dcontour"
           }
          ],
          "mesh3d": [
           {
            "colorbar": {
             "outlinewidth": 0,
             "ticks": ""
            },
            "type": "mesh3d"
           }
          ],
          "parcoords": [
           {
            "line": {
             "colorbar": {
              "outlinewidth": 0,
              "ticks": ""
             }
            },
            "type": "parcoords"
           }
          ],
          "pie": [
           {
            "automargin": true,
            "type": "pie"
           }
          ],
          "scatter": [
           {
            "fillpattern": {
             "fillmode": "overlay",
             "size": 10,
             "solidity": 0.2
            },
            "type": "scatter"
           }
          ],
          "scatter3d": [
           {
            "line": {
             "colorbar": {
              "outlinewidth": 0,
              "ticks": ""
             }
            },
            "marker": {
             "colorbar": {
              "outlinewidth": 0,
              "ticks": ""
             }
            },
            "type": "scatter3d"
           }
          ],
          "scattercarpet": [
           {
            "marker": {
             "colorbar": {
              "outlinewidth": 0,
              "ticks": ""
             }
            },
            "type": "scattercarpet"
           }
          ],
          "scattergeo": [
           {
            "marker": {
             "colorbar": {
              "outlinewidth": 0,
              "ticks": ""
             }
            },
            "type": "scattergeo"
           }
          ],
          "scattergl": [
           {
            "marker": {
             "colorbar": {
              "outlinewidth": 0,
              "ticks": ""
             }
            },
            "type": "scattergl"
           }
          ],
          "scattermapbox": [
           {
            "marker": {
             "colorbar": {
              "outlinewidth": 0,
              "ticks": ""
             }
            },
            "type": "scattermapbox"
           }
          ],
          "scatterpolar": [
           {
            "marker": {
             "colorbar": {
              "outlinewidth": 0,
              "ticks": ""
             }
            },
            "type": "scatterpolar"
           }
          ],
          "scatterpolargl": [
           {
            "marker": {
             "colorbar": {
              "outlinewidth": 0,
              "ticks": ""
             }
            },
            "type": "scatterpolargl"
           }
          ],
          "scatterternary": [
           {
            "marker": {
             "colorbar": {
              "outlinewidth": 0,
              "ticks": ""
             }
            },
            "type": "scatterternary"
           }
          ],
          "surface": [
           {
            "colorbar": {
             "outlinewidth": 0,
             "ticks": ""
            },
            "colorscale": [
             [
              0,
              "#0d0887"
             ],
             [
              0.1111111111111111,
              "#46039f"
             ],
             [
              0.2222222222222222,
              "#7201a8"
             ],
             [
              0.3333333333333333,
              "#9c179e"
             ],
             [
              0.4444444444444444,
              "#bd3786"
             ],
             [
              0.5555555555555556,
              "#d8576b"
             ],
             [
              0.6666666666666666,
              "#ed7953"
             ],
             [
              0.7777777777777778,
              "#fb9f3a"
             ],
             [
              0.8888888888888888,
              "#fdca26"
             ],
             [
              1,
              "#f0f921"
             ]
            ],
            "type": "surface"
           }
          ],
          "table": [
           {
            "cells": {
             "fill": {
              "color": "#EBF0F8"
             },
             "line": {
              "color": "white"
             }
            },
            "header": {
             "fill": {
              "color": "#C8D4E3"
             },
             "line": {
              "color": "white"
             }
            },
            "type": "table"
           }
          ]
         },
         "layout": {
          "annotationdefaults": {
           "arrowcolor": "#2a3f5f",
           "arrowhead": 0,
           "arrowwidth": 1
          },
          "autotypenumbers": "strict",
          "coloraxis": {
           "colorbar": {
            "outlinewidth": 0,
            "ticks": ""
           }
          },
          "colorscale": {
           "diverging": [
            [
             0,
             "#8e0152"
            ],
            [
             0.1,
             "#c51b7d"
            ],
            [
             0.2,
             "#de77ae"
            ],
            [
             0.3,
             "#f1b6da"
            ],
            [
             0.4,
             "#fde0ef"
            ],
            [
             0.5,
             "#f7f7f7"
            ],
            [
             0.6,
             "#e6f5d0"
            ],
            [
             0.7,
             "#b8e186"
            ],
            [
             0.8,
             "#7fbc41"
            ],
            [
             0.9,
             "#4d9221"
            ],
            [
             1,
             "#276419"
            ]
           ],
           "sequential": [
            [
             0,
             "#0d0887"
            ],
            [
             0.1111111111111111,
             "#46039f"
            ],
            [
             0.2222222222222222,
             "#7201a8"
            ],
            [
             0.3333333333333333,
             "#9c179e"
            ],
            [
             0.4444444444444444,
             "#bd3786"
            ],
            [
             0.5555555555555556,
             "#d8576b"
            ],
            [
             0.6666666666666666,
             "#ed7953"
            ],
            [
             0.7777777777777778,
             "#fb9f3a"
            ],
            [
             0.8888888888888888,
             "#fdca26"
            ],
            [
             1,
             "#f0f921"
            ]
           ],
           "sequentialminus": [
            [
             0,
             "#0d0887"
            ],
            [
             0.1111111111111111,
             "#46039f"
            ],
            [
             0.2222222222222222,
             "#7201a8"
            ],
            [
             0.3333333333333333,
             "#9c179e"
            ],
            [
             0.4444444444444444,
             "#bd3786"
            ],
            [
             0.5555555555555556,
             "#d8576b"
            ],
            [
             0.6666666666666666,
             "#ed7953"
            ],
            [
             0.7777777777777778,
             "#fb9f3a"
            ],
            [
             0.8888888888888888,
             "#fdca26"
            ],
            [
             1,
             "#f0f921"
            ]
           ]
          },
          "colorway": [
           "#636efa",
           "#EF553B",
           "#00cc96",
           "#ab63fa",
           "#FFA15A",
           "#19d3f3",
           "#FF6692",
           "#B6E880",
           "#FF97FF",
           "#FECB52"
          ],
          "font": {
           "color": "#2a3f5f"
          },
          "geo": {
           "bgcolor": "white",
           "lakecolor": "white",
           "landcolor": "#E5ECF6",
           "showlakes": true,
           "showland": true,
           "subunitcolor": "white"
          },
          "hoverlabel": {
           "align": "left"
          },
          "hovermode": "closest",
          "mapbox": {
           "style": "light"
          },
          "paper_bgcolor": "white",
          "plot_bgcolor": "#E5ECF6",
          "polar": {
           "angularaxis": {
            "gridcolor": "white",
            "linecolor": "white",
            "ticks": ""
           },
           "bgcolor": "#E5ECF6",
           "radialaxis": {
            "gridcolor": "white",
            "linecolor": "white",
            "ticks": ""
           }
          },
          "scene": {
           "xaxis": {
            "backgroundcolor": "#E5ECF6",
            "gridcolor": "white",
            "gridwidth": 2,
            "linecolor": "white",
            "showbackground": true,
            "ticks": "",
            "zerolinecolor": "white"
           },
           "yaxis": {
            "backgroundcolor": "#E5ECF6",
            "gridcolor": "white",
            "gridwidth": 2,
            "linecolor": "white",
            "showbackground": true,
            "ticks": "",
            "zerolinecolor": "white"
           },
           "zaxis": {
            "backgroundcolor": "#E5ECF6",
            "gridcolor": "white",
            "gridwidth": 2,
            "linecolor": "white",
            "showbackground": true,
            "ticks": "",
            "zerolinecolor": "white"
           }
          },
          "shapedefaults": {
           "line": {
            "color": "#2a3f5f"
           }
          },
          "ternary": {
           "aaxis": {
            "gridcolor": "white",
            "linecolor": "white",
            "ticks": ""
           },
           "baxis": {
            "gridcolor": "white",
            "linecolor": "white",
            "ticks": ""
           },
           "bgcolor": "#E5ECF6",
           "caxis": {
            "gridcolor": "white",
            "linecolor": "white",
            "ticks": ""
           }
          },
          "title": {
           "x": 0.05
          },
          "xaxis": {
           "automargin": true,
           "gridcolor": "white",
           "linecolor": "white",
           "ticks": "",
           "title": {
            "standoff": 15
           },
           "zerolinecolor": "white",
           "zerolinewidth": 2
          },
          "yaxis": {
           "automargin": true,
           "gridcolor": "white",
           "linecolor": "white",
           "ticks": "",
           "title": {
            "standoff": 15
           },
           "zerolinecolor": "white",
           "zerolinewidth": 2
          }
         }
        },
        "title": {
         "text": "Price Distribution of Brands"
        },
        "xaxis": {
         "anchor": "y",
         "domain": [
          0,
          1
         ],
         "title": {
          "text": "price_processed"
         }
        },
        "yaxis": {
         "anchor": "x",
         "categoryarray": [
          "HTC",
          "ASUS",
          "Mi",
          "Moto",
          "Tecno",
          "Xiaomi",
          "Nothing",
          "OPPO",
          "IQOO",
          "Google",
          "REDMI",
          "realme",
          "Infinix",
          "SAMSUNG",
          "MOTOROLA",
          "OnePlus",
          "POCO",
          "vivo"
         ],
         "categoryorder": "array",
         "domain": [
          0,
          1
         ],
         "title": {
          "text": "brand"
         }
        }
       }
      },
      "text/html": [
       "<div>                            <div id=\"b130a056-bfca-4ac7-9f67-882958d4902a\" class=\"plotly-graph-div\" style=\"height:525px; width:100%;\"></div>            <script type=\"text/javascript\">                require([\"plotly\"], function(Plotly) {                    window.PLOTLYENV=window.PLOTLYENV || {};                                    if (document.getElementById(\"b130a056-bfca-4ac7-9f67-882958d4902a\")) {                    Plotly.newPlot(                        \"b130a056-bfca-4ac7-9f67-882958d4902a\",                        [{\"hovertemplate\":\"brand=%{y}\\u003cbr\\u003eprice_processed=%{x}\\u003cextra\\u003e\\u003c\\u002fextra\\u003e\",\"legendgroup\":\"vivo\",\"line\":{\"color\":\"#636efa\",\"dash\":\"solid\"},\"marker\":{\"symbol\":\"circle\"},\"mode\":\"lines\",\"name\":\"vivo\",\"orientation\":\"h\",\"showlegend\":true,\"x\":[15999,15999,13999,12999,12999,12999,15999,13999,13999,20999,20999,18999,18999,32999,32999,28397,19999,36999,19999,28749,17999,35999,23999,23999,17999,35999,29778,23999,31989,63999,24985,31999,25999,25999,19979,59999,23999,63999,25499,24999,23999,59999,24990,84999,28950,19988,26499,33469,27990,42999,42999,24999,39999,39999,37999,37999,25487,41990,45999,27990,26990,36990,38990,43990,43990,38990,26499,19999,26499,19999,25999,25290,25290,28880,28880,28880,42999,54999,54999],\"xaxis\":\"x\",\"y\":[\"vivo\",\"vivo\",\"vivo\",\"vivo\",\"vivo\",\"vivo\",\"vivo\",\"vivo\",\"vivo\",\"vivo\",\"vivo\",\"vivo\",\"vivo\",\"vivo\",\"vivo\",\"vivo\",\"vivo\",\"vivo\",\"vivo\",\"vivo\",\"vivo\",\"vivo\",\"vivo\",\"vivo\",\"vivo\",\"vivo\",\"vivo\",\"vivo\",\"vivo\",\"vivo\",\"vivo\",\"vivo\",\"vivo\",\"vivo\",\"vivo\",\"vivo\",\"vivo\",\"vivo\",\"vivo\",\"vivo\",\"vivo\",\"vivo\",\"vivo\",\"vivo\",\"vivo\",\"vivo\",\"vivo\",\"vivo\",\"vivo\",\"vivo\",\"vivo\",\"vivo\",\"vivo\",\"vivo\",\"vivo\",\"vivo\",\"vivo\",\"vivo\",\"vivo\",\"vivo\",\"vivo\",\"vivo\",\"vivo\",\"vivo\",\"vivo\",\"vivo\",\"vivo\",\"vivo\",\"vivo\",\"vivo\",\"vivo\",\"vivo\",\"vivo\",\"vivo\",\"vivo\",\"vivo\",\"vivo\",\"vivo\",\"vivo\"],\"yaxis\":\"y\",\"type\":\"scatter\"},{\"hovertemplate\":\"brand=%{y}\\u003cbr\\u003eprice_processed=%{x}\\u003cextra\\u003e\\u003c\\u002fextra\\u003e\",\"legendgroup\":\"POCO\",\"line\":{\"color\":\"#EF553B\",\"dash\":\"solid\"},\"marker\":{\"symbol\":\"circle\"},\"mode\":\"lines\",\"name\":\"POCO\",\"orientation\":\"h\",\"showlegend\":true,\"x\":[11999,11999,15999,15999,15999,17999,11999,13999,17999,23999,15999,13999,14499,23999,17499,23999,17999,21999,29999,16499,21999,29999,29999,13999,32999,16999,19499,15999,32999,19499,32999,19499,14999,16999,17499,34999,27999,16499,39999,39999,27999,27999,27999,27999],\"xaxis\":\"x\",\"y\":[\"POCO\",\"POCO\",\"POCO\",\"POCO\",\"POCO\",\"POCO\",\"POCO\",\"POCO\",\"POCO\",\"POCO\",\"POCO\",\"POCO\",\"POCO\",\"POCO\",\"POCO\",\"POCO\",\"POCO\",\"POCO\",\"POCO\",\"POCO\",\"POCO\",\"POCO\",\"POCO\",\"POCO\",\"POCO\",\"POCO\",\"POCO\",\"POCO\",\"POCO\",\"POCO\",\"POCO\",\"POCO\",\"POCO\",\"POCO\",\"POCO\",\"POCO\",\"POCO\",\"POCO\",\"POCO\",\"POCO\",\"POCO\",\"POCO\",\"POCO\",\"POCO\"],\"yaxis\":\"y\",\"type\":\"scatter\"},{\"hovertemplate\":\"brand=%{y}\\u003cbr\\u003eprice_processed=%{x}\\u003cextra\\u003e\\u003c\\u002fextra\\u003e\",\"legendgroup\":\"OnePlus\",\"line\":{\"color\":\"#00cc96\",\"dash\":\"solid\"},\"marker\":{\"symbol\":\"circle\"},\"mode\":\"lines\",\"name\":\"OnePlus\",\"orientation\":\"h\",\"showlegend\":true,\"x\":[17967,17889,28448,39788,44875,44237,21974,27700,30990,30979,28388,35480,35480,25990,25990,35490,26990,35489,35999,54999,24999,22690,54830,22979,61899,22990,34499,35480,30990,23999,44990,54999,54999,50999,24999,24999,26990,33999,61899,47999,34990,48999,42999,32990,32990,35990,32999,39800,30999,30999,64999,54999,39800,30999,54999,64999,30999,34990,49989,39890,39999,48990,39998,49989,39999,39890,48990,43990,30990,53400,39990,54900,35499,35499,49800,47999,59798,59890,28047,27822,49999],\"xaxis\":\"x\",\"y\":[\"OnePlus\",\"OnePlus\",\"OnePlus\",\"OnePlus\",\"OnePlus\",\"OnePlus\",\"OnePlus\",\"OnePlus\",\"OnePlus\",\"OnePlus\",\"OnePlus\",\"OnePlus\",\"OnePlus\",\"OnePlus\",\"OnePlus\",\"OnePlus\",\"OnePlus\",\"OnePlus\",\"OnePlus\",\"OnePlus\",\"OnePlus\",\"OnePlus\",\"OnePlus\",\"OnePlus\",\"OnePlus\",\"OnePlus\",\"OnePlus\",\"OnePlus\",\"OnePlus\",\"OnePlus\",\"OnePlus\",\"OnePlus\",\"OnePlus\",\"OnePlus\",\"OnePlus\",\"OnePlus\",\"OnePlus\",\"OnePlus\",\"OnePlus\",\"OnePlus\",\"OnePlus\",\"OnePlus\",\"OnePlus\",\"OnePlus\",\"OnePlus\",\"OnePlus\",\"OnePlus\",\"OnePlus\",\"OnePlus\",\"OnePlus\",\"OnePlus\",\"OnePlus\",\"OnePlus\",\"OnePlus\",\"OnePlus\",\"OnePlus\",\"OnePlus\",\"OnePlus\",\"OnePlus\",\"OnePlus\",\"OnePlus\",\"OnePlus\",\"OnePlus\",\"OnePlus\",\"OnePlus\",\"OnePlus\",\"OnePlus\",\"OnePlus\",\"OnePlus\",\"OnePlus\",\"OnePlus\",\"OnePlus\",\"OnePlus\",\"OnePlus\",\"OnePlus\",\"OnePlus\",\"OnePlus\",\"OnePlus\",\"OnePlus\",\"OnePlus\",\"OnePlus\"],\"yaxis\":\"y\",\"type\":\"scatter\"},{\"hovertemplate\":\"brand=%{y}\\u003cbr\\u003eprice_processed=%{x}\\u003cextra\\u003e\\u003c\\u002fextra\\u003e\",\"legendgroup\":\"MOTOROLA\",\"line\":{\"color\":\"#ab63fa\",\"dash\":\"solid\"},\"marker\":{\"symbol\":\"circle\"},\"mode\":\"lines\",\"name\":\"MOTOROLA\",\"orientation\":\"h\",\"showlegend\":true,\"x\":[15499,15499,16999,16499,16499,16999,29999,21499,29999,21499,24999,24999,34999,34999,29999,49999,37999,27999,24999,24999,24999,44999,14999,14999,34999,34999],\"xaxis\":\"x\",\"y\":[\"MOTOROLA\",\"MOTOROLA\",\"MOTOROLA\",\"MOTOROLA\",\"MOTOROLA\",\"MOTOROLA\",\"MOTOROLA\",\"MOTOROLA\",\"MOTOROLA\",\"MOTOROLA\",\"MOTOROLA\",\"MOTOROLA\",\"MOTOROLA\",\"MOTOROLA\",\"MOTOROLA\",\"MOTOROLA\",\"MOTOROLA\",\"MOTOROLA\",\"MOTOROLA\",\"MOTOROLA\",\"MOTOROLA\",\"MOTOROLA\",\"MOTOROLA\",\"MOTOROLA\",\"MOTOROLA\",\"MOTOROLA\"],\"yaxis\":\"y\",\"type\":\"scatter\"},{\"hovertemplate\":\"brand=%{y}\\u003cbr\\u003eprice_processed=%{x}\\u003cextra\\u003e\\u003c\\u002fextra\\u003e\",\"legendgroup\":\"SAMSUNG\",\"line\":{\"color\":\"#FFA15A\",\"dash\":\"solid\"},\"marker\":{\"symbol\":\"circle\"},\"mode\":\"lines\",\"name\":\"SAMSUNG\",\"orientation\":\"h\",\"showlegend\":true,\"x\":[14490,14490,14490,16999,13490,13490,13490,32999,32999,16999,16999,16899,17217,32999,17217,32999,49999,27974,15810,17462,16182,18999,18999,18999,17462,34999,21999,16499,32999,21999,28929,32999,15999,20999,21999,30999,30999,32999,20999,16499,20999,12935,12935,15999,40999,20999,24385,32999,15999,27999,17599,15699,12838,16999,22999,17390,124999,164989,15480,49999,49999,30999,29999,14990,94999,38999,27880,12938,41999,27990,41999,27990,41999,35990,104999,23999,35990,94999,40999,31500,33499,18499,27990,27999,34999,30999,35999,87990,16999,30999,35999,87990,16999,39099,124999,104999,154989,20999,84999,31999,84999,35890,18900,39899,35890,14670,31800,32999,16489,15149,16299,38999,32999,16299,38999,115999,31999,31999,15812,40999,17660],\"xaxis\":\"x\",\"y\":[\"SAMSUNG\",\"SAMSUNG\",\"SAMSUNG\",\"SAMSUNG\",\"SAMSUNG\",\"SAMSUNG\",\"SAMSUNG\",\"SAMSUNG\",\"SAMSUNG\",\"SAMSUNG\",\"SAMSUNG\",\"SAMSUNG\",\"SAMSUNG\",\"SAMSUNG\",\"SAMSUNG\",\"SAMSUNG\",\"SAMSUNG\",\"SAMSUNG\",\"SAMSUNG\",\"SAMSUNG\",\"SAMSUNG\",\"SAMSUNG\",\"SAMSUNG\",\"SAMSUNG\",\"SAMSUNG\",\"SAMSUNG\",\"SAMSUNG\",\"SAMSUNG\",\"SAMSUNG\",\"SAMSUNG\",\"SAMSUNG\",\"SAMSUNG\",\"SAMSUNG\",\"SAMSUNG\",\"SAMSUNG\",\"SAMSUNG\",\"SAMSUNG\",\"SAMSUNG\",\"SAMSUNG\",\"SAMSUNG\",\"SAMSUNG\",\"SAMSUNG\",\"SAMSUNG\",\"SAMSUNG\",\"SAMSUNG\",\"SAMSUNG\",\"SAMSUNG\",\"SAMSUNG\",\"SAMSUNG\",\"SAMSUNG\",\"SAMSUNG\",\"SAMSUNG\",\"SAMSUNG\",\"SAMSUNG\",\"SAMSUNG\",\"SAMSUNG\",\"SAMSUNG\",\"SAMSUNG\",\"SAMSUNG\",\"SAMSUNG\",\"SAMSUNG\",\"SAMSUNG\",\"SAMSUNG\",\"SAMSUNG\",\"SAMSUNG\",\"SAMSUNG\",\"SAMSUNG\",\"SAMSUNG\",\"SAMSUNG\",\"SAMSUNG\",\"SAMSUNG\",\"SAMSUNG\",\"SAMSUNG\",\"SAMSUNG\",\"SAMSUNG\",\"SAMSUNG\",\"SAMSUNG\",\"SAMSUNG\",\"SAMSUNG\",\"SAMSUNG\",\"SAMSUNG\",\"SAMSUNG\",\"SAMSUNG\",\"SAMSUNG\",\"SAMSUNG\",\"SAMSUNG\",\"SAMSUNG\",\"SAMSUNG\",\"SAMSUNG\",\"SAMSUNG\",\"SAMSUNG\",\"SAMSUNG\",\"SAMSUNG\",\"SAMSUNG\",\"SAMSUNG\",\"SAMSUNG\",\"SAMSUNG\",\"SAMSUNG\",\"SAMSUNG\",\"SAMSUNG\",\"SAMSUNG\",\"SAMSUNG\",\"SAMSUNG\",\"SAMSUNG\",\"SAMSUNG\",\"SAMSUNG\",\"SAMSUNG\",\"SAMSUNG\",\"SAMSUNG\",\"SAMSUNG\",\"SAMSUNG\",\"SAMSUNG\",\"SAMSUNG\",\"SAMSUNG\",\"SAMSUNG\",\"SAMSUNG\",\"SAMSUNG\",\"SAMSUNG\",\"SAMSUNG\",\"SAMSUNG\",\"SAMSUNG\"],\"yaxis\":\"y\",\"type\":\"scatter\"},{\"hovertemplate\":\"brand=%{y}\\u003cbr\\u003eprice_processed=%{x}\\u003cextra\\u003e\\u003c\\u002fextra\\u003e\",\"legendgroup\":\"Infinix\",\"line\":{\"color\":\"#19d3f3\",\"dash\":\"solid\"},\"marker\":{\"symbol\":\"circle\"},\"mode\":\"lines\",\"name\":\"Infinix\",\"orientation\":\"h\",\"showlegend\":true,\"x\":[15999,15999,11499,11499,11499,13499,13499,15999,13499,15999,15999,17999,17999,17999,14999,14999,29999,29999,19999,19999,19999,19999],\"xaxis\":\"x\",\"y\":[\"Infinix\",\"Infinix\",\"Infinix\",\"Infinix\",\"Infinix\",\"Infinix\",\"Infinix\",\"Infinix\",\"Infinix\",\"Infinix\",\"Infinix\",\"Infinix\",\"Infinix\",\"Infinix\",\"Infinix\",\"Infinix\",\"Infinix\",\"Infinix\",\"Infinix\",\"Infinix\",\"Infinix\",\"Infinix\"],\"yaxis\":\"y\",\"type\":\"scatter\"},{\"hovertemplate\":\"brand=%{y}\\u003cbr\\u003eprice_processed=%{x}\\u003cextra\\u003e\\u003c\\u002fextra\\u003e\",\"legendgroup\":\"realme\",\"line\":{\"color\":\"#FF6692\",\"dash\":\"solid\"},\"marker\":{\"symbol\":\"circle\"},\"mode\":\"lines\",\"name\":\"realme\",\"orientation\":\"h\",\"showlegend\":true,\"x\":[18999,19999,18999,19999,19999,18999,23999,23999,16999,16999,16999,14999,14999,21999,21999,32299,17999,17999,23999,22999,22999,23999,22999,23999,21999,27999,18499,13499,21990,24999,24999,24999,22999,33999,19990,16499,27999,27999,19899,18999,35999,31999,35999,42999,29999,42999,29999,18999,27999,29999,29999,42999,29999,27999,42999,34999,36999,38999,34999,36999,42999,34999,36999,38999,38999,57999,49999,27999,49999,27999,24999,49999,49999,49999,49999],\"xaxis\":\"x\",\"y\":[\"realme\",\"realme\",\"realme\",\"realme\",\"realme\",\"realme\",\"realme\",\"realme\",\"realme\",\"realme\",\"realme\",\"realme\",\"realme\",\"realme\",\"realme\",\"realme\",\"realme\",\"realme\",\"realme\",\"realme\",\"realme\",\"realme\",\"realme\",\"realme\",\"realme\",\"realme\",\"realme\",\"realme\",\"realme\",\"realme\",\"realme\",\"realme\",\"realme\",\"realme\",\"realme\",\"realme\",\"realme\",\"realme\",\"realme\",\"realme\",\"realme\",\"realme\",\"realme\",\"realme\",\"realme\",\"realme\",\"realme\",\"realme\",\"realme\",\"realme\",\"realme\",\"realme\",\"realme\",\"realme\",\"realme\",\"realme\",\"realme\",\"realme\",\"realme\",\"realme\",\"realme\",\"realme\",\"realme\",\"realme\",\"realme\",\"realme\",\"realme\",\"realme\",\"realme\",\"realme\",\"realme\",\"realme\",\"realme\",\"realme\",\"realme\"],\"yaxis\":\"y\",\"type\":\"scatter\"},{\"hovertemplate\":\"brand=%{y}\\u003cbr\\u003eprice_processed=%{x}\\u003cextra\\u003e\\u003c\\u002fextra\\u003e\",\"legendgroup\":\"REDMI\",\"line\":{\"color\":\"#B6E880\",\"dash\":\"solid\"},\"marker\":{\"symbol\":\"circle\"},\"mode\":\"lines\",\"name\":\"REDMI\",\"orientation\":\"h\",\"showlegend\":true,\"x\":[18999,18999,18999,16999,16999,27990,23999,16999,23999,23999,29999,26999,23999,25999,26999,13896,25999,14905,15193,13896,13480,23999,32999,25999,32999,15307,25999,15193,32999,25999,23999,29990,14899,32999,26999,18500,15995,18999,18999,20996,16999,16999,14999,13999,17490,20000,20999,17990,17990,17999,17999,20999,20999,20999,20999,20999,20999,11999],\"xaxis\":\"x\",\"y\":[\"REDMI\",\"REDMI\",\"REDMI\",\"REDMI\",\"REDMI\",\"REDMI\",\"REDMI\",\"REDMI\",\"REDMI\",\"REDMI\",\"REDMI\",\"REDMI\",\"REDMI\",\"REDMI\",\"REDMI\",\"REDMI\",\"REDMI\",\"REDMI\",\"REDMI\",\"REDMI\",\"REDMI\",\"REDMI\",\"REDMI\",\"REDMI\",\"REDMI\",\"REDMI\",\"REDMI\",\"REDMI\",\"REDMI\",\"REDMI\",\"REDMI\",\"REDMI\",\"REDMI\",\"REDMI\",\"REDMI\",\"REDMI\",\"REDMI\",\"REDMI\",\"REDMI\",\"REDMI\",\"REDMI\",\"REDMI\",\"REDMI\",\"REDMI\",\"REDMI\",\"REDMI\",\"REDMI\",\"REDMI\",\"REDMI\",\"REDMI\",\"REDMI\",\"REDMI\",\"REDMI\",\"REDMI\",\"REDMI\",\"REDMI\",\"REDMI\",\"REDMI\"],\"yaxis\":\"y\",\"type\":\"scatter\"},{\"hovertemplate\":\"brand=%{y}\\u003cbr\\u003eprice_processed=%{x}\\u003cextra\\u003e\\u003c\\u002fextra\\u003e\",\"legendgroup\":\"Google\",\"line\":{\"color\":\"#FF97FF\",\"dash\":\"solid\"},\"marker\":{\"symbol\":\"circle\"},\"mode\":\"lines\",\"name\":\"Google\",\"orientation\":\"h\",\"showlegend\":true,\"x\":[28999,28999,43999,43999,43999,53999,53999,53999,75999,75999,75999],\"xaxis\":\"x\",\"y\":[\"Google\",\"Google\",\"Google\",\"Google\",\"Google\",\"Google\",\"Google\",\"Google\",\"Google\",\"Google\",\"Google\"],\"yaxis\":\"y\",\"type\":\"scatter\"},{\"hovertemplate\":\"brand=%{y}\\u003cbr\\u003eprice_processed=%{x}\\u003cextra\\u003e\\u003c\\u002fextra\\u003e\",\"legendgroup\":\"IQOO\",\"line\":{\"color\":\"#FECB52\",\"dash\":\"solid\"},\"marker\":{\"symbol\":\"circle\"},\"mode\":\"lines\",\"name\":\"IQOO\",\"orientation\":\"h\",\"showlegend\":true,\"x\":[15995,15217,14295,16495,15322,15749,15990,34592,29990,30999,34657,33990,49499,13799,15999,16990,19290,31990,16990,23790,28390],\"xaxis\":\"x\",\"y\":[\"IQOO\",\"IQOO\",\"IQOO\",\"IQOO\",\"IQOO\",\"IQOO\",\"IQOO\",\"IQOO\",\"IQOO\",\"IQOO\",\"IQOO\",\"IQOO\",\"IQOO\",\"IQOO\",\"IQOO\",\"IQOO\",\"IQOO\",\"IQOO\",\"IQOO\",\"IQOO\",\"IQOO\"],\"yaxis\":\"y\",\"type\":\"scatter\"},{\"hovertemplate\":\"brand=%{y}\\u003cbr\\u003eprice_processed=%{x}\\u003cextra\\u003e\\u003c\\u002fextra\\u003e\",\"legendgroup\":\"OPPO\",\"line\":{\"color\":\"#636efa\",\"dash\":\"solid\"},\"marker\":{\"symbol\":\"circle\"},\"mode\":\"lines\",\"name\":\"OPPO\",\"orientation\":\"h\",\"showlegend\":true,\"x\":[29999,29999,18680,18570,23799,23799,26495,18989,29999,29999,17499,17499,17499,19449,35990,89999,35990,89999,24490,20890,24490,23900,23300],\"xaxis\":\"x\",\"y\":[\"OPPO\",\"OPPO\",\"OPPO\",\"OPPO\",\"OPPO\",\"OPPO\",\"OPPO\",\"OPPO\",\"OPPO\",\"OPPO\",\"OPPO\",\"OPPO\",\"OPPO\",\"OPPO\",\"OPPO\",\"OPPO\",\"OPPO\",\"OPPO\",\"OPPO\",\"OPPO\",\"OPPO\",\"OPPO\",\"OPPO\"],\"yaxis\":\"y\",\"type\":\"scatter\"},{\"hovertemplate\":\"brand=%{y}\\u003cbr\\u003eprice_processed=%{x}\\u003cextra\\u003e\\u003c\\u002fextra\\u003e\",\"legendgroup\":\"Nothing\",\"line\":{\"color\":\"#EF553B\",\"dash\":\"solid\"},\"marker\":{\"symbol\":\"circle\"},\"mode\":\"lines\",\"name\":\"Nothing\",\"orientation\":\"h\",\"showlegend\":true,\"x\":[30999,30499,29499],\"xaxis\":\"x\",\"y\":[\"Nothing\",\"Nothing\",\"Nothing\"],\"yaxis\":\"y\",\"type\":\"scatter\"},{\"hovertemplate\":\"brand=%{y}\\u003cbr\\u003eprice_processed=%{x}\\u003cextra\\u003e\\u003c\\u002fextra\\u003e\",\"legendgroup\":\"Xiaomi\",\"line\":{\"color\":\"#00cc96\",\"dash\":\"solid\"},\"marker\":{\"symbol\":\"circle\"},\"mode\":\"lines\",\"name\":\"Xiaomi\",\"orientation\":\"h\",\"showlegend\":true,\"x\":[21990,23999,21990,23999,25990,47499,26999,23999,23999,24990,24450,47999,46990,31990,31990,31990,22200,24499,26999,24990,24499,26999,24990,47499,42990,42990],\"xaxis\":\"x\",\"y\":[\"Xiaomi\",\"Xiaomi\",\"Xiaomi\",\"Xiaomi\",\"Xiaomi\",\"Xiaomi\",\"Xiaomi\",\"Xiaomi\",\"Xiaomi\",\"Xiaomi\",\"Xiaomi\",\"Xiaomi\",\"Xiaomi\",\"Xiaomi\",\"Xiaomi\",\"Xiaomi\",\"Xiaomi\",\"Xiaomi\",\"Xiaomi\",\"Xiaomi\",\"Xiaomi\",\"Xiaomi\",\"Xiaomi\",\"Xiaomi\",\"Xiaomi\",\"Xiaomi\"],\"yaxis\":\"y\",\"type\":\"scatter\"},{\"hovertemplate\":\"brand=%{y}\\u003cbr\\u003eprice_processed=%{x}\\u003cextra\\u003e\\u003c\\u002fextra\\u003e\",\"legendgroup\":\"Tecno\",\"line\":{\"color\":\"#ab63fa\",\"dash\":\"solid\"},\"marker\":{\"symbol\":\"circle\"},\"mode\":\"lines\",\"name\":\"Tecno\",\"orientation\":\"h\",\"showlegend\":true,\"x\":[36999,44997,15799,15499,15499,15999,15999,44999,13999,13999,19999,13190,12998,12499,88888],\"xaxis\":\"x\",\"y\":[\"Tecno\",\"Tecno\",\"Tecno\",\"Tecno\",\"Tecno\",\"Tecno\",\"Tecno\",\"Tecno\",\"Tecno\",\"Tecno\",\"Tecno\",\"Tecno\",\"Tecno\",\"Tecno\",\"Tecno\"],\"yaxis\":\"y\",\"type\":\"scatter\"},{\"hovertemplate\":\"brand=%{y}\\u003cbr\\u003eprice_processed=%{x}\\u003cextra\\u003e\\u003c\\u002fextra\\u003e\",\"legendgroup\":\"Moto\",\"line\":{\"color\":\"#FFA15A\",\"dash\":\"solid\"},\"marker\":{\"symbol\":\"circle\"},\"mode\":\"lines\",\"name\":\"Moto\",\"orientation\":\"h\",\"showlegend\":true,\"x\":[18890,18890],\"xaxis\":\"x\",\"y\":[\"Moto\",\"Moto\"],\"yaxis\":\"y\",\"type\":\"scatter\"},{\"hovertemplate\":\"brand=%{y}\\u003cbr\\u003eprice_processed=%{x}\\u003cextra\\u003e\\u003c\\u002fextra\\u003e\",\"legendgroup\":\"Mi\",\"line\":{\"color\":\"#19d3f3\",\"dash\":\"solid\"},\"marker\":{\"symbol\":\"circle\"},\"mode\":\"lines\",\"name\":\"Mi\",\"orientation\":\"h\",\"showlegend\":true,\"x\":[23999,23999,24996,34499,28190,23990,23890,27990,24490],\"xaxis\":\"x\",\"y\":[\"Mi\",\"Mi\",\"Mi\",\"Mi\",\"Mi\",\"Mi\",\"Mi\",\"Mi\",\"Mi\"],\"yaxis\":\"y\",\"type\":\"scatter\"},{\"hovertemplate\":\"brand=%{y}\\u003cbr\\u003eprice_processed=%{x}\\u003cextra\\u003e\\u003c\\u002fextra\\u003e\",\"legendgroup\":\"ASUS\",\"line\":{\"color\":\"#FF6692\",\"dash\":\"solid\"},\"marker\":{\"symbol\":\"circle\"},\"mode\":\"lines\",\"name\":\"ASUS\",\"orientation\":\"h\",\"showlegend\":true,\"x\":[57999],\"xaxis\":\"x\",\"y\":[\"ASUS\"],\"yaxis\":\"y\",\"type\":\"scatter\"},{\"hovertemplate\":\"brand=%{y}\\u003cbr\\u003eprice_processed=%{x}\\u003cextra\\u003e\\u003c\\u002fextra\\u003e\",\"legendgroup\":\"HTC\",\"line\":{\"color\":\"#B6E880\",\"dash\":\"solid\"},\"marker\":{\"symbol\":\"circle\"},\"mode\":\"lines\",\"name\":\"HTC\",\"orientation\":\"h\",\"showlegend\":true,\"x\":[16999],\"xaxis\":\"x\",\"y\":[\"HTC\"],\"yaxis\":\"y\",\"type\":\"scatter\"}],                        {\"template\":{\"data\":{\"histogram2dcontour\":[{\"type\":\"histogram2dcontour\",\"colorbar\":{\"outlinewidth\":0,\"ticks\":\"\"},\"colorscale\":[[0.0,\"#0d0887\"],[0.1111111111111111,\"#46039f\"],[0.2222222222222222,\"#7201a8\"],[0.3333333333333333,\"#9c179e\"],[0.4444444444444444,\"#bd3786\"],[0.5555555555555556,\"#d8576b\"],[0.6666666666666666,\"#ed7953\"],[0.7777777777777778,\"#fb9f3a\"],[0.8888888888888888,\"#fdca26\"],[1.0,\"#f0f921\"]]}],\"choropleth\":[{\"type\":\"choropleth\",\"colorbar\":{\"outlinewidth\":0,\"ticks\":\"\"}}],\"histogram2d\":[{\"type\":\"histogram2d\",\"colorbar\":{\"outlinewidth\":0,\"ticks\":\"\"},\"colorscale\":[[0.0,\"#0d0887\"],[0.1111111111111111,\"#46039f\"],[0.2222222222222222,\"#7201a8\"],[0.3333333333333333,\"#9c179e\"],[0.4444444444444444,\"#bd3786\"],[0.5555555555555556,\"#d8576b\"],[0.6666666666666666,\"#ed7953\"],[0.7777777777777778,\"#fb9f3a\"],[0.8888888888888888,\"#fdca26\"],[1.0,\"#f0f921\"]]}],\"heatmap\":[{\"type\":\"heatmap\",\"colorbar\":{\"outlinewidth\":0,\"ticks\":\"\"},\"colorscale\":[[0.0,\"#0d0887\"],[0.1111111111111111,\"#46039f\"],[0.2222222222222222,\"#7201a8\"],[0.3333333333333333,\"#9c179e\"],[0.4444444444444444,\"#bd3786\"],[0.5555555555555556,\"#d8576b\"],[0.6666666666666666,\"#ed7953\"],[0.7777777777777778,\"#fb9f3a\"],[0.8888888888888888,\"#fdca26\"],[1.0,\"#f0f921\"]]}],\"heatmapgl\":[{\"type\":\"heatmapgl\",\"colorbar\":{\"outlinewidth\":0,\"ticks\":\"\"},\"colorscale\":[[0.0,\"#0d0887\"],[0.1111111111111111,\"#46039f\"],[0.2222222222222222,\"#7201a8\"],[0.3333333333333333,\"#9c179e\"],[0.4444444444444444,\"#bd3786\"],[0.5555555555555556,\"#d8576b\"],[0.6666666666666666,\"#ed7953\"],[0.7777777777777778,\"#fb9f3a\"],[0.8888888888888888,\"#fdca26\"],[1.0,\"#f0f921\"]]}],\"contourcarpet\":[{\"type\":\"contourcarpet\",\"colorbar\":{\"outlinewidth\":0,\"ticks\":\"\"}}],\"contour\":[{\"type\":\"contour\",\"colorbar\":{\"outlinewidth\":0,\"ticks\":\"\"},\"colorscale\":[[0.0,\"#0d0887\"],[0.1111111111111111,\"#46039f\"],[0.2222222222222222,\"#7201a8\"],[0.3333333333333333,\"#9c179e\"],[0.4444444444444444,\"#bd3786\"],[0.5555555555555556,\"#d8576b\"],[0.6666666666666666,\"#ed7953\"],[0.7777777777777778,\"#fb9f3a\"],[0.8888888888888888,\"#fdca26\"],[1.0,\"#f0f921\"]]}],\"surface\":[{\"type\":\"surface\",\"colorbar\":{\"outlinewidth\":0,\"ticks\":\"\"},\"colorscale\":[[0.0,\"#0d0887\"],[0.1111111111111111,\"#46039f\"],[0.2222222222222222,\"#7201a8\"],[0.3333333333333333,\"#9c179e\"],[0.4444444444444444,\"#bd3786\"],[0.5555555555555556,\"#d8576b\"],[0.6666666666666666,\"#ed7953\"],[0.7777777777777778,\"#fb9f3a\"],[0.8888888888888888,\"#fdca26\"],[1.0,\"#f0f921\"]]}],\"mesh3d\":[{\"type\":\"mesh3d\",\"colorbar\":{\"outlinewidth\":0,\"ticks\":\"\"}}],\"scatter\":[{\"fillpattern\":{\"fillmode\":\"overlay\",\"size\":10,\"solidity\":0.2},\"type\":\"scatter\"}],\"parcoords\":[{\"type\":\"parcoords\",\"line\":{\"colorbar\":{\"outlinewidth\":0,\"ticks\":\"\"}}}],\"scatterpolargl\":[{\"type\":\"scatterpolargl\",\"marker\":{\"colorbar\":{\"outlinewidth\":0,\"ticks\":\"\"}}}],\"bar\":[{\"error_x\":{\"color\":\"#2a3f5f\"},\"error_y\":{\"color\":\"#2a3f5f\"},\"marker\":{\"line\":{\"color\":\"#E5ECF6\",\"width\":0.5},\"pattern\":{\"fillmode\":\"overlay\",\"size\":10,\"solidity\":0.2}},\"type\":\"bar\"}],\"scattergeo\":[{\"type\":\"scattergeo\",\"marker\":{\"colorbar\":{\"outlinewidth\":0,\"ticks\":\"\"}}}],\"scatterpolar\":[{\"type\":\"scatterpolar\",\"marker\":{\"colorbar\":{\"outlinewidth\":0,\"ticks\":\"\"}}}],\"histogram\":[{\"marker\":{\"pattern\":{\"fillmode\":\"overlay\",\"size\":10,\"solidity\":0.2}},\"type\":\"histogram\"}],\"scattergl\":[{\"type\":\"scattergl\",\"marker\":{\"colorbar\":{\"outlinewidth\":0,\"ticks\":\"\"}}}],\"scatter3d\":[{\"type\":\"scatter3d\",\"line\":{\"colorbar\":{\"outlinewidth\":0,\"ticks\":\"\"}},\"marker\":{\"colorbar\":{\"outlinewidth\":0,\"ticks\":\"\"}}}],\"scattermapbox\":[{\"type\":\"scattermapbox\",\"marker\":{\"colorbar\":{\"outlinewidth\":0,\"ticks\":\"\"}}}],\"scatterternary\":[{\"type\":\"scatterternary\",\"marker\":{\"colorbar\":{\"outlinewidth\":0,\"ticks\":\"\"}}}],\"scattercarpet\":[{\"type\":\"scattercarpet\",\"marker\":{\"colorbar\":{\"outlinewidth\":0,\"ticks\":\"\"}}}],\"carpet\":[{\"aaxis\":{\"endlinecolor\":\"#2a3f5f\",\"gridcolor\":\"white\",\"linecolor\":\"white\",\"minorgridcolor\":\"white\",\"startlinecolor\":\"#2a3f5f\"},\"baxis\":{\"endlinecolor\":\"#2a3f5f\",\"gridcolor\":\"white\",\"linecolor\":\"white\",\"minorgridcolor\":\"white\",\"startlinecolor\":\"#2a3f5f\"},\"type\":\"carpet\"}],\"table\":[{\"cells\":{\"fill\":{\"color\":\"#EBF0F8\"},\"line\":{\"color\":\"white\"}},\"header\":{\"fill\":{\"color\":\"#C8D4E3\"},\"line\":{\"color\":\"white\"}},\"type\":\"table\"}],\"barpolar\":[{\"marker\":{\"line\":{\"color\":\"#E5ECF6\",\"width\":0.5},\"pattern\":{\"fillmode\":\"overlay\",\"size\":10,\"solidity\":0.2}},\"type\":\"barpolar\"}],\"pie\":[{\"automargin\":true,\"type\":\"pie\"}]},\"layout\":{\"autotypenumbers\":\"strict\",\"colorway\":[\"#636efa\",\"#EF553B\",\"#00cc96\",\"#ab63fa\",\"#FFA15A\",\"#19d3f3\",\"#FF6692\",\"#B6E880\",\"#FF97FF\",\"#FECB52\"],\"font\":{\"color\":\"#2a3f5f\"},\"hovermode\":\"closest\",\"hoverlabel\":{\"align\":\"left\"},\"paper_bgcolor\":\"white\",\"plot_bgcolor\":\"#E5ECF6\",\"polar\":{\"bgcolor\":\"#E5ECF6\",\"angularaxis\":{\"gridcolor\":\"white\",\"linecolor\":\"white\",\"ticks\":\"\"},\"radialaxis\":{\"gridcolor\":\"white\",\"linecolor\":\"white\",\"ticks\":\"\"}},\"ternary\":{\"bgcolor\":\"#E5ECF6\",\"aaxis\":{\"gridcolor\":\"white\",\"linecolor\":\"white\",\"ticks\":\"\"},\"baxis\":{\"gridcolor\":\"white\",\"linecolor\":\"white\",\"ticks\":\"\"},\"caxis\":{\"gridcolor\":\"white\",\"linecolor\":\"white\",\"ticks\":\"\"}},\"coloraxis\":{\"colorbar\":{\"outlinewidth\":0,\"ticks\":\"\"}},\"colorscale\":{\"sequential\":[[0.0,\"#0d0887\"],[0.1111111111111111,\"#46039f\"],[0.2222222222222222,\"#7201a8\"],[0.3333333333333333,\"#9c179e\"],[0.4444444444444444,\"#bd3786\"],[0.5555555555555556,\"#d8576b\"],[0.6666666666666666,\"#ed7953\"],[0.7777777777777778,\"#fb9f3a\"],[0.8888888888888888,\"#fdca26\"],[1.0,\"#f0f921\"]],\"sequentialminus\":[[0.0,\"#0d0887\"],[0.1111111111111111,\"#46039f\"],[0.2222222222222222,\"#7201a8\"],[0.3333333333333333,\"#9c179e\"],[0.4444444444444444,\"#bd3786\"],[0.5555555555555556,\"#d8576b\"],[0.6666666666666666,\"#ed7953\"],[0.7777777777777778,\"#fb9f3a\"],[0.8888888888888888,\"#fdca26\"],[1.0,\"#f0f921\"]],\"diverging\":[[0,\"#8e0152\"],[0.1,\"#c51b7d\"],[0.2,\"#de77ae\"],[0.3,\"#f1b6da\"],[0.4,\"#fde0ef\"],[0.5,\"#f7f7f7\"],[0.6,\"#e6f5d0\"],[0.7,\"#b8e186\"],[0.8,\"#7fbc41\"],[0.9,\"#4d9221\"],[1,\"#276419\"]]},\"xaxis\":{\"gridcolor\":\"white\",\"linecolor\":\"white\",\"ticks\":\"\",\"title\":{\"standoff\":15},\"zerolinecolor\":\"white\",\"automargin\":true,\"zerolinewidth\":2},\"yaxis\":{\"gridcolor\":\"white\",\"linecolor\":\"white\",\"ticks\":\"\",\"title\":{\"standoff\":15},\"zerolinecolor\":\"white\",\"automargin\":true,\"zerolinewidth\":2},\"scene\":{\"xaxis\":{\"backgroundcolor\":\"#E5ECF6\",\"gridcolor\":\"white\",\"linecolor\":\"white\",\"showbackground\":true,\"ticks\":\"\",\"zerolinecolor\":\"white\",\"gridwidth\":2},\"yaxis\":{\"backgroundcolor\":\"#E5ECF6\",\"gridcolor\":\"white\",\"linecolor\":\"white\",\"showbackground\":true,\"ticks\":\"\",\"zerolinecolor\":\"white\",\"gridwidth\":2},\"zaxis\":{\"backgroundcolor\":\"#E5ECF6\",\"gridcolor\":\"white\",\"linecolor\":\"white\",\"showbackground\":true,\"ticks\":\"\",\"zerolinecolor\":\"white\",\"gridwidth\":2}},\"shapedefaults\":{\"line\":{\"color\":\"#2a3f5f\"}},\"annotationdefaults\":{\"arrowcolor\":\"#2a3f5f\",\"arrowhead\":0,\"arrowwidth\":1},\"geo\":{\"bgcolor\":\"white\",\"landcolor\":\"#E5ECF6\",\"subunitcolor\":\"white\",\"showland\":true,\"showlakes\":true,\"lakecolor\":\"white\"},\"title\":{\"x\":0.05},\"mapbox\":{\"style\":\"light\"}}},\"xaxis\":{\"anchor\":\"y\",\"domain\":[0.0,1.0],\"title\":{\"text\":\"price_processed\"}},\"yaxis\":{\"anchor\":\"x\",\"domain\":[0.0,1.0],\"title\":{\"text\":\"brand\"},\"categoryorder\":\"array\",\"categoryarray\":[\"HTC\",\"ASUS\",\"Mi\",\"Moto\",\"Tecno\",\"Xiaomi\",\"Nothing\",\"OPPO\",\"IQOO\",\"Google\",\"REDMI\",\"realme\",\"Infinix\",\"SAMSUNG\",\"MOTOROLA\",\"OnePlus\",\"POCO\",\"vivo\"]},\"legend\":{\"title\":{\"text\":\"brand\"},\"tracegroupgap\":0},\"title\":{\"text\":\"Price Distribution of Brands\"}},                        {\"responsive\": true}                    ).then(function(){\n",
       "                            \n",
       "var gd = document.getElementById('b130a056-bfca-4ac7-9f67-882958d4902a');\n",
       "var x = new MutationObserver(function (mutations, observer) {{\n",
       "        var display = window.getComputedStyle(gd).display;\n",
       "        if (!display || display === 'none') {{\n",
       "            console.log([gd, 'removed!']);\n",
       "            Plotly.purge(gd);\n",
       "            observer.disconnect();\n",
       "        }}\n",
       "}});\n",
       "\n",
       "// Listen for the removal of the full notebook cells\n",
       "var notebookContainer = gd.closest('#notebook-container');\n",
       "if (notebookContainer) {{\n",
       "    x.observe(notebookContainer, {childList: true});\n",
       "}}\n",
       "\n",
       "// Listen for the clearing of the current output cell\n",
       "var outputEl = gd.closest('.output');\n",
       "if (outputEl) {{\n",
       "    x.observe(outputEl, {childList: true});\n",
       "}}\n",
       "\n",
       "                        })                };                });            </script>        </div>"
      ]
     },
     "metadata": {},
     "output_type": "display_data"
    }
   ],
   "source": [
    "fig = px.line(df, y=\"brand\",x=\"price_processed\",color=\"brand\",title=\"Price Distribution of Brands\")\n",
    "fig.show()"
   ]
  },
  {
   "cell_type": "code",
   "execution_count": null,
   "id": "e77e6372",
   "metadata": {},
   "outputs": [],
   "source": []
  }
 ],
 "metadata": {
  "kernelspec": {
   "display_name": "Python 3 (ipykernel)",
   "language": "python",
   "name": "python3"
  },
  "language_info": {
   "codemirror_mode": {
    "name": "ipython",
    "version": 3
   },
   "file_extension": ".py",
   "mimetype": "text/x-python",
   "name": "python",
   "nbconvert_exporter": "python",
   "pygments_lexer": "ipython3",
   "version": "3.10.11"
  }
 },
 "nbformat": 4,
 "nbformat_minor": 5
}
